{
 "cells": [
  {
   "cell_type": "code",
   "execution_count": 1,
   "id": "508ba938-7f91-42c5-b298-9ecf7d47d194",
   "metadata": {},
   "outputs": [
    {
     "name": "stdout",
     "output_type": "stream",
     "text": [
      "i am aditya\n"
     ]
    }
   ],
   "source": [
    "print('i am aditya')"
   ]
  },
  {
   "cell_type": "markdown",
   "id": "e890629b-305b-4822-b0cd-7bc40068559a",
   "metadata": {},
   "source": [
    "# COMMENTS\n",
    "* topic 1\n",
    "* topic 2\n",
    "* topic 3"
   ]
  },
  {
   "cell_type": "code",
   "execution_count": 6,
   "id": "c21202da-9351-49ff-8f9e-d91cd8b9e55b",
   "metadata": {},
   "outputs": [
    {
     "name": "stdout",
     "output_type": "stream",
     "text": [
      "Something\n"
     ]
    }
   ],
   "source": [
    "# This is a comments\n",
    "print('Something') # using print function"
   ]
  },
  {
   "cell_type": "code",
   "execution_count": 8,
   "id": "92630477-a225-4eb3-8202-613a017419c4",
   "metadata": {},
   "outputs": [
    {
     "name": "stdout",
     "output_type": "stream",
     "text": [
      "anything\n"
     ]
    }
   ],
   "source": [
    "'''\n",
    "This ia a cow \n",
    "this is a dog \n",
    "'''\n",
    "print('anything')"
   ]
  },
  {
   "cell_type": "code",
   "execution_count": 10,
   "id": "9d4134ac-d621-463e-9c47-51aabe2f1840",
   "metadata": {},
   "outputs": [
    {
     "name": "stdout",
     "output_type": "stream",
     "text": [
      "8\n"
     ]
    }
   ],
   "source": [
    "x=8\n",
    "print(x)"
   ]
  },
  {
   "cell_type": "code",
   "execution_count": 12,
   "id": "7a5887ee-5d37-4c68-9daa-018e77d5a4ae",
   "metadata": {},
   "outputs": [
    {
     "name": "stdout",
     "output_type": "stream",
     "text": [
      "aditya\n"
     ]
    }
   ],
   "source": [
    "name= 'aditya'\n",
    "print(name)"
   ]
  },
  {
   "cell_type": "code",
   "execution_count": 14,
   "id": "da4ef6cb-0e0c-49b7-a15f-824865f1fe5f",
   "metadata": {},
   "outputs": [
    {
     "name": "stdout",
     "output_type": "stream",
     "text": [
      "my name is aditya\n"
     ]
    }
   ],
   "source": [
    "name= 'aditya'\n",
    "print('my name is',name)"
   ]
  },
  {
   "cell_type": "code",
   "execution_count": 18,
   "id": "3fa75ea6-8170-4ce9-ba1b-efb147d1471c",
   "metadata": {},
   "outputs": [
    {
     "name": "stdin",
     "output_type": "stream",
     "text": [
      "enter your name:  aditya\n",
      "enter your age:  19\n"
     ]
    },
    {
     "name": "stdout",
     "output_type": "stream",
     "text": [
      "my name is aditya my age is 19 years old\n"
     ]
    }
   ],
   "source": [
    "name= input('enter your name: ')\n",
    "age= input('enter your age: ')\n",
    "print('my name is',name,'my age is', age, 'years old')\n"
   ]
  },
  {
   "cell_type": "code",
   "execution_count": 40,
   "id": "db7efd38-e20c-4864-bcc5-e9f9fab3da3c",
   "metadata": {},
   "outputs": [
    {
     "name": "stdout",
     "output_type": "stream",
     "text": [
      "my name is fghj and i am 234 yaers old\n"
     ]
    }
   ],
   "source": [
    "print('my name is {} and i am {} yaers old'.format(name,age))\n",
    "    "
   ]
  },
  {
   "cell_type": "code",
   "execution_count": 20,
   "id": "cd8af838-3a0d-42b3-afb4-57d6254f7c6e",
   "metadata": {},
   "outputs": [
    {
     "name": "stdout",
     "output_type": "stream",
     "text": [
      "443.576\n"
     ]
    }
   ],
   "source": [
    "radius =8.9\n",
    "pi = 5.6\n",
    "area = pi * radius ** 2\n",
    "print(area)"
   ]
  },
  {
   "cell_type": "code",
   "execution_count": 22,
   "id": "6a57dc01-8c0a-4409-937b-edfeb852c687",
   "metadata": {},
   "outputs": [
    {
     "name": "stdout",
     "output_type": "stream",
     "text": [
      "962.5\n"
     ]
    }
   ],
   "source": [
    "base = 35\n",
    "height = 55\n",
    "area = 0.5 * base * height\n",
    "print(area)"
   ]
  },
  {
   "cell_type": "code",
   "execution_count": 24,
   "id": "c8508e53-b424-4603-a9b5-65b6e7848fab",
   "metadata": {},
   "outputs": [
    {
     "name": "stdout",
     "output_type": "stream",
     "text": [
      "5\n",
      "8\n",
      "9\n"
     ]
    }
   ],
   "source": [
    "x , y , z = 5,8,9\n",
    "print(x)\n",
    "print(y)\n",
    "print(z)"
   ]
  },
  {
   "cell_type": "markdown",
   "id": "648c1d57-5dd5-4b88-81f4-98a1ea0641be",
   "metadata": {},
   "source": [
    "# Data type"
   ]
  },
  {
   "cell_type": "markdown",
   "id": "ca1c3e53-4c73-46b2-b2a4-a1ff11c978f8",
   "metadata": {},
   "source": [
    "## Numeric"
   ]
  },
  {
   "cell_type": "code",
   "execution_count": 28,
   "id": "abeb376c-451c-4c87-a7af-e7ec4fd2a5dc",
   "metadata": {},
   "outputs": [
    {
     "name": "stdout",
     "output_type": "stream",
     "text": [
      "8\n"
     ]
    },
    {
     "data": {
      "text/plain": [
       "int"
      ]
     },
     "execution_count": 28,
     "metadata": {},
     "output_type": "execute_result"
    }
   ],
   "source": [
    "# int\n",
    "x = 8\n",
    "print(x)\n",
    "type(x)"
   ]
  },
  {
   "cell_type": "code",
   "execution_count": 30,
   "id": "424b436a-926f-4ca4-9476-9947360c9ec9",
   "metadata": {},
   "outputs": [
    {
     "name": "stdout",
     "output_type": "stream",
     "text": [
      "5.6\n"
     ]
    },
    {
     "data": {
      "text/plain": [
       "float"
      ]
     },
     "execution_count": 30,
     "metadata": {},
     "output_type": "execute_result"
    }
   ],
   "source": [
    "y = 5.6\n",
    "print(y)\n",
    "type(y)"
   ]
  },
  {
   "cell_type": "code",
   "execution_count": 32,
   "id": "0bb58d7c-7a89-443e-8388-1fab9f25f88e",
   "metadata": {},
   "outputs": [
    {
     "name": "stdout",
     "output_type": "stream",
     "text": [
      "(5+3j)\n"
     ]
    },
    {
     "data": {
      "text/plain": [
       "complex"
      ]
     },
     "execution_count": 32,
     "metadata": {},
     "output_type": "execute_result"
    }
   ],
   "source": [
    "z = 5 + 3j\n",
    "print(z)\n",
    "type(z)"
   ]
  },
  {
   "cell_type": "markdown",
   "id": "8558903c-bb2a-415f-9e82-5ea9326120ab",
   "metadata": {},
   "source": [
    "# Boolean"
   ]
  },
  {
   "cell_type": "code",
   "execution_count": 35,
   "id": "5f85fd0e-4b22-4247-8601-9efe4071fe2a",
   "metadata": {},
   "outputs": [
    {
     "data": {
      "text/plain": [
       "bool"
      ]
     },
     "execution_count": 35,
     "metadata": {},
     "output_type": "execute_result"
    }
   ],
   "source": [
    "a = True\n",
    "type(a)"
   ]
  },
  {
   "cell_type": "code",
   "execution_count": 37,
   "id": "eea18dc2-9c61-47dd-9bee-6e4dbd32b5ef",
   "metadata": {},
   "outputs": [
    {
     "name": "stdout",
     "output_type": "stream",
     "text": [
      "<class 'bool'>\n"
     ]
    }
   ],
   "source": [
    "b = False \n",
    "print(type(b))"
   ]
  },
  {
   "cell_type": "markdown",
   "id": "eb6ca6a9-5ab1-4535-bff3-45bf557963b7",
   "metadata": {},
   "source": [
    "p = 5 > 3\n",
    "type(p)"
   ]
  },
  {
   "cell_type": "code",
   "execution_count": 40,
   "id": "d348579a-f15f-45fb-9f73-9c0d6487ac53",
   "metadata": {},
   "outputs": [
    {
     "ename": "NameError",
     "evalue": "name 'p' is not defined",
     "output_type": "error",
     "traceback": [
      "\u001b[1;31m---------------------------------------------------------------------------\u001b[0m",
      "\u001b[1;31mNameError\u001b[0m                                 Traceback (most recent call last)",
      "Cell \u001b[1;32mIn[40], line 1\u001b[0m\n\u001b[1;32m----> 1\u001b[0m p\n",
      "\u001b[1;31mNameError\u001b[0m: name 'p' is not defined"
     ]
    }
   ],
   "source": [
    "p "
   ]
  },
  {
   "cell_type": "code",
   "execution_count": null,
   "id": "a9b03a28-dbb8-4a0a-a10a-13ac4ca19a2a",
   "metadata": {},
   "outputs": [],
   "source": [
    "x = 2\n",
    "y = 3\n",
    "print(x)\n",
    "print(y)"
   ]
  },
  {
   "cell_type": "markdown",
   "id": "b76444c4-0c7d-4ade-aad4-d7f3e51a6c6d",
   "metadata": {},
   "source": [
    "# set"
   ]
  },
  {
   "cell_type": "code",
   "execution_count": 44,
   "id": "d5d9e182-ceba-4e41-8a4c-191958d912cf",
   "metadata": {},
   "outputs": [
    {
     "name": "stdout",
     "output_type": "stream",
     "text": [
      "{0, 1, 2, 3, 4, 5, 6, 7, 8, 9}\n"
     ]
    },
    {
     "data": {
      "text/plain": [
       "set"
      ]
     },
     "execution_count": 44,
     "metadata": {},
     "output_type": "execute_result"
    }
   ],
   "source": [
    "s = {1,2,3,4,5,6,7,8,9,0,8,8,7,6,5,5,5,4}\n",
    "print(s)\n",
    "type(s)"
   ]
  },
  {
   "cell_type": "code",
   "execution_count": 46,
   "id": "0fe97dba-96a3-40a1-aa4c-842217980b5e",
   "metadata": {},
   "outputs": [
    {
     "data": {
      "text/plain": [
       "{'aditya', 'shubham', 'vikash'}"
      ]
     },
     "execution_count": 46,
     "metadata": {},
     "output_type": "execute_result"
    }
   ],
   "source": [
    "sl = {'aditya','shubham','vikash','shubham','aditya','vikash'}\n",
    "sl"
   ]
  },
  {
   "cell_type": "code",
   "execution_count": 48,
   "id": "aa22a694-a226-4a9c-888f-4e75e41d3dd3",
   "metadata": {},
   "outputs": [
    {
     "name": "stdout",
     "output_type": "stream",
     "text": [
      "aditya\n"
     ]
    }
   ],
   "source": [
    "name = 'aditya'\n",
    "print(name)"
   ]
  },
  {
   "cell_type": "code",
   "execution_count": 50,
   "id": "e0d81f7f-3883-4189-b273-c47c73db9899",
   "metadata": {},
   "outputs": [
    {
     "data": {
      "text/plain": [
       "'aditya'"
      ]
     },
     "execution_count": 50,
     "metadata": {},
     "output_type": "execute_result"
    }
   ],
   "source": [
    "name"
   ]
  },
  {
   "cell_type": "code",
   "execution_count": 52,
   "id": "7692f339-a6bc-435f-812f-055dd9e1a653",
   "metadata": {},
   "outputs": [
    {
     "data": {
      "text/plain": [
       "set()"
      ]
     },
     "execution_count": 52,
     "metadata": {},
     "output_type": "execute_result"
    }
   ],
   "source": [
    "s2 = set()\n",
    "s2"
   ]
  },
  {
   "cell_type": "markdown",
   "id": "6a51e1b0-4503-4ac5-97eb-63dc947194ac",
   "metadata": {},
   "source": [
    "# Dictionary"
   ]
  },
  {
   "cell_type": "code",
   "execution_count": 55,
   "id": "5b5bafef-90ba-4087-b669-c3cc050f1dcb",
   "metadata": {},
   "outputs": [
    {
     "name": "stdout",
     "output_type": "stream",
     "text": [
      "{'a': 1, 'b': 2, 'c': 3}\n"
     ]
    },
    {
     "data": {
      "text/plain": [
       "dict"
      ]
     },
     "execution_count": 55,
     "metadata": {},
     "output_type": "execute_result"
    }
   ],
   "source": [
    "d = {'a':1, 'b':2, 'c':3}\n",
    "print(d)\n",
    "type(d)"
   ]
  },
  {
   "cell_type": "code",
   "execution_count": 57,
   "id": "a14811f1-d257-465d-99c1-cdddbd28ff6b",
   "metadata": {},
   "outputs": [
    {
     "data": {
      "text/plain": [
       "dict"
      ]
     },
     "execution_count": 57,
     "metadata": {},
     "output_type": "execute_result"
    }
   ],
   "source": [
    "d1 = {}\n",
    "type(d1)"
   ]
  },
  {
   "cell_type": "code",
   "execution_count": 59,
   "id": "2545bd5f-1662-4792-9aa5-11962f13b8b1",
   "metadata": {},
   "outputs": [
    {
     "name": "stdout",
     "output_type": "stream",
     "text": [
      "{'hindi': 78, 'english': 70, 'math': 88}\n"
     ]
    },
    {
     "data": {
      "text/plain": [
       "dict"
      ]
     },
     "execution_count": 59,
     "metadata": {},
     "output_type": "execute_result"
    }
   ],
   "source": [
    "s = {'hindi':78, 'english':70, 'math':88}\n",
    "print(s)\n",
    "type(s)"
   ]
  },
  {
   "cell_type": "markdown",
   "id": "3939095f-22be-4489-9053-94b1ae038a07",
   "metadata": {},
   "source": [
    "# Sequence Types\n",
    "## String"
   ]
  },
  {
   "cell_type": "code",
   "execution_count": 62,
   "id": "9a251d2d-a487-4b6e-b9ef-800e23b90209",
   "metadata": {},
   "outputs": [
    {
     "name": "stdout",
     "output_type": "stream",
     "text": [
      "prateek\n"
     ]
    },
    {
     "data": {
      "text/plain": [
       "str"
      ]
     },
     "execution_count": 62,
     "metadata": {},
     "output_type": "execute_result"
    }
   ],
   "source": [
    "name = 'prateek'\n",
    "print(name)\n",
    "type(name)"
   ]
  },
  {
   "cell_type": "code",
   "execution_count": 64,
   "id": "0e87f6b0-8959-4ac6-b3cf-d67e87843f61",
   "metadata": {},
   "outputs": [
    {
     "name": "stdout",
     "output_type": "stream",
     "text": [
      "55\n"
     ]
    },
    {
     "data": {
      "text/plain": [
       "str"
      ]
     },
     "execution_count": 64,
     "metadata": {},
     "output_type": "execute_result"
    }
   ],
   "source": [
    "s1 = '55'\n",
    "print(s1)\n",
    "type(s1)"
   ]
  },
  {
   "cell_type": "markdown",
   "id": "374cacb2-a5fd-4f0e-af15-a99ab10cadce",
   "metadata": {},
   "source": [
    "# List"
   ]
  },
  {
   "cell_type": "code",
   "execution_count": 67,
   "id": "97eefc7a-337b-45a6-be26-1b021879ac56",
   "metadata": {},
   "outputs": [
    {
     "name": "stdout",
     "output_type": "stream",
     "text": [
      "['apple', 'banana', 'orange', 'grapes', 'watermelon']\n"
     ]
    },
    {
     "data": {
      "text/plain": [
       "5"
      ]
     },
     "execution_count": 67,
     "metadata": {},
     "output_type": "execute_result"
    }
   ],
   "source": [
    "fruitsname = ['apple' ,'banana' ,'orange' ,'grapes' ,'watermelon']\n",
    "print(fruitsname)\n",
    "len(fruitsname)"
   ]
  },
  {
   "cell_type": "markdown",
   "id": "e9b7ba8b-ccc1-4909-920f-4a23606b1e0b",
   "metadata": {},
   "source": [
    "# Tuple"
   ]
  },
  {
   "cell_type": "code",
   "execution_count": 70,
   "id": "96e526c4-df63-4038-82e3-8f0ffbe02456",
   "metadata": {},
   "outputs": [
    {
     "name": "stdout",
     "output_type": "stream",
     "text": [
      "('shubham', 'bhupendra', 'prateek', 'vikash', 'sarthak', 'gulshan', 'parmesh')\n",
      "7\n"
     ]
    },
    {
     "data": {
      "text/plain": [
       "tuple"
      ]
     },
     "execution_count": 70,
     "metadata": {},
     "output_type": "execute_result"
    }
   ],
   "source": [
    "friends_name = ('shubham' ,'bhupendra' ,'prateek' ,'vikash' ,'sarthak' ,'gulshan' ,'parmesh')\n",
    "print(friends_name)\n",
    "print(len(friends_name))\n",
    "type(friends_name)"
   ]
  },
  {
   "cell_type": "markdown",
   "id": "b3ebde38-bf09-429d-86c7-41a15f5c7ca0",
   "metadata": {},
   "source": [
    "# Numeric Operator"
   ]
  },
  {
   "cell_type": "code",
   "execution_count": 73,
   "id": "a3e85b4b-ca7b-4040-803e-0aa229579c21",
   "metadata": {},
   "outputs": [],
   "source": [
    "x = 7\n",
    "y = 6\n",
    "z = -17"
   ]
  },
  {
   "cell_type": "code",
   "execution_count": 75,
   "id": "1c8676b4-ea15-4c6d-9941-5ce24bb0b54b",
   "metadata": {},
   "outputs": [
    {
     "data": {
      "text/plain": [
       "13"
      ]
     },
     "execution_count": 75,
     "metadata": {},
     "output_type": "execute_result"
    }
   ],
   "source": [
    "x + y"
   ]
  },
  {
   "cell_type": "code",
   "execution_count": 77,
   "id": "0990ef76-f2e1-489e-9fb4-a62242a824da",
   "metadata": {},
   "outputs": [
    {
     "data": {
      "text/plain": [
       "1"
      ]
     },
     "execution_count": 77,
     "metadata": {},
     "output_type": "execute_result"
    }
   ],
   "source": [
    "x - y"
   ]
  },
  {
   "cell_type": "code",
   "execution_count": 79,
   "id": "2c5dd6ff-8b32-467e-b5b4-13e5a2f1e4d1",
   "metadata": {},
   "outputs": [
    {
     "data": {
      "text/plain": [
       "42"
      ]
     },
     "execution_count": 79,
     "metadata": {},
     "output_type": "execute_result"
    }
   ],
   "source": [
    "x * y"
   ]
  },
  {
   "cell_type": "code",
   "execution_count": 81,
   "id": "d72b790c-0cab-4e7d-83e3-96fc9b8940b4",
   "metadata": {},
   "outputs": [
    {
     "data": {
      "text/plain": [
       "1.1666666666666667"
      ]
     },
     "execution_count": 81,
     "metadata": {},
     "output_type": "execute_result"
    }
   ],
   "source": [
    "x / y"
   ]
  },
  {
   "cell_type": "code",
   "execution_count": 83,
   "id": "96580d33-e097-4bb1-8bf1-d1a141a8f7e1",
   "metadata": {},
   "outputs": [
    {
     "data": {
      "text/plain": [
       "17"
      ]
     },
     "execution_count": 83,
     "metadata": {},
     "output_type": "execute_result"
    }
   ],
   "source": [
    "abs(z)"
   ]
  },
  {
   "cell_type": "code",
   "execution_count": 85,
   "id": "cd5e34aa-afb2-4f64-9057-c0b3e23d2d11",
   "metadata": {},
   "outputs": [
    {
     "data": {
      "text/plain": [
       "'0b111000'"
      ]
     },
     "execution_count": 85,
     "metadata": {},
     "output_type": "execute_result"
    }
   ],
   "source": [
    "bin(56)"
   ]
  },
  {
   "cell_type": "code",
   "execution_count": 87,
   "id": "be95a3fd-1aa9-4277-909d-67b834c892c6",
   "metadata": {},
   "outputs": [
    {
     "data": {
      "text/plain": [
       "'0x38'"
      ]
     },
     "execution_count": 87,
     "metadata": {},
     "output_type": "execute_result"
    }
   ],
   "source": [
    "hex(56)"
   ]
  },
  {
   "cell_type": "code",
   "execution_count": 89,
   "id": "2d6a263d-47cd-4f6d-a2fe-ccc8445dae40",
   "metadata": {},
   "outputs": [
    {
     "name": "stdout",
     "output_type": "stream",
     "text": [
      "2800.0\n"
     ]
    }
   ],
   "source": [
    "p = 5000\n",
    "r = 7\n",
    "t = 8\n",
    "SI=p*r*t/100\n",
    "print(SI)"
   ]
  },
  {
   "cell_type": "code",
   "execution_count": 91,
   "id": "32805359-45af-4ffb-9418-9183738709b4",
   "metadata": {},
   "outputs": [
    {
     "name": "stdout",
     "output_type": "stream",
     "text": [
      "327600000.0\n"
     ]
    }
   ],
   "source": [
    "p = 80000\n",
    "r = 9\n",
    "n = 3\n",
    "t = 2\n",
    "ci= p*(1+r/n)**(n*t) -p\n",
    "print(ci)"
   ]
  },
  {
   "cell_type": "code",
   "execution_count": 93,
   "id": "0d5a0080-25c6-43a1-a475-399b73405b88",
   "metadata": {},
   "outputs": [
    {
     "ename": "NameError",
     "evalue": "name 'si' is not defined",
     "output_type": "error",
     "traceback": [
      "\u001b[1;31m---------------------------------------------------------------------------\u001b[0m",
      "\u001b[1;31mNameError\u001b[0m                                 Traceback (most recent call last)",
      "Cell \u001b[1;32mIn[93], line 1\u001b[0m\n\u001b[1;32m----> 1\u001b[0m total_amount \u001b[38;5;241m=\u001b[39m p \u001b[38;5;241m+\u001b[39m si\n\u001b[0;32m      2\u001b[0m total_amount\n",
      "\u001b[1;31mNameError\u001b[0m: name 'si' is not defined"
     ]
    }
   ],
   "source": [
    "total_amount = p + si\n",
    "total_amount"
   ]
  },
  {
   "cell_type": "code",
   "execution_count": 95,
   "id": "00a66338-15ce-40fb-8f08-0ed2eb07dbd8",
   "metadata": {},
   "outputs": [
    {
     "name": "stdin",
     "output_type": "stream",
     "text": [
      "enter radius:  5000\n"
     ]
    },
    {
     "name": "stdout",
     "output_type": "stream",
     "text": [
      "area of the circle: 78500000.0\n"
     ]
    }
   ],
   "source": [
    "radius = float(input('enter radius: ')) \n",
    "pi = 3.14\n",
    "area = pi * radius ** 2\n",
    "print('area of the circle:',area)"
   ]
  },
  {
   "cell_type": "code",
   "execution_count": 97,
   "id": "cb701de2-1136-4cd1-9d23-bf0d644abcf4",
   "metadata": {},
   "outputs": [
    {
     "name": "stdin",
     "output_type": "stream",
     "text": [
      "enter radius:  56\n"
     ]
    },
    {
     "name": "stdout",
     "output_type": "stream",
     "text": [
      "area of the circle: 9847.04\n"
     ]
    }
   ],
   "source": [
    "radius = float(input('enter radius: '))\n",
    "pi = 3.14\n",
    "area = pi * radius ** 2\n",
    "print('area of the circle:',area)"
   ]
  },
  {
   "cell_type": "markdown",
   "id": "5acb3f7c-458f-4e10-aca8-9cf4b74f9747",
   "metadata": {},
   "source": [
    "# Range\n"
   ]
  },
  {
   "cell_type": "markdown",
   "id": "6dacbe7c-121a-4177-ad5b-728ef19583b0",
   "metadata": {},
   "source": [
    "## Range(start,stop)"
   ]
  },
  {
   "cell_type": "code",
   "execution_count": 101,
   "id": "ead4e87e-0d74-4aaa-b27f-a1e17a7772f0",
   "metadata": {},
   "outputs": [
    {
     "name": "stdout",
     "output_type": "stream",
     "text": [
      "range(0, 5)\n",
      "5\n"
     ]
    },
    {
     "data": {
      "text/plain": [
       "range"
      ]
     },
     "execution_count": 101,
     "metadata": {},
     "output_type": "execute_result"
    }
   ],
   "source": [
    "r1 = range(5)\n",
    "print(r1)\n",
    "print(len(r1))\n",
    "type(r1)"
   ]
  },
  {
   "cell_type": "code",
   "execution_count": 103,
   "id": "cabf3b6f-03f7-4d81-ad42-b836dbd1529c",
   "metadata": {},
   "outputs": [
    {
     "name": "stdout",
     "output_type": "stream",
     "text": [
      "range(2, 10)\n",
      "8\n"
     ]
    }
   ],
   "source": [
    "r2 = range(2,10)\n",
    "print(r2)\n",
    "print(len(r2))"
   ]
  },
  {
   "cell_type": "code",
   "execution_count": 105,
   "id": "cb913f3a-4ea0-4749-bf6b-370ff8239bac",
   "metadata": {},
   "outputs": [
    {
     "name": "stdout",
     "output_type": "stream",
     "text": [
      "55\n"
     ]
    }
   ],
   "source": [
    "x = 55\n",
    "print(x)"
   ]
  },
  {
   "cell_type": "code",
   "execution_count": 107,
   "id": "d8d526e4-62d9-49d2-afa1-16fdd9631f09",
   "metadata": {},
   "outputs": [
    {
     "name": "stdout",
     "output_type": "stream",
     "text": [
      "58\n"
     ]
    }
   ],
   "source": [
    "x += 3\n",
    "print(x)"
   ]
  },
  {
   "cell_type": "code",
   "execution_count": 109,
   "id": "0b969b5c-f712-4f55-86c4-34ad59c304d4",
   "metadata": {},
   "outputs": [
    {
     "name": "stdout",
     "output_type": "stream",
     "text": [
      "55\n"
     ]
    }
   ],
   "source": [
    "x -= 3\n",
    "print(x)"
   ]
  },
  {
   "cell_type": "code",
   "execution_count": 111,
   "id": "3f2d335c-1db8-4575-b1b4-f40a0b6db33a",
   "metadata": {},
   "outputs": [
    {
     "name": "stdout",
     "output_type": "stream",
     "text": [
      "165\n"
     ]
    }
   ],
   "source": [
    "x *= 3\n",
    "print(x)"
   ]
  },
  {
   "cell_type": "code",
   "execution_count": 113,
   "id": "a30dc92c-c0ff-474a-b8de-e7c7376fdd94",
   "metadata": {},
   "outputs": [
    {
     "name": "stdout",
     "output_type": "stream",
     "text": [
      "55.0\n"
     ]
    }
   ],
   "source": [
    "x /= 3\n",
    "print(x)"
   ]
  },
  {
   "cell_type": "code",
   "execution_count": 115,
   "id": "519a04e7-9a3b-41c9-b022-ac0ee768eece",
   "metadata": {},
   "outputs": [
    {
     "name": "stdout",
     "output_type": "stream",
     "text": [
      "18.0\n"
     ]
    }
   ],
   "source": [
    "x //= 3\n",
    "print(x)"
   ]
  },
  {
   "cell_type": "code",
   "execution_count": 117,
   "id": "4cddfa9f-2b74-49ce-984f-b95e3adb48e2",
   "metadata": {},
   "outputs": [
    {
     "name": "stdout",
     "output_type": "stream",
     "text": [
      "0.0\n"
     ]
    }
   ],
   "source": [
    "x %= 3\n",
    "print(x)"
   ]
  },
  {
   "cell_type": "code",
   "execution_count": 119,
   "id": "357a0360-af27-4e1a-a486-b70c6c988585",
   "metadata": {},
   "outputs": [
    {
     "name": "stdout",
     "output_type": "stream",
     "text": [
      "True\n"
     ]
    }
   ],
   "source": [
    "I = 4\n",
    "J = 7\n",
    "print(4<7)"
   ]
  },
  {
   "cell_type": "code",
   "execution_count": 121,
   "id": "ae00f662-0e70-4df0-9eac-26ced3e5b457",
   "metadata": {},
   "outputs": [
    {
     "name": "stdout",
     "output_type": "stream",
     "text": [
      "False\n"
     ]
    }
   ],
   "source": [
    "S = 7\n",
    "D = 5\n",
    "print(S<D)"
   ]
  },
  {
   "cell_type": "code",
   "execution_count": 123,
   "id": "0767eee5-51b2-4279-a57c-cd35b2688ac7",
   "metadata": {},
   "outputs": [
    {
     "name": "stdout",
     "output_type": "stream",
     "text": [
      "False\n"
     ]
    }
   ],
   "source": [
    "I = 4\n",
    "J = 7\n",
    "print(I>J)"
   ]
  },
  {
   "cell_type": "code",
   "execution_count": 125,
   "id": "649bde27-071f-4e0b-a5c6-de29d556633a",
   "metadata": {},
   "outputs": [
    {
     "name": "stdout",
     "output_type": "stream",
     "text": [
      "True\n"
     ]
    }
   ],
   "source": [
    "S = 7\n",
    "D = 5\n",
    "print(S>D)"
   ]
  },
  {
   "cell_type": "code",
   "execution_count": 127,
   "id": "a8a4729c-490a-4a32-8586-c620f4262478",
   "metadata": {},
   "outputs": [
    {
     "name": "stdout",
     "output_type": "stream",
     "text": [
      "True\n"
     ]
    }
   ],
   "source": [
    "I = 3\n",
    "J = 3\n",
    "print(I<=J)"
   ]
  },
  {
   "cell_type": "code",
   "execution_count": 129,
   "id": "89b1cb51-1ce5-4b06-a7f8-035ed9f26227",
   "metadata": {},
   "outputs": [
    {
     "name": "stdout",
     "output_type": "stream",
     "text": [
      "True\n"
     ]
    }
   ],
   "source": [
    "I = 3\n",
    "J = 3\n",
    "print(I>=J)"
   ]
  },
  {
   "cell_type": "code",
   "execution_count": 131,
   "id": "14ebc709-91ee-4ec4-96c2-68c0270e6a62",
   "metadata": {},
   "outputs": [
    {
     "name": "stdout",
     "output_type": "stream",
     "text": [
      "True\n"
     ]
    }
   ],
   "source": [
    "I = 7\n",
    "J = 6\n",
    "print(I>=J)"
   ]
  },
  {
   "cell_type": "code",
   "execution_count": 133,
   "id": "b020b45b-f68c-418e-877c-5f3a78703708",
   "metadata": {},
   "outputs": [],
   "source": [
    "# create a program to find area of a circle and check wheater the area is greater than 50 or not."
   ]
  },
  {
   "cell_type": "code",
   "execution_count": 135,
   "id": "dc3b9931-a28b-4314-aadf-c3bf23bdee0b",
   "metadata": {},
   "outputs": [
    {
     "name": "stdin",
     "output_type": "stream",
     "text": [
      "enter radius:  78\n"
     ]
    },
    {
     "name": "stdout",
     "output_type": "stream",
     "text": [
      "area of the circle: 1490093.28\n",
      "True\n"
     ]
    }
   ],
   "source": [
    "radius = float(input('enter radius: '))\n",
    "pi = 3.14\n",
    "area = pi * radius **3\n",
    "print('area of the circle:',area)\n",
    "print(area > 50)\n"
   ]
  },
  {
   "cell_type": "code",
   "execution_count": 137,
   "id": "aeafd699-265f-4cb3-872d-f411691f05a2",
   "metadata": {},
   "outputs": [
    {
     "name": "stdout",
     "output_type": "stream",
     "text": [
      "False\n"
     ]
    }
   ],
   "source": [
    "a = True\n",
    "print(not a)"
   ]
  },
  {
   "cell_type": "code",
   "execution_count": 139,
   "id": "0369b850-6486-4c75-bd60-05f3a7ad4e55",
   "metadata": {},
   "outputs": [
    {
     "name": "stdout",
     "output_type": "stream",
     "text": [
      "True\n"
     ]
    }
   ],
   "source": [
    "b = False\n",
    "print(not b)"
   ]
  },
  {
   "cell_type": "code",
   "execution_count": 141,
   "id": "cd38c0a8-84e2-4ce0-8804-4e6ee90fd647",
   "metadata": {},
   "outputs": [
    {
     "name": "stdout",
     "output_type": "stream",
     "text": [
      "False\n",
      "False\n"
     ]
    }
   ],
   "source": [
    "a = False\n",
    "b= False \n",
    "print(a and b) \n",
    "print(a or b)"
   ]
  },
  {
   "cell_type": "code",
   "execution_count": 143,
   "id": "ff8d88fe-3d70-441c-a0bd-455c418553f2",
   "metadata": {},
   "outputs": [
    {
     "name": "stdin",
     "output_type": "stream",
     "text": [
      "enter radius:  89\n"
     ]
    },
    {
     "name": "stdout",
     "output_type": "stream",
     "text": [
      "area of the circle: 24871.940000000002\n",
      "False\n"
     ]
    }
   ],
   "source": [
    "# Check the area of the circle lies between 20 and 50 or not \n",
    "radius = float(input('enter radius: '))\n",
    "pi = 3.14\n",
    "area = pi * radius ** 2\n",
    "print('area of the circle:',area)\n",
    "print(area > 20 and area < 50)"
   ]
  },
  {
   "cell_type": "markdown",
   "id": "c58f0d23-b2bb-4cd7-9f75-41cb0960879a",
   "metadata": {},
   "source": [
    "# practice"
   ]
  },
  {
   "cell_type": "code",
   "execution_count": 145,
   "id": "a44cfcb3-5db2-4431-9bf3-cea7a0bf15e4",
   "metadata": {},
   "outputs": [
    {
     "name": "stdout",
     "output_type": "stream",
     "text": [
      "501\n"
     ]
    }
   ],
   "source": [
    "a = 123\n",
    "b = 456 \n",
    "c = 78\n",
    "result = (a+b-c)\n",
    "print(result)"
   ]
  },
  {
   "cell_type": "code",
   "execution_count": 147,
   "id": "38f5fe1e-b797-4d97-9e41-d0e6e6f50ad8",
   "metadata": {},
   "outputs": [
    {
     "name": "stdout",
     "output_type": "stream",
     "text": [
      "1000\n"
     ]
    }
   ],
   "source": [
    "a = 25\n",
    "b = 40\n",
    "result = ( a * b )\n",
    "print (result)"
   ]
  },
  {
   "cell_type": "code",
   "execution_count": 149,
   "id": "5910e749-1385-4ee6-b70c-f8b58d5f8673",
   "metadata": {},
   "outputs": [
    {
     "name": "stdout",
     "output_type": "stream",
     "text": [
      "62.5\n"
     ]
    }
   ],
   "source": [
    "a = 500\n",
    "b = 8\n",
    "result = ( a / b )\n",
    "print (result)"
   ]
  },
  {
   "cell_type": "code",
   "execution_count": 151,
   "id": "87e7d6e1-4183-4bc1-857c-cf11997ac436",
   "metadata": {},
   "outputs": [
    {
     "name": "stdout",
     "output_type": "stream",
     "text": [
      "9.0\n"
     ]
    }
   ],
   "source": [
    "a = 45.6\n",
    "b = 5\n",
    "result = (a // b)\n",
    "print(result)"
   ]
  },
  {
   "cell_type": "code",
   "execution_count": 153,
   "id": "85c7fd49-204a-4114-a812-504db8d59f52",
   "metadata": {},
   "outputs": [
    {
     "name": "stdout",
     "output_type": "stream",
     "text": [
      "1683941953091573505989403773953024\n"
     ]
    }
   ],
   "source": [
    "a = 2102\n",
    "b = 10\n",
    "result = ( a ** b )\n",
    "print(result)"
   ]
  },
  {
   "cell_type": "code",
   "execution_count": 155,
   "id": "e6c5b688-e7cb-4fe7-b089-8cc687ad12e4",
   "metadata": {},
   "outputs": [
    {
     "name": "stdout",
     "output_type": "stream",
     "text": [
      "0\n"
     ]
    }
   ],
   "source": [
    "a = 525\n",
    "b = 7\n",
    "result = (a % b)\n",
    "print(result)"
   ]
  },
  {
   "cell_type": "code",
   "execution_count": 157,
   "id": "51a4a5a3-c9ff-4738-a1b1-8da7d754114f",
   "metadata": {},
   "outputs": [
    {
     "name": "stdout",
     "output_type": "stream",
     "text": [
      "55.0\n"
     ]
    }
   ],
   "source": [
    "a= (25+5)*2\n",
    "b = 10\n",
    "c = 2\n",
    "result = (25+5)*2-10/2\n",
    "print(result)"
   ]
  },
  {
   "cell_type": "code",
   "execution_count": 159,
   "id": "647f2e1b-bb8d-4c74-8990-5fa13c530f7c",
   "metadata": {},
   "outputs": [
    {
     "name": "stdout",
     "output_type": "stream",
     "text": [
      "-350\n"
     ]
    }
   ],
   "source": [
    "a = 150\n",
    "b = 200\n",
    "sum_value = a+b\n",
    "result = - sum_value\n",
    "print(result)"
   ]
  },
  {
   "cell_type": "code",
   "execution_count": 161,
   "id": "9349d0d7-617c-4b68-877d-36683bd6436b",
   "metadata": {},
   "outputs": [
    {
     "name": "stdout",
     "output_type": "stream",
     "text": [
      "25\n"
     ]
    }
   ],
   "source": [
    "x = 10\n",
    "x += 15\n",
    "print(x)"
   ]
  },
  {
   "cell_type": "code",
   "execution_count": 163,
   "id": "63e82ed5-c9ef-4081-87bd-1b2e65c3ee81",
   "metadata": {},
   "outputs": [
    {
     "name": "stdout",
     "output_type": "stream",
     "text": [
      "8752\n"
     ]
    }
   ],
   "source": [
    "a = 20+3\n",
    "b = (23-4)\n",
    "c = 20+3\n",
    "d = (2^3-4)\n",
    "result = 23*(23-4) *20+3* (2 ** 3 - 4)\n",
    "print(result)"
   ]
  },
  {
   "cell_type": "code",
   "execution_count": 165,
   "id": "e122a654-d482-45b3-8a04-c7bde1db40af",
   "metadata": {},
   "outputs": [
    {
     "name": "stdout",
     "output_type": "stream",
     "text": [
      "True\n"
     ]
    }
   ],
   "source": [
    "a = 34\n",
    "a = 34.0\n",
    "print(a==a)"
   ]
  },
  {
   "cell_type": "code",
   "execution_count": 167,
   "id": "31f2abd3-a2e3-4d0a-9335-e5396a6aebf2",
   "metadata": {},
   "outputs": [
    {
     "name": "stdout",
     "output_type": "stream",
     "text": [
      "False\n"
     ]
    }
   ],
   "source": [
    "a = 15\n",
    "a = 10+5\n",
    "print(a != a)"
   ]
  },
  {
   "cell_type": "markdown",
   "id": "1a0dfaa7-70f9-4bd0-b778-d622225cae59",
   "metadata": {},
   "source": [
    "# Membership Operator"
   ]
  },
  {
   "cell_type": "markdown",
   "id": "6f94e5e5-c15f-4dd9-ba12-312f646c69e9",
   "metadata": {},
   "source": [
    "* in\n",
    "* not in"
   ]
  },
  {
   "cell_type": "code",
   "execution_count": 171,
   "id": "bf16322c-ac34-4263-8cdf-10e50b81e39d",
   "metadata": {},
   "outputs": [
    {
     "name": "stdout",
     "output_type": "stream",
     "text": [
      "['Thor', 'Iron man', 'Loki', 'Spider man']\n"
     ]
    }
   ],
   "source": [
    "avengers = ['Thor','Iron man','Loki','Spider man']\n",
    "print(avengers)"
   ]
  },
  {
   "cell_type": "code",
   "execution_count": 173,
   "id": "d87b2a58-7768-4ed9-8184-9781bdf8a953",
   "metadata": {},
   "outputs": [
    {
     "name": "stdout",
     "output_type": "stream",
     "text": [
      "True\n"
     ]
    }
   ],
   "source": [
    "print('Loki' in avengers)"
   ]
  },
  {
   "cell_type": "code",
   "execution_count": 175,
   "id": "b10e9d12-7b60-49f0-8732-c5571fff77ea",
   "metadata": {},
   "outputs": [
    {
     "name": "stdout",
     "output_type": "stream",
     "text": [
      "False\n"
     ]
    }
   ],
   "source": [
    "print('Super man' in avengers)"
   ]
  },
  {
   "cell_type": "code",
   "execution_count": 177,
   "id": "adabac69-f3f3-4862-9b3e-7ff381867500",
   "metadata": {},
   "outputs": [
    {
     "name": "stdout",
     "output_type": "stream",
     "text": [
      "True\n"
     ]
    }
   ],
   "source": [
    "print('Super man' not in avengers)"
   ]
  },
  {
   "cell_type": "markdown",
   "id": "6ef001e7-bd0f-42c0-8ca1-4b1f1fdbafe3",
   "metadata": {},
   "source": [
    "# Indentity Operator"
   ]
  },
  {
   "cell_type": "code",
   "execution_count": 180,
   "id": "75cf3465-3418-4bf2-91a2-acf7c01daa73",
   "metadata": {},
   "outputs": [],
   "source": [
    "x = ['banana','apple']\n",
    "y = ['banana','apple']\n",
    "z = x"
   ]
  },
  {
   "cell_type": "code",
   "execution_count": 182,
   "id": "8ad4d4bf-0639-4dc5-b159-a7c77309358a",
   "metadata": {},
   "outputs": [
    {
     "data": {
      "text/plain": [
       "True"
      ]
     },
     "execution_count": 182,
     "metadata": {},
     "output_type": "execute_result"
    }
   ],
   "source": [
    "x is z"
   ]
  },
  {
   "cell_type": "code",
   "execution_count": 184,
   "id": "81bd3e3e-289e-4333-b89f-25dc7f587b71",
   "metadata": {},
   "outputs": [
    {
     "data": {
      "text/plain": [
       "False"
      ]
     },
     "execution_count": 184,
     "metadata": {},
     "output_type": "execute_result"
    }
   ],
   "source": [
    "x is y"
   ]
  },
  {
   "cell_type": "code",
   "execution_count": 186,
   "id": "2feab542-aebc-4e68-b73c-612144a61f67",
   "metadata": {},
   "outputs": [
    {
     "data": {
      "text/plain": [
       "True"
      ]
     },
     "execution_count": 186,
     "metadata": {},
     "output_type": "execute_result"
    }
   ],
   "source": [
    "x == y"
   ]
  },
  {
   "cell_type": "code",
   "execution_count": 188,
   "id": "0ae01c75-2808-4878-8a31-1e50efa59c3e",
   "metadata": {},
   "outputs": [
    {
     "data": {
      "text/plain": [
       "True"
      ]
     },
     "execution_count": 188,
     "metadata": {},
     "output_type": "execute_result"
    }
   ],
   "source": [
    "x is not y"
   ]
  },
  {
   "cell_type": "code",
   "execution_count": 190,
   "id": "84919b51-86b0-42a1-b2f5-c262579eaabb",
   "metadata": {},
   "outputs": [
    {
     "data": {
      "text/plain": [
       "['banana', 'apple']"
      ]
     },
     "execution_count": 190,
     "metadata": {},
     "output_type": "execute_result"
    }
   ],
   "source": [
    "x"
   ]
  },
  {
   "cell_type": "code",
   "execution_count": 192,
   "id": "41c9b5ed-7740-45ea-aea6-101941bdbe29",
   "metadata": {},
   "outputs": [
    {
     "data": {
      "text/plain": [
       "['banana', 'apple']"
      ]
     },
     "execution_count": 192,
     "metadata": {},
     "output_type": "execute_result"
    }
   ],
   "source": [
    "z"
   ]
  },
  {
   "cell_type": "code",
   "execution_count": 194,
   "id": "d4fa3eb4-7147-4b6e-bb05-3895c367cdfc",
   "metadata": {},
   "outputs": [
    {
     "data": {
      "text/plain": [
       "'banana'"
      ]
     },
     "execution_count": 194,
     "metadata": {},
     "output_type": "execute_result"
    }
   ],
   "source": [
    "x[0]"
   ]
  },
  {
   "cell_type": "code",
   "execution_count": 196,
   "id": "33a1c48f-c4a5-45b6-a58c-e1fcb61ff23f",
   "metadata": {},
   "outputs": [
    {
     "data": {
      "text/plain": [
       "'apple'"
      ]
     },
     "execution_count": 196,
     "metadata": {},
     "output_type": "execute_result"
    }
   ],
   "source": [
    "x[1]"
   ]
  },
  {
   "cell_type": "code",
   "execution_count": 198,
   "id": "1efd3551-8de6-4ccd-8723-3cebcb2acb69",
   "metadata": {},
   "outputs": [
    {
     "data": {
      "text/plain": [
       "['banana', 'apple']"
      ]
     },
     "execution_count": 198,
     "metadata": {},
     "output_type": "execute_result"
    }
   ],
   "source": [
    "z"
   ]
  },
  {
   "cell_type": "code",
   "execution_count": 200,
   "id": "0d6c2f6a-2644-4d89-bbc9-a752ad9389a6",
   "metadata": {},
   "outputs": [
    {
     "data": {
      "text/plain": [
       "['pineapple', 'apple']"
      ]
     },
     "execution_count": 200,
     "metadata": {},
     "output_type": "execute_result"
    }
   ],
   "source": [
    "x[0] = 'pineapple'\n",
    "x"
   ]
  },
  {
   "cell_type": "code",
   "execution_count": 202,
   "id": "499e847e-bb84-4540-b9ae-92f935dd65a0",
   "metadata": {},
   "outputs": [
    {
     "data": {
      "text/plain": [
       "['banana', 'apple']"
      ]
     },
     "execution_count": 202,
     "metadata": {},
     "output_type": "execute_result"
    }
   ],
   "source": [
    "y"
   ]
  },
  {
   "cell_type": "code",
   "execution_count": 204,
   "id": "4ebd7408-7f92-4539-b291-57a598ebd54a",
   "metadata": {},
   "outputs": [
    {
     "data": {
      "text/plain": [
       "['pineapple', 'apple']"
      ]
     },
     "execution_count": 204,
     "metadata": {},
     "output_type": "execute_result"
    }
   ],
   "source": [
    "z"
   ]
  },
  {
   "cell_type": "code",
   "execution_count": 206,
   "id": "a6822962-e48f-482c-89e0-a1754403a713",
   "metadata": {},
   "outputs": [
    {
     "data": {
      "text/plain": [
       "['pineapple', 'mango']"
      ]
     },
     "execution_count": 206,
     "metadata": {},
     "output_type": "execute_result"
    }
   ],
   "source": [
    "z[1] = 'mango'\n",
    "z"
   ]
  },
  {
   "cell_type": "markdown",
   "id": "f53161b3-bd00-4003-929f-b26d78f3afda",
   "metadata": {},
   "source": [
    "# Strings\n",
    "* Sequence of character"
   ]
  },
  {
   "cell_type": "code",
   "execution_count": 209,
   "id": "607a8d7a-0c95-4ed0-ab03-5d92ceb9f239",
   "metadata": {},
   "outputs": [
    {
     "name": "stdout",
     "output_type": "stream",
     "text": [
      "Hello\n"
     ]
    }
   ],
   "source": [
    "s1 = 'Hello'\n",
    "print(s1)"
   ]
  },
  {
   "cell_type": "code",
   "execution_count": 211,
   "id": "4fc177d9-6b9e-4814-80db-57311b8ca7ee",
   "metadata": {},
   "outputs": [
    {
     "name": "stdout",
     "output_type": "stream",
     "text": [
      "Hello\n"
     ]
    }
   ],
   "source": [
    "s2 = 'Hello'\n",
    "print(s2)"
   ]
  },
  {
   "cell_type": "code",
   "execution_count": 213,
   "id": "14dfb061-c608-4c11-85fd-3035e96992fa",
   "metadata": {},
   "outputs": [
    {
     "name": "stdout",
     "output_type": "stream",
     "text": [
      "this is a\n",
      "multiline string.\n",
      "we can create a string\n",
      "in multiple line.\n"
     ]
    }
   ],
   "source": [
    "s3 = '''this is a\n",
    "multiline string.\n",
    "we can create a string\n",
    "in multiple line.'''\n",
    "print(s3)"
   ]
  },
  {
   "cell_type": "code",
   "execution_count": 215,
   "id": "e1e45211-6745-42f9-9f92-5204688d5d6c",
   "metadata": {},
   "outputs": [
    {
     "name": "stdout",
     "output_type": "stream",
     "text": [
      "What a '''Wonderful''' day!\n"
     ]
    }
   ],
   "source": [
    "s4 = \"What a '''Wonderful''' day!\"\n",
    "print(s4)"
   ]
  },
  {
   "cell_type": "code",
   "execution_count": 217,
   "id": "75a7ab7b-cd5c-40c1-935f-e786fbf33686",
   "metadata": {},
   "outputs": [
    {
     "name": "stdout",
     "output_type": "stream",
     "text": [
      "What is a 'wonderful' day!\n"
     ]
    }
   ],
   "source": [
    "s5 = \"What is a 'wonderful' day!\"\n",
    "print(s5)"
   ]
  },
  {
   "cell_type": "markdown",
   "id": "24a40c2e-2fca-43eb-8ad4-9a565b78c5f7",
   "metadata": {},
   "source": [
    "# string method"
   ]
  },
  {
   "cell_type": "code",
   "execution_count": 220,
   "id": "7b8b6e04-9b1e-4703-b6b2-052e4b8d6fd8",
   "metadata": {},
   "outputs": [
    {
     "data": {
      "text/plain": [
       "'HELLO'"
      ]
     },
     "execution_count": 220,
     "metadata": {},
     "output_type": "execute_result"
    }
   ],
   "source": [
    "text = 'hello'\n",
    "text.upper()"
   ]
  },
  {
   "cell_type": "code",
   "execution_count": 222,
   "id": "b32618dd-d8a5-4945-956d-ffbc20dfed07",
   "metadata": {},
   "outputs": [
    {
     "data": {
      "text/plain": [
       "'hello'"
      ]
     },
     "execution_count": 222,
     "metadata": {},
     "output_type": "execute_result"
    }
   ],
   "source": [
    "text = \"HELLO\"\n",
    "text.lower()"
   ]
  },
  {
   "cell_type": "code",
   "execution_count": 224,
   "id": "858498a5-3aac-4533-a281-234bbd9b7dc5",
   "metadata": {},
   "outputs": [
    {
     "data": {
      "text/plain": [
       "'hello'"
      ]
     },
     "execution_count": 224,
     "metadata": {},
     "output_type": "execute_result"
    }
   ],
   "source": [
    "text = \" hello \"\n",
    "text.strip()"
   ]
  },
  {
   "cell_type": "code",
   "execution_count": 226,
   "id": "f01fca32-0dcd-4b50-86b3-3466df38b84f",
   "metadata": {},
   "outputs": [
    {
     "data": {
      "text/plain": [
       "'hello python'"
      ]
     },
     "execution_count": 226,
     "metadata": {},
     "output_type": "execute_result"
    }
   ],
   "source": [
    "text = 'hello world'\n",
    "text.replace('world','python')"
   ]
  },
  {
   "cell_type": "code",
   "execution_count": 228,
   "id": "21324de4-ef3d-4c77-b74a-7fbc2298eb61",
   "metadata": {},
   "outputs": [
    {
     "data": {
      "text/plain": [
       "['hello', 'world']"
      ]
     },
     "execution_count": 228,
     "metadata": {},
     "output_type": "execute_result"
    }
   ],
   "source": [
    "text = 'hello world'\n",
    "text.split(' ')"
   ]
  },
  {
   "cell_type": "code",
   "execution_count": 230,
   "id": "e228ed1b-18fb-4e56-a9a3-7696fe94cce1",
   "metadata": {},
   "outputs": [
    {
     "data": {
      "text/plain": [
       "['Good mornong', ' Sir']"
      ]
     },
     "execution_count": 230,
     "metadata": {},
     "output_type": "execute_result"
    }
   ],
   "source": [
    "text = 'Good mornong, Sir'\n",
    "text.split(',')"
   ]
  },
  {
   "cell_type": "code",
   "execution_count": 232,
   "id": "e3a341df-3749-4df1-9a1d-f0cf1f10c05e",
   "metadata": {},
   "outputs": [
    {
     "data": {
      "text/plain": [
       "['aditya', 'gmail.com']"
      ]
     },
     "execution_count": 232,
     "metadata": {},
     "output_type": "execute_result"
    }
   ],
   "source": [
    "email = 'aditya@gmail.com'\n",
    "email.split('@')"
   ]
  },
  {
   "cell_type": "code",
   "execution_count": 234,
   "id": "2bf94dc6-963a-4fb7-bdb4-0e579a89383e",
   "metadata": {},
   "outputs": [
    {
     "data": {
      "text/plain": [
       "['this', 'is', 'a', 'sentence']"
      ]
     },
     "execution_count": 234,
     "metadata": {},
     "output_type": "execute_result"
    }
   ],
   "source": [
    "li = ['this','is','a','sentence']\n",
    "li"
   ]
  },
  {
   "cell_type": "code",
   "execution_count": 236,
   "id": "80e4248a-6deb-4f43-b627-6f1cf0452a29",
   "metadata": {},
   "outputs": [
    {
     "name": "stdout",
     "output_type": "stream",
     "text": [
      "this is a sentence\n"
     ]
    }
   ],
   "source": [
    "sentence = ' '.join(li)\n",
    "print(sentence)"
   ]
  },
  {
   "cell_type": "code",
   "execution_count": 238,
   "id": "cfa2ce39-ee62-4e23-ab9c-fdb1b5364ea1",
   "metadata": {},
   "outputs": [
    {
     "data": {
      "text/plain": [
       "'This is a sentence.'"
      ]
     },
     "execution_count": 238,
     "metadata": {},
     "output_type": "execute_result"
    }
   ],
   "source": [
    "sent = 'this is a sentence.'\n",
    "sent.capitalize()"
   ]
  },
  {
   "cell_type": "code",
   "execution_count": 240,
   "id": "f8986dde-45e4-4a46-873a-7e05e0134e54",
   "metadata": {},
   "outputs": [
    {
     "data": {
      "text/plain": [
       "'Aditya Kumar'"
      ]
     },
     "execution_count": 240,
     "metadata": {},
     "output_type": "execute_result"
    }
   ],
   "source": [
    "name = 'aditya kumar'\n",
    "name. title() "
   ]
  },
  {
   "cell_type": "code",
   "execution_count": 242,
   "id": "c51a909c-7ac9-424b-86bf-7ac3c71e2e6b",
   "metadata": {},
   "outputs": [
    {
     "data": {
      "text/plain": [
       "'hELLO wORLD'"
      ]
     },
     "execution_count": 242,
     "metadata": {},
     "output_type": "execute_result"
    }
   ],
   "source": [
    "text = \"Hello World\" \n",
    "text. swapcase()"
   ]
  },
  {
   "cell_type": "code",
   "execution_count": 244,
   "id": "b752d3fb-5132-49cc-be84-0b4b1543d212",
   "metadata": {},
   "outputs": [
    {
     "name": "stdout",
     "output_type": "stream",
     "text": [
      "True\n"
     ]
    }
   ],
   "source": [
    "a = 5\n",
    "b = 30\n",
    "square = 5 ** 2\n",
    "result = square < 30\n",
    "print(result)"
   ]
  },
  {
   "cell_type": "code",
   "execution_count": 246,
   "id": "69005d0e-bcf1-431f-8c78-e01742d263e9",
   "metadata": {},
   "outputs": [
    {
     "name": "stdout",
     "output_type": "stream",
     "text": [
      "True\n"
     ]
    }
   ],
   "source": [
    "a = 20\n",
    "b = 10+1010+10 \n",
    "sum_value = 10+10\n",
    "result = 20 >= sum_value\n",
    "print(result)"
   ]
  },
  {
   "cell_type": "code",
   "execution_count": 248,
   "id": "d66db60e-4de9-415d-931a-32998747dc32",
   "metadata": {},
   "outputs": [
    {
     "name": "stdout",
     "output_type": "stream",
     "text": [
      "False\n"
     ]
    }
   ],
   "source": [
    "a = 333^3\n",
    "b = 2727\n",
    "cube_value = 333 ** 3\n",
    "result = cube_value <= 2727\n",
    "print(result)"
   ]
  },
  {
   "cell_type": "code",
   "execution_count": 250,
   "id": "ae43b057-15c5-4b4d-ab66-f871f0c1682f",
   "metadata": {},
   "outputs": [
    {
     "name": "stdout",
     "output_type": "stream",
     "text": [
      "False\n"
     ]
    }
   ],
   "source": [
    "a = 10\n",
    "b = 15\n",
    "c = 2010\n",
    "d = 15\n",
    "e = 20\n",
    "result = 10 < 15 < 2010 < 15 < 20\n",
    "print(result)"
   ]
  },
  {
   "cell_type": "code",
   "execution_count": 252,
   "id": "2a0b7a32-b3fe-47cc-a439-326b73c98bd1",
   "metadata": {},
   "outputs": [
    {
     "name": "stdout",
     "output_type": "stream",
     "text": [
      "True\n"
     ]
    }
   ],
   "source": [
    "string1 = \"Python\"\n",
    "string2 = \"Python\"\n",
    "result = string1 == string2\n",
    "print(result)"
   ]
  },
  {
   "cell_type": "code",
   "execution_count": 254,
   "id": "5b1af87c-6721-44fa-a3d1-64ac873d3ad7",
   "metadata": {},
   "outputs": [
    {
     "name": "stdout",
     "output_type": "stream",
     "text": [
      "True\n"
     ]
    }
   ],
   "source": [
    "float_value = 45.0\n",
    "integer_value = 44\n",
    "result = float_value > integer_value\n",
    "print(result)"
   ]
  },
  {
   "cell_type": "code",
   "execution_count": 256,
   "id": "5a5a47e8-a0a3-4716-b3b2-33b763c06e1b",
   "metadata": {},
   "outputs": [
    {
     "name": "stdout",
     "output_type": "stream",
     "text": [
      "True\n"
     ]
    }
   ],
   "source": [
    "a = 10 > 5\n",
    "b = 15 < 20\n",
    "result = (10 > 5) and (15 < 20)\n",
    "print(result)"
   ]
  },
  {
   "cell_type": "code",
   "execution_count": 258,
   "id": "e56c8223-2854-489e-a3da-2dd62ae71539",
   "metadata": {},
   "outputs": [
    {
     "name": "stdout",
     "output_type": "stream",
     "text": [
      "True\n"
     ]
    }
   ],
   "source": [
    "a = 5 == 10\n",
    "b = 20 > 15\n",
    "result = (5 == 10) or (20 > 15)\n",
    "print(result)"
   ]
  },
  {
   "cell_type": "code",
   "execution_count": 260,
   "id": "1648a3b8-eccc-473c-881e-b258ba0fa6ed",
   "metadata": {},
   "outputs": [
    {
     "name": "stdout",
     "output_type": "stream",
     "text": [
      "False\n"
     ]
    }
   ],
   "source": [
    "a = 10 > 5\n",
    "b = 10 > 5\n",
    "result = not (10 > 5 and 10 > 5)\n",
    "print(result)"
   ]
  },
  {
   "cell_type": "code",
   "execution_count": 262,
   "id": "7ed68055-94e5-4530-a9f6-502c40cafb88",
   "metadata": {},
   "outputs": [
    {
     "name": "stdout",
     "output_type": "stream",
     "text": [
      "True\n"
     ]
    }
   ],
   "source": [
    "a = 10 > 5\n",
    "b = (20 < 15 or 5 == 5)\n",
    "result = 10 > 5 and (20 < 15 or 5 == 5)\n",
    "print(result)"
   ]
  },
  {
   "cell_type": "code",
   "execution_count": 264,
   "id": "97f3cb19-a35f-4714-923e-1bc4d262ac8d",
   "metadata": {},
   "outputs": [
    {
     "name": "stdout",
     "output_type": "stream",
     "text": [
      "0\n"
     ]
    }
   ],
   "source": [
    "a = 0\n",
    "b = 10 > 5\n",
    "result = 0 and 10 > 5\n",
    "print(result)"
   ]
  },
  {
   "cell_type": "code",
   "execution_count": 266,
   "id": "3062b095-6e24-48a4-9925-bd4492f0c420",
   "metadata": {},
   "outputs": [
    {
     "data": {
      "text/plain": [
       "False"
      ]
     },
     "execution_count": 266,
     "metadata": {},
     "output_type": "execute_result"
    }
   ],
   "source": [
    "False and True"
   ]
  },
  {
   "cell_type": "markdown",
   "id": "68432743-f66b-4e37-b3a2-6ca73686215f",
   "metadata": {},
   "source": [
    "# List Methods"
   ]
  },
  {
   "cell_type": "code",
   "execution_count": 269,
   "id": "38bb3101-f33a-44bc-a8d6-fb247b44a218",
   "metadata": {},
   "outputs": [
    {
     "data": {
      "text/plain": [
       "[1, 1, 1, 1, 1, 1, 1, 1]"
      ]
     },
     "execution_count": 269,
     "metadata": {},
     "output_type": "execute_result"
    }
   ],
   "source": [
    "li = [1,1,1,1,1,1,1,1]\n",
    "li"
   ]
  },
  {
   "cell_type": "code",
   "execution_count": 271,
   "id": "a1d710ee-6a1e-4008-9aad-17fdfde9cb31",
   "metadata": {},
   "outputs": [
    {
     "data": {
      "text/plain": [
       "[1, 1, 1, 1, 1, 1, 1, 1, 'Chocolate']"
      ]
     },
     "execution_count": 271,
     "metadata": {},
     "output_type": "execute_result"
    }
   ],
   "source": [
    "# append\n",
    "li.append('Chocolate')\n",
    "li"
   ]
  },
  {
   "cell_type": "code",
   "execution_count": 273,
   "id": "2b8d1ce5-a155-460c-bc90-698ca278cf3a",
   "metadata": {},
   "outputs": [
    {
     "data": {
      "text/plain": [
       "[1, 1, 1, 1, 1, 1, 1, 1, 'Chocolate', 'aditya', 'shubham']"
      ]
     },
     "execution_count": 273,
     "metadata": {},
     "output_type": "execute_result"
    }
   ],
   "source": [
    "# extend \n",
    "li.extend(['aditya','shubham'])\n",
    "li "
   ]
  },
  {
   "cell_type": "code",
   "execution_count": 274,
   "id": "863ec4bd-ec6e-42e0-8301-a2fd5d5b2d95",
   "metadata": {},
   "outputs": [
    {
     "data": {
      "text/plain": [
       "[1, 1, 1, 1, 1, 1, 1, 1, 'Chocolate', 'aditya', 'shubham', 'dairy milk']"
      ]
     },
     "execution_count": 274,
     "metadata": {},
     "output_type": "execute_result"
    }
   ],
   "source": [
    "# insert\n",
    "li.insert(23,'dairy milk')\n",
    "li"
   ]
  },
  {
   "cell_type": "code",
   "execution_count": 276,
   "id": "54e07218-1001-4e61-8d4e-1a3258d6d86c",
   "metadata": {},
   "outputs": [
    {
     "data": {
      "text/plain": [
       "['sugar', 'aata', 'oil', 'spices']"
      ]
     },
     "execution_count": 276,
     "metadata": {},
     "output_type": "execute_result"
    }
   ],
   "source": [
    "li = ['sugar','aata','oil','spices']\n",
    "li"
   ]
  },
  {
   "cell_type": "code",
   "execution_count": 278,
   "id": "6f9eea15-3654-496e-a3ef-80538e68db07",
   "metadata": {},
   "outputs": [
    {
     "data": {
      "text/plain": [
       "['sugar', 'aata', 'oil', 'spices', 'maida']"
      ]
     },
     "execution_count": 278,
     "metadata": {},
     "output_type": "execute_result"
    }
   ],
   "source": [
    "# append\n",
    "li.append('maida')\n",
    "li"
   ]
  },
  {
   "cell_type": "code",
   "execution_count": 279,
   "id": "b85c5e9b-89d6-43b8-98cc-0b73d3d804bb",
   "metadata": {},
   "outputs": [
    {
     "data": {
      "text/plain": [
       "['sugar', 'aata', 'oil', 'spices', 'maida', 'butter', 'milk', 'biscuits']"
      ]
     },
     "execution_count": 279,
     "metadata": {},
     "output_type": "execute_result"
    }
   ],
   "source": [
    "# extend\n",
    "li.extend(['butter','milk','biscuits'])\n",
    "li"
   ]
  },
  {
   "cell_type": "code",
   "execution_count": 280,
   "id": "ab91a6b8-7b5f-4b8a-9d04-97186ad82bbf",
   "metadata": {},
   "outputs": [
    {
     "data": {
      "text/plain": [
       "['sugar',\n",
       " 'aata',\n",
       " 'oil',\n",
       " 'spices',\n",
       " 'maida',\n",
       " 'butter',\n",
       " 'bread',\n",
       " 'milk',\n",
       " 'biscuits']"
      ]
     },
     "execution_count": 280,
     "metadata": {},
     "output_type": "execute_result"
    }
   ],
   "source": [
    "# insert\n",
    "li.insert(6,'bread')\n",
    "li"
   ]
  },
  {
   "cell_type": "code",
   "execution_count": 282,
   "id": "b06455fc-abb1-4166-bd4a-c398dcb67fc1",
   "metadata": {},
   "outputs": [
    {
     "name": "stdout",
     "output_type": "stream",
     "text": [
      "['sugar', 'aata', 'oil', 'maida', 'butter', 'bread', 'milk', 'biscuits']\n"
     ]
    }
   ],
   "source": [
    "# remove\n",
    "li.remove('spices')\n",
    "print(li)"
   ]
  },
  {
   "cell_type": "code",
   "execution_count": 283,
   "id": "72d0c8c0-e074-4f2e-9930-954adaaef5b3",
   "metadata": {},
   "outputs": [
    {
     "name": "stdout",
     "output_type": "stream",
     "text": [
      "['sugar', 'aata', 'oil', 'maida', 'butter', 'bread', 'milk']\n"
     ]
    }
   ],
   "source": [
    "# pop\n",
    "li.pop(7)\n",
    "print(li)"
   ]
  },
  {
   "cell_type": "code",
   "execution_count": 285,
   "id": "2c1bcda9-7900-4f1e-8337-d993b3bf1a79",
   "metadata": {},
   "outputs": [
    {
     "name": "stdout",
     "output_type": "stream",
     "text": [
      "['sugar', 'aata', 'oil', 'maida', 'butter', 'bread']\n"
     ]
    }
   ],
   "source": [
    "li.pop()\n",
    "print(li)"
   ]
  },
  {
   "cell_type": "code",
   "execution_count": 287,
   "id": "d4507a5a-58d0-4c92-9142-0eb834e7f017",
   "metadata": {},
   "outputs": [
    {
     "name": "stdout",
     "output_type": "stream",
     "text": [
      "['sugar', 'aata', 'oil', 'maida', 'bread']\n"
     ]
    }
   ],
   "source": [
    "del li[4]\n",
    "print(li)"
   ]
  },
  {
   "cell_type": "code",
   "execution_count": 289,
   "id": "f7285d63-a374-425c-8fb4-c6d95e6d3f0b",
   "metadata": {},
   "outputs": [
    {
     "data": {
      "text/plain": [
       "[]"
      ]
     },
     "execution_count": 289,
     "metadata": {},
     "output_type": "execute_result"
    }
   ],
   "source": [
    "li.clear()\n",
    "li"
   ]
  },
  {
   "cell_type": "code",
   "execution_count": 292,
   "id": "1dcd100c-d485-4147-820a-38e0a984ed71",
   "metadata": {},
   "outputs": [],
   "source": [
    "del li"
   ]
  },
  {
   "cell_type": "code",
   "execution_count": 294,
   "id": "362ad7f0-5425-440e-b3c4-873259718a2a",
   "metadata": {},
   "outputs": [
    {
     "data": {
      "text/plain": [
       "['mango', 'banana', 'guava', 'pineapple']"
      ]
     },
     "execution_count": 294,
     "metadata": {},
     "output_type": "execute_result"
    }
   ],
   "source": [
    "fruitsname = ['mango','banana','guava','pineapple']\n",
    "fruitsname"
   ]
  },
  {
   "cell_type": "code",
   "execution_count": 295,
   "id": "c26b6f9b-23a2-4354-b1e8-6eb3a923eee0",
   "metadata": {},
   "outputs": [
    {
     "data": {
      "text/plain": [
       "['mango', 'banana', 'guava', 'pineapple', 'pear']"
      ]
     },
     "execution_count": 295,
     "metadata": {},
     "output_type": "execute_result"
    }
   ],
   "source": [
    "# append\n",
    "fruitsname.append('pear')\n",
    "fruitsname"
   ]
  },
  {
   "cell_type": "code",
   "execution_count": 296,
   "id": "5c02a9d7-f0e1-41f2-9b5c-2e72fba647a0",
   "metadata": {},
   "outputs": [
    {
     "data": {
      "text/plain": [
       "[1, 2, 3, 4, 5, 6, 7, 8, 9, 10]"
      ]
     },
     "execution_count": 296,
     "metadata": {},
     "output_type": "execute_result"
    }
   ],
   "source": [
    "num = [1,2,3,4,5,6,7,8,9,10]\n",
    "num\n"
   ]
  },
  {
   "cell_type": "code",
   "execution_count": 297,
   "id": "4822cb23-68c2-4f63-a9c9-0e597bac5d68",
   "metadata": {},
   "outputs": [
    {
     "data": {
      "text/plain": [
       "[1, 2, 3, 4, 5, 6, 7, 8, 9, 10, 11, 12, 13, 14, 15, 16, 17, 18, 19, 20]"
      ]
     },
     "execution_count": 297,
     "metadata": {},
     "output_type": "execute_result"
    }
   ],
   "source": [
    "# extend \n",
    "num.extend([11,12,13,14,15,16,17,18,19,20])\n",
    "num"
   ]
  },
  {
   "cell_type": "markdown",
   "id": "55c67c98-ce19-439e-9aea-97afb527764c",
   "metadata": {},
   "source": [
    "# Type Conversion"
   ]
  },
  {
   "cell_type": "code",
   "execution_count": 300,
   "id": "e057289b-f729-4592-bf9b-41eb6c1d57af",
   "metadata": {},
   "outputs": [
    {
     "name": "stdout",
     "output_type": "stream",
     "text": [
      "7\n"
     ]
    },
    {
     "data": {
      "text/plain": [
       "int"
      ]
     },
     "execution_count": 300,
     "metadata": {},
     "output_type": "execute_result"
    }
   ],
   "source": [
    "x = 7\n",
    "print(x)\n",
    "type(x)"
   ]
  },
  {
   "cell_type": "code",
   "execution_count": 301,
   "id": "ec767d9d-ba0f-459b-a6fe-2993cd590cfb",
   "metadata": {},
   "outputs": [
    {
     "name": "stdout",
     "output_type": "stream",
     "text": [
      "7.0\n"
     ]
    },
    {
     "data": {
      "text/plain": [
       "float"
      ]
     },
     "execution_count": 301,
     "metadata": {},
     "output_type": "execute_result"
    }
   ],
   "source": [
    "y = float(x)\n",
    "print(y) \n",
    "type(y) "
   ]
  },
  {
   "cell_type": "code",
   "execution_count": 302,
   "id": "3335897c-75e0-45b2-a7d6-49f845bbd2da",
   "metadata": {},
   "outputs": [
    {
     "name": "stdout",
     "output_type": "stream",
     "text": [
      "3.45\n"
     ]
    },
    {
     "data": {
      "text/plain": [
       "float"
      ]
     },
     "execution_count": 302,
     "metadata": {},
     "output_type": "execute_result"
    }
   ],
   "source": [
    "# float to int \n",
    "a = 3.45 \n",
    "print(a) \n",
    "type(a) "
   ]
  },
  {
   "cell_type": "code",
   "execution_count": 303,
   "id": "c821a98a-d13e-471e-b051-4fafdc059c89",
   "metadata": {},
   "outputs": [
    {
     "name": "stdout",
     "output_type": "stream",
     "text": [
      "3\n"
     ]
    },
    {
     "data": {
      "text/plain": [
       "int"
      ]
     },
     "execution_count": 303,
     "metadata": {},
     "output_type": "execute_result"
    }
   ],
   "source": [
    "b = int(a) \n",
    "print(b) \n",
    "type(b) "
   ]
  },
  {
   "cell_type": "code",
   "execution_count": 304,
   "id": "ffa001ad-11ab-4bc7-bcc5-755382c5bcfe",
   "metadata": {},
   "outputs": [
    {
     "name": "stdout",
     "output_type": "stream",
     "text": [
      "35\n"
     ]
    },
    {
     "data": {
      "text/plain": [
       "str"
      ]
     },
     "execution_count": 304,
     "metadata": {},
     "output_type": "execute_result"
    }
   ],
   "source": [
    "# str to int \n",
    "s = '35' \n",
    "print(s) \n",
    "type(s)"
   ]
  },
  {
   "cell_type": "code",
   "execution_count": 305,
   "id": "ab410e8d-6dbb-4de4-a125-ba1c8a0e0f6b",
   "metadata": {},
   "outputs": [
    {
     "name": "stdout",
     "output_type": "stream",
     "text": [
      "35\n"
     ]
    },
    {
     "data": {
      "text/plain": [
       "int"
      ]
     },
     "execution_count": 305,
     "metadata": {},
     "output_type": "execute_result"
    }
   ],
   "source": [
    "i = int(s) \n",
    "print(i) \n",
    "type(i)"
   ]
  },
  {
   "cell_type": "code",
   "execution_count": 306,
   "id": "5ecb9476-721e-4e01-b872-5d2ed24abdb5",
   "metadata": {},
   "outputs": [
    {
     "name": "stdout",
     "output_type": "stream",
     "text": [
      "4\n"
     ]
    },
    {
     "data": {
      "text/plain": [
       "int"
      ]
     },
     "execution_count": 306,
     "metadata": {},
     "output_type": "execute_result"
    }
   ],
   "source": [
    "# int to str \n",
    "x = 4 \n",
    "print(x) \n",
    "type(x) \n"
   ]
  },
  {
   "cell_type": "code",
   "execution_count": 310,
   "id": "dbd2878c-2775-4df1-af91-d149301b3c06",
   "metadata": {},
   "outputs": [
    {
     "name": "stdout",
     "output_type": "stream",
     "text": [
      "4\n"
     ]
    },
    {
     "data": {
      "text/plain": [
       "str"
      ]
     },
     "execution_count": 310,
     "metadata": {},
     "output_type": "execute_result"
    }
   ],
   "source": [
    "y = str(x) \n",
    "print(y) \n",
    "type(y)"
   ]
  },
  {
   "cell_type": "code",
   "execution_count": 311,
   "id": "7b1a5cb4-10cb-4dfe-a46b-67c5e2022a22",
   "metadata": {},
   "outputs": [
    {
     "name": "stdout",
     "output_type": "stream",
     "text": [
      "65\n"
     ]
    },
    {
     "data": {
      "text/plain": [
       "int"
      ]
     },
     "execution_count": 311,
     "metadata": {},
     "output_type": "execute_result"
    }
   ],
   "source": [
    "# int to flt \n",
    "x = 65\n",
    "print(x) \n",
    "type(x)"
   ]
  },
  {
   "cell_type": "code",
   "execution_count": 312,
   "id": "7899bb5d-a5f6-4e94-9d3d-918526d448dd",
   "metadata": {},
   "outputs": [
    {
     "name": "stdout",
     "output_type": "stream",
     "text": [
      "65.0\n"
     ]
    },
    {
     "data": {
      "text/plain": [
       "float"
      ]
     },
     "execution_count": 312,
     "metadata": {},
     "output_type": "execute_result"
    }
   ],
   "source": [
    "y = float(x) \n",
    "print(y) \n",
    "type(y)"
   ]
  },
  {
   "cell_type": "code",
   "execution_count": 315,
   "id": "11332154-3264-4393-a3b0-84cc028eceb4",
   "metadata": {},
   "outputs": [
    {
     "name": "stdout",
     "output_type": "stream",
     "text": [
      "45.76\n"
     ]
    },
    {
     "data": {
      "text/plain": [
       "float"
      ]
     },
     "execution_count": 315,
     "metadata": {},
     "output_type": "execute_result"
    }
   ],
   "source": [
    "# float to int\n",
    "x = 45.76 \n",
    "print(x) \n",
    "type(x)"
   ]
  },
  {
   "cell_type": "code",
   "execution_count": 317,
   "id": "e69aeb20-ee29-42b6-a13b-4317e83c982c",
   "metadata": {},
   "outputs": [
    {
     "name": "stdout",
     "output_type": "stream",
     "text": [
      "45\n"
     ]
    },
    {
     "data": {
      "text/plain": [
       "int"
      ]
     },
     "execution_count": 317,
     "metadata": {},
     "output_type": "execute_result"
    }
   ],
   "source": [
    "y = int(x) \n",
    "print(y) \n",
    "type(y)"
   ]
  },
  {
   "cell_type": "code",
   "execution_count": 318,
   "id": "c96d5cf4-a1b5-49e3-be15-71aff57b33bf",
   "metadata": {},
   "outputs": [
    {
     "name": "stdout",
     "output_type": "stream",
     "text": [
      "[1, 2, 3, 4, 5, 'a', 'b', 'c', 'd']\n"
     ]
    },
    {
     "data": {
      "text/plain": [
       "list"
      ]
     },
     "execution_count": 318,
     "metadata": {},
     "output_type": "execute_result"
    }
   ],
   "source": [
    "# list to tuple \n",
    "li = [1,2,3,4,5,'a','b','c','d']\n",
    "print(li) \n",
    "type(li)"
   ]
  },
  {
   "cell_type": "code",
   "execution_count": 319,
   "id": "e329ea84-c773-408d-8181-0c4649d6b92b",
   "metadata": {},
   "outputs": [
    {
     "name": "stdout",
     "output_type": "stream",
     "text": [
      "(1, 2, 3, 4, 5, 'a', 'b', 'c', 'd')\n"
     ]
    },
    {
     "data": {
      "text/plain": [
       "tuple"
      ]
     },
     "execution_count": 319,
     "metadata": {},
     "output_type": "execute_result"
    }
   ],
   "source": [
    "tu = tuple(li) \n",
    "print(tu) \n",
    "type(tu)"
   ]
  },
  {
   "cell_type": "code",
   "execution_count": 320,
   "id": "0d42c356-564e-423a-a287-6f9af61ba9e4",
   "metadata": {},
   "outputs": [
    {
     "name": "stdout",
     "output_type": "stream",
     "text": [
      "(1, 2, 3, 4, 5, 6, 7, 8, 9)\n"
     ]
    },
    {
     "data": {
      "text/plain": [
       "tuple"
      ]
     },
     "execution_count": 320,
     "metadata": {},
     "output_type": "execute_result"
    }
   ],
   "source": [
    "# tuple to list \n",
    "tu = (1,2,3,4,5,6,7,8,9) \n",
    "print(tu) \n",
    "type(tu)"
   ]
  },
  {
   "cell_type": "code",
   "execution_count": 321,
   "id": "e35400dc-904a-44c5-8afd-7129e09b793f",
   "metadata": {},
   "outputs": [
    {
     "name": "stdout",
     "output_type": "stream",
     "text": [
      "[1, 2, 3, 4, 5, 6, 7, 8, 9]\n"
     ]
    },
    {
     "data": {
      "text/plain": [
       "list"
      ]
     },
     "execution_count": 321,
     "metadata": {},
     "output_type": "execute_result"
    }
   ],
   "source": [
    "li = list(tu) \n",
    "print(li) \n",
    "type(li)"
   ]
  },
  {
   "cell_type": "code",
   "execution_count": 323,
   "id": "9304ea49-ab83-4f71-863d-313f4a19a526",
   "metadata": {},
   "outputs": [
    {
     "name": "stdout",
     "output_type": "stream",
     "text": [
      "['gulshan', 'shubham', 'prateek', 'shubham', 'vikash', 'prateek']\n"
     ]
    },
    {
     "data": {
      "text/plain": [
       "list"
      ]
     },
     "execution_count": 323,
     "metadata": {},
     "output_type": "execute_result"
    }
   ],
   "source": [
    "# list to set \n",
    "names = ['gulshan','shubham','prateek','shubham','vikash','prateek'] \n",
    "print(names) \n",
    "type(names)"
   ]
  },
  {
   "cell_type": "code",
   "execution_count": 325,
   "id": "6f9b9b1d-c55e-416b-ba61-a4f7eb90705f",
   "metadata": {},
   "outputs": [
    {
     "name": "stdout",
     "output_type": "stream",
     "text": [
      "{'vikash', 'shubham', 'prateek', 'gulshan'}\n"
     ]
    },
    {
     "data": {
      "text/plain": [
       "set"
      ]
     },
     "execution_count": 325,
     "metadata": {},
     "output_type": "execute_result"
    }
   ],
   "source": [
    "unique_names = set(names) \n",
    "print(unique_names) \n",
    "type(unique_names)"
   ]
  },
  {
   "cell_type": "code",
   "execution_count": 326,
   "id": "b654e44c-452b-4a8b-8865-0b5ee97ed28b",
   "metadata": {},
   "outputs": [
    {
     "name": "stdout",
     "output_type": "stream",
     "text": [
      "('shubham', 'gulshan', 'prateek', 'vikash')\n"
     ]
    },
    {
     "data": {
      "text/plain": [
       "tuple"
      ]
     },
     "execution_count": 326,
     "metadata": {},
     "output_type": "execute_result"
    }
   ],
   "source": [
    "# set to list \n",
    "names = ('shubham','gulshan','prateek','vikash')\n",
    "print(names) \n",
    "type(names)"
   ]
  },
  {
   "cell_type": "code",
   "execution_count": 328,
   "id": "e6c8b409-6b93-4191-8a25-50c7ec4174f0",
   "metadata": {},
   "outputs": [
    {
     "name": "stdout",
     "output_type": "stream",
     "text": [
      "('shubham', 'gulshan', 'prateek', 'vikash')\n"
     ]
    },
    {
     "data": {
      "text/plain": [
       "tuple"
      ]
     },
     "execution_count": 328,
     "metadata": {},
     "output_type": "execute_result"
    }
   ],
   "source": [
    "unique_names = list(names) \n",
    "print(names) \n",
    "type(names)"
   ]
  },
  {
   "cell_type": "markdown",
   "id": "d7e1263a-17bc-4dad-9696-d74b255033a5",
   "metadata": {},
   "source": [
    "# Indexing and Slicing"
   ]
  },
  {
   "cell_type": "code",
   "execution_count": 333,
   "id": "5df75be7-62e6-4aa4-ab9f-03ad958acb2e",
   "metadata": {},
   "outputs": [
    {
     "name": "stdout",
     "output_type": "stream",
     "text": [
      "abcde\n"
     ]
    }
   ],
   "source": [
    "s = 'abcde' \n",
    "print(s)"
   ]
  },
  {
   "cell_type": "code",
   "execution_count": 334,
   "id": "aa6ff46b-e56e-4260-b6f9-df5712bc6313",
   "metadata": {},
   "outputs": [
    {
     "data": {
      "text/plain": [
       "'a'"
      ]
     },
     "execution_count": 334,
     "metadata": {},
     "output_type": "execute_result"
    }
   ],
   "source": [
    "s[0]"
   ]
  },
  {
   "cell_type": "code",
   "execution_count": 336,
   "id": "69a23397-28c6-4538-8d5d-cb48098be789",
   "metadata": {},
   "outputs": [
    {
     "data": {
      "text/plain": [
       "'e'"
      ]
     },
     "execution_count": 336,
     "metadata": {},
     "output_type": "execute_result"
    }
   ],
   "source": [
    "s[4]"
   ]
  },
  {
   "cell_type": "code",
   "execution_count": 337,
   "id": "2c8488e4-8a49-4fc7-8616-57b851cc1afb",
   "metadata": {},
   "outputs": [
    {
     "data": {
      "text/plain": [
       "'b'"
      ]
     },
     "execution_count": 337,
     "metadata": {},
     "output_type": "execute_result"
    }
   ],
   "source": [
    "s[-4]"
   ]
  },
  {
   "cell_type": "code",
   "execution_count": 338,
   "id": "6f5156c5-5b35-4def-a123-a60a33294eb3",
   "metadata": {},
   "outputs": [
    {
     "data": {
      "text/plain": [
       "'d'"
      ]
     },
     "execution_count": 338,
     "metadata": {},
     "output_type": "execute_result"
    }
   ],
   "source": [
    "s[-2]"
   ]
  },
  {
   "cell_type": "code",
   "execution_count": 339,
   "id": "264fe58f-ae84-40b5-8934-c45d7b889eb8",
   "metadata": {},
   "outputs": [
    {
     "name": "stdout",
     "output_type": "stream",
     "text": [
      "abcdefghijklmnopqrstuvwxyz\n"
     ]
    }
   ],
   "source": [
    "s = 'abcdefghijklmnopqrstuvwxyz' \n",
    "print(s)"
   ]
  },
  {
   "cell_type": "code",
   "execution_count": 342,
   "id": "4d19a417-8492-4635-9468-d6e4ccc36c8a",
   "metadata": {},
   "outputs": [
    {
     "data": {
      "text/plain": [
       "'abcdefghi'"
      ]
     },
     "execution_count": 342,
     "metadata": {},
     "output_type": "execute_result"
    }
   ],
   "source": [
    "s[0:9]"
   ]
  },
  {
   "cell_type": "code",
   "execution_count": 344,
   "id": "7d9d26e7-d726-417d-afc5-54fb20bb3acd",
   "metadata": {},
   "outputs": [
    {
     "data": {
      "text/plain": [
       "'abcdefghijklm'"
      ]
     },
     "execution_count": 344,
     "metadata": {},
     "output_type": "execute_result"
    }
   ],
   "source": [
    "s[:13]"
   ]
  },
  {
   "cell_type": "code",
   "execution_count": 345,
   "id": "dd1c7153-53a7-4d55-87d2-49bc5f3fd62a",
   "metadata": {},
   "outputs": [
    {
     "data": {
      "text/plain": [
       "'ijklmnopqrstuvwxyz'"
      ]
     },
     "execution_count": 345,
     "metadata": {},
     "output_type": "execute_result"
    }
   ],
   "source": [
    "s[8:]"
   ]
  },
  {
   "cell_type": "code",
   "execution_count": 347,
   "id": "eba35f8f-c819-44b3-8c68-dfda8b5ab7b0",
   "metadata": {},
   "outputs": [
    {
     "data": {
      "text/plain": [
       "'abcdefghijklmnopqrstuvwxyz'"
      ]
     },
     "execution_count": 347,
     "metadata": {},
     "output_type": "execute_result"
    }
   ],
   "source": [
    "s[:]"
   ]
  },
  {
   "cell_type": "code",
   "execution_count": 348,
   "id": "f998f091-0dad-4163-8a5a-1cb8a216fcb5",
   "metadata": {},
   "outputs": [
    {
     "data": {
      "text/plain": [
       "'ijk'"
      ]
     },
     "execution_count": 348,
     "metadata": {},
     "output_type": "execute_result"
    }
   ],
   "source": [
    "s[8:-15]"
   ]
  },
  {
   "cell_type": "code",
   "execution_count": 349,
   "id": "4d93b00b-ac52-462b-a17c-ef6682848747",
   "metadata": {},
   "outputs": [
    {
     "data": {
      "text/plain": [
       "'acegikmoqs'"
      ]
     },
     "execution_count": 349,
     "metadata": {},
     "output_type": "execute_result"
    }
   ],
   "source": [
    "s[0:20:2]"
   ]
  },
  {
   "cell_type": "code",
   "execution_count": 351,
   "id": "bfe5b84a-4d01-46d5-b277-f6ee3cb15f15",
   "metadata": {},
   "outputs": [
    {
     "data": {
      "text/plain": [
       "'zyxwvutsrqponmlkjihgfedcba'"
      ]
     },
     "execution_count": 351,
     "metadata": {},
     "output_type": "execute_result"
    }
   ],
   "source": [
    "s[::-1]"
   ]
  },
  {
   "cell_type": "code",
   "execution_count": 352,
   "id": "1ed2c6fd-149b-4fa3-9590-e426f0352cf7",
   "metadata": {},
   "outputs": [
    {
     "data": {
      "text/plain": [
       "''"
      ]
     },
     "execution_count": 352,
     "metadata": {},
     "output_type": "execute_result"
    }
   ],
   "source": [
    "s[9:19:-1]"
   ]
  },
  {
   "cell_type": "code",
   "execution_count": 354,
   "id": "2638a855-e23d-4856-aae0-dae7e0b76e1c",
   "metadata": {},
   "outputs": [
    {
     "data": {
      "text/plain": [
       "'s '"
      ]
     },
     "execution_count": 354,
     "metadata": {},
     "output_type": "execute_result"
    }
   ],
   "source": [
    "sentence = 'This is one sentence' \n",
    "sentence[6:8:1]"
   ]
  },
  {
   "cell_type": "code",
   "execution_count": 357,
   "id": "88355ea0-a154-4b00-8dd5-8ea5c39a56c9",
   "metadata": {},
   "outputs": [
    {
     "data": {
      "text/plain": [
       "'one'"
      ]
     },
     "execution_count": 357,
     "metadata": {},
     "output_type": "execute_result"
    }
   ],
   "source": [
    "sentence[8:11]"
   ]
  },
  {
   "cell_type": "code",
   "execution_count": 358,
   "id": "8e56df3c-e6ad-4930-aee1-6a4bd7f9e95a",
   "metadata": {},
   "outputs": [
    {
     "data": {
      "text/plain": [
       "'Aditya '"
      ]
     },
     "execution_count": 358,
     "metadata": {},
     "output_type": "execute_result"
    }
   ],
   "source": [
    "intro ='my name is Aditya kumar'\n",
    "intro[11:18]"
   ]
  },
  {
   "cell_type": "code",
   "execution_count": 360,
   "id": "a83e7f6e-33f3-4ee2-93a3-361aefb3fa89",
   "metadata": {},
   "outputs": [
    {
     "data": {
      "text/plain": [
       "'kumar'"
      ]
     },
     "execution_count": 360,
     "metadata": {},
     "output_type": "execute_result"
    }
   ],
   "source": [
    "intro[18:23]"
   ]
  },
  {
   "cell_type": "code",
   "execution_count": 361,
   "id": "fc95d5fa-5544-4f8e-a7d8-6728f6ab0211",
   "metadata": {},
   "outputs": [
    {
     "data": {
      "text/plain": [
       "'Aditya kumar'"
      ]
     },
     "execution_count": 361,
     "metadata": {},
     "output_type": "execute_result"
    }
   ],
   "source": [
    "intro[11:23]"
   ]
  },
  {
   "cell_type": "code",
   "execution_count": 363,
   "id": "46041ac2-67a8-4cc6-9c7a-80ef80f6b974",
   "metadata": {},
   "outputs": [
    {
     "name": "stdout",
     "output_type": "stream",
     "text": [
      "Adityakumar\n"
     ]
    }
   ],
   "source": [
    "first_name = 'Aditya'\n",
    "second_name = 'kumar'\n",
    "full_name = first_name + second_name\n",
    "print(full_name)"
   ]
  },
  {
   "cell_type": "code",
   "execution_count": 364,
   "id": "d460fbb5-17a2-49fb-a172-218cb48ff726",
   "metadata": {},
   "outputs": [
    {
     "name": "stdout",
     "output_type": "stream",
     "text": [
      "hello\n"
     ]
    }
   ],
   "source": [
    "text = \"hello world\" \n",
    "first_five = text[0:5] \n",
    "print(first_five)"
   ]
  },
  {
   "cell_type": "code",
   "execution_count": 365,
   "id": "5bb61ca3-6d80-4c40-8da9-51fe57c6fd2c",
   "metadata": {},
   "outputs": [
    {
     "name": "stdout",
     "output_type": "stream",
     "text": [
      "zyxwvutsrqponmlkjihgfedcba\n"
     ]
    }
   ],
   "source": [
    "text = \"abcdefghijklmnopqrstuvwxyz\" \n",
    "reversed_text = text[::-1] \n",
    "print(reversed_text)"
   ]
  },
  {
   "cell_type": "code",
   "execution_count": 367,
   "id": "3776e00c-70e8-4053-8974-e6b205e6829c",
   "metadata": {},
   "outputs": [
    {
     "name": "stdout",
     "output_type": "stream",
     "text": [
      "[10, 11, 12, 13, 14, 15]\n"
     ]
    }
   ],
   "source": [
    "number = [1, 2, 3, 4, 5, 6, 7, 8, 9, 10, 11, 12, 13, 14, 15] \n",
    "last_six = number[-6:] \n",
    "print(last_six)"
   ]
  },
  {
   "cell_type": "code",
   "execution_count": 368,
   "id": "77d69cbf-36f5-454a-86cd-48d11a62a372",
   "metadata": {},
   "outputs": [
    {
     "name": "stdout",
     "output_type": "stream",
     "text": [
      "[40, 50, 60, 70]\n"
     ]
    }
   ],
   "source": [
    "digit = [10, 20, 30, 40, 50, 60, 70, 80, 90, 100] \n",
    "lenght = len(digit) \n",
    "middle_index = lenght // 2 \n",
    "middle_four = digit[middle_index - 2:middle_index + 2] \n",
    "print(middle_four)"
   ]
  },
  {
   "cell_type": "code",
   "execution_count": 369,
   "id": "58b030ef-555b-45ba-b05b-6fb32382daa2",
   "metadata": {},
   "outputs": [
    {
     "name": "stdout",
     "output_type": "stream",
     "text": [
      "[2, 4, 6, 7, 8, 9, 1, 3, 5]\n",
      "[1, 2, 3, 4, 5, 6, 7, 8, 9]\n"
     ]
    }
   ],
   "source": [
    "li = [2,4,6,7,8,9,1,3,5] \n",
    "print(li) \n",
    "sorted_list = sorted(li) \n",
    "print(sorted_list)"
   ]
  },
  {
   "cell_type": "code",
   "execution_count": 371,
   "id": "79683343-f359-4329-91ea-b9728c63854a",
   "metadata": {},
   "outputs": [
    {
     "name": "stdout",
     "output_type": "stream",
     "text": [
      "[2, 4, 6, 7, 8, 9, 1, 3, 5]\n",
      "[9, 8, 7, 6, 5, 4, 3, 2, 1]\n"
     ]
    }
   ],
   "source": [
    "li = [2,4,6,7,8,9,1,3,5] \n",
    "print(li) \n",
    "sorted_list = sorted(li,reverse=True) \n",
    "print(sorted_list)"
   ]
  },
  {
   "cell_type": "markdown",
   "id": "d5361c3e-8b30-464e-822f-df78e5292182",
   "metadata": {},
   "source": [
    "# Flow Control \n",
    "* If\n",
    "* Elif\n",
    "*Else"
   ]
  },
  {
   "cell_type": "code",
   "execution_count": 373,
   "id": "63fcc51f-64ca-4171-918c-441fa64e4c5a",
   "metadata": {},
   "outputs": [
    {
     "name": "stdout",
     "output_type": "stream",
     "text": [
      "x is greater\n"
     ]
    }
   ],
   "source": [
    "x = 6\n",
    "y = 5\n",
    "if x > y:\n",
    "    print('x is greater')"
   ]
  },
  {
   "cell_type": "code",
   "execution_count": 375,
   "id": "42bc57d7-875f-4320-828a-9b7c1a6d376c",
   "metadata": {},
   "outputs": [
    {
     "name": "stdout",
     "output_type": "stream",
     "text": [
      "y is greater\n"
     ]
    }
   ],
   "source": [
    "x = 7\n",
    "y = 8\n",
    "if x > y:\n",
    "    print('x is greater') \n",
    "else:\n",
    "    print('y is greater')"
   ]
  },
  {
   "cell_type": "code",
   "execution_count": 376,
   "id": "ad883b4e-4750-4b42-97b8-92532766a275",
   "metadata": {},
   "outputs": [
    {
     "ename": "KeyboardInterrupt",
     "evalue": "Interrupted by user",
     "output_type": "error",
     "traceback": [
      "\u001b[1;31m---------------------------------------------------------------------------\u001b[0m",
      "\u001b[1;31mKeyboardInterrupt\u001b[0m                         Traceback (most recent call last)",
      "Cell \u001b[1;32mIn[376], line 1\u001b[0m\n\u001b[1;32m----> 1\u001b[0m x \u001b[38;5;241m=\u001b[39m \u001b[38;5;28mint\u001b[39m(\u001b[38;5;28minput\u001b[39m(\u001b[38;5;124m'\u001b[39m\u001b[38;5;124menter age of x: \u001b[39m\u001b[38;5;124m'\u001b[39m)) \n\u001b[0;32m      2\u001b[0m y \u001b[38;5;241m=\u001b[39m \u001b[38;5;28mint\u001b[39m(\u001b[38;5;28minput\u001b[39m(\u001b[38;5;124m'\u001b[39m\u001b[38;5;124menter age of y: \u001b[39m\u001b[38;5;124m'\u001b[39m)) \n\u001b[0;32m      3\u001b[0m \u001b[38;5;28;01mif\u001b[39;00m x \u001b[38;5;241m==\u001b[39m y: \n",
      "File \u001b[1;32m~\\anaconda3\\Lib\\site-packages\\ipykernel\\kernelbase.py:1262\u001b[0m, in \u001b[0;36mKernel.raw_input\u001b[1;34m(self, prompt)\u001b[0m\n\u001b[0;32m   1260\u001b[0m     msg \u001b[38;5;241m=\u001b[39m \u001b[38;5;124m\"\u001b[39m\u001b[38;5;124mraw_input was called, but this frontend does not support input requests.\u001b[39m\u001b[38;5;124m\"\u001b[39m\n\u001b[0;32m   1261\u001b[0m     \u001b[38;5;28;01mraise\u001b[39;00m StdinNotImplementedError(msg)\n\u001b[1;32m-> 1262\u001b[0m \u001b[38;5;28;01mreturn\u001b[39;00m \u001b[38;5;28mself\u001b[39m\u001b[38;5;241m.\u001b[39m_input_request(\n\u001b[0;32m   1263\u001b[0m     \u001b[38;5;28mstr\u001b[39m(prompt),\n\u001b[0;32m   1264\u001b[0m     \u001b[38;5;28mself\u001b[39m\u001b[38;5;241m.\u001b[39m_parent_ident[\u001b[38;5;124m\"\u001b[39m\u001b[38;5;124mshell\u001b[39m\u001b[38;5;124m\"\u001b[39m],\n\u001b[0;32m   1265\u001b[0m     \u001b[38;5;28mself\u001b[39m\u001b[38;5;241m.\u001b[39mget_parent(\u001b[38;5;124m\"\u001b[39m\u001b[38;5;124mshell\u001b[39m\u001b[38;5;124m\"\u001b[39m),\n\u001b[0;32m   1266\u001b[0m     password\u001b[38;5;241m=\u001b[39m\u001b[38;5;28;01mFalse\u001b[39;00m,\n\u001b[0;32m   1267\u001b[0m )\n",
      "File \u001b[1;32m~\\anaconda3\\Lib\\site-packages\\ipykernel\\kernelbase.py:1305\u001b[0m, in \u001b[0;36mKernel._input_request\u001b[1;34m(self, prompt, ident, parent, password)\u001b[0m\n\u001b[0;32m   1302\u001b[0m \u001b[38;5;28;01mexcept\u001b[39;00m \u001b[38;5;167;01mKeyboardInterrupt\u001b[39;00m:\n\u001b[0;32m   1303\u001b[0m     \u001b[38;5;66;03m# re-raise KeyboardInterrupt, to truncate traceback\u001b[39;00m\n\u001b[0;32m   1304\u001b[0m     msg \u001b[38;5;241m=\u001b[39m \u001b[38;5;124m\"\u001b[39m\u001b[38;5;124mInterrupted by user\u001b[39m\u001b[38;5;124m\"\u001b[39m\n\u001b[1;32m-> 1305\u001b[0m     \u001b[38;5;28;01mraise\u001b[39;00m \u001b[38;5;167;01mKeyboardInterrupt\u001b[39;00m(msg) \u001b[38;5;28;01mfrom\u001b[39;00m \u001b[38;5;28;01mNone\u001b[39;00m\n\u001b[0;32m   1306\u001b[0m \u001b[38;5;28;01mexcept\u001b[39;00m \u001b[38;5;167;01mException\u001b[39;00m:\n\u001b[0;32m   1307\u001b[0m     \u001b[38;5;28mself\u001b[39m\u001b[38;5;241m.\u001b[39mlog\u001b[38;5;241m.\u001b[39mwarning(\u001b[38;5;124m\"\u001b[39m\u001b[38;5;124mInvalid Message:\u001b[39m\u001b[38;5;124m\"\u001b[39m, exc_info\u001b[38;5;241m=\u001b[39m\u001b[38;5;28;01mTrue\u001b[39;00m)\n",
      "\u001b[1;31mKeyboardInterrupt\u001b[0m: Interrupted by user"
     ]
    }
   ],
   "source": [
    "x = int(input('enter age of x: ')) \n",
    "y = int(input('enter age of y: ')) \n",
    "if x == y: \n",
    "    print('x and y are twins') \n",
    "elif x > y:\n",
    "    print('x is elder') \n",
    "else:\n",
    "    print('y is elder')"
   ]
  },
  {
   "cell_type": "code",
   "execution_count": null,
   "id": "5340e871-6750-4378-b7f7-fa531de74926",
   "metadata": {},
   "outputs": [],
   "source": [
    "age = int(input('Enter your age: ')) \n",
    "if age >= 18:\n",
    "    print('you can vote') \n",
    "else:\n",
    "    print('you cannot vote')"
   ]
  },
  {
   "cell_type": "code",
   "execution_count": null,
   "id": "d9540eed-51e1-4881-976c-ad8a9b094209",
   "metadata": {},
   "outputs": [],
   "source": [
    "day = int(input('enter a num between 1and 7: ')) \n",
    "if day == 1:\n",
    "    print(\"Sunday\") \n",
    "elif day == 2: \n",
    "    print(\"Monday\") \n",
    "elif day == 3: \n",
    "    print(\"Tuesday\") \n",
    "elif day == 4: \n",
    "    print(\"Wednesday\") \n",
    "elif day == 5: \n",
    "    print(\"Thursday\") \n",
    "elif day == 6: \n",
    "    print(\"Friday\") \n",
    "elif day == 7: \n",
    "    print(\"Saturday\") \n",
    "else:\n",
    "    print('invalid input..!')"
   ]
  },
  {
   "cell_type": "code",
   "execution_count": null,
   "id": "c891637c-ba82-4e6f-a13c-4c21fbb683ae",
   "metadata": {},
   "outputs": [],
   "source": [
    "number = (n)\n",
    "if n == 0:\n",
    "        return 1 \n",
    "    return n * factorial(n - 1)\n",
    "result = factorial(5) \n",
    "print(result)   "
   ]
  },
  {
   "cell_type": "code",
   "execution_count": null,
   "id": "67022c3c-bc65-4abb-b0aa-c47ed9c48042",
   "metadata": {},
   "outputs": [],
   "source": [
    "number1 = 123 \n",
    "number2 = 456 \n",
    "number3 = 78 \n",
    "addition_result = number1 + number2 \n",
    "final_result = addition_result - number3 \n",
    "print(final_result)"
   ]
  },
  {
   "cell_type": "code",
   "execution_count": null,
   "id": "8564c986-af1b-4e05-80ff-bcad53d376b8",
   "metadata": {},
   "outputs": [],
   "source": [
    "number1 = 25 \n",
    "number2 = 40 \n",
    "result = number1 * number2 \n",
    "print(result)"
   ]
  },
  {
   "cell_type": "code",
   "execution_count": null,
   "id": "ead07bf7-89de-4eb5-ab2f-b39f3b8c1e04",
   "metadata": {},
   "outputs": [],
   "source": [
    "number1 = 500 \n",
    "number2 = 8 \n",
    "result = number1 / number2 \n",
    "print(result)"
   ]
  },
  {
   "cell_type": "code",
   "execution_count": null,
   "id": "d0ed7096-a5a7-434d-b705-52a39875ec96",
   "metadata": {},
   "outputs": [],
   "source": [
    "number1 = 45.6 \n",
    "number2 = 5 \n",
    "result = number1 // number2 \n",
    "print(result)"
   ]
  },
  {
   "cell_type": "code",
   "execution_count": null,
   "id": "525337f7-d8fd-4975-a011-33444150d869",
   "metadata": {},
   "outputs": [],
   "source": [
    "S = 'Hello' \n",
    "print(S) \n",
    "type(S)"
   ]
  },
  {
   "cell_type": "code",
   "execution_count": null,
   "id": "071191b0-9889-494e-b603-0fc3c92f587e",
   "metadata": {},
   "outputs": [],
   "source": [
    "S = 'Hello' \n",
    "second_four = S[1:] \n",
    "print(second_four)"
   ]
  },
  {
   "cell_type": "code",
   "execution_count": null,
   "id": "b5927178-9e42-4b13-8020-6f334078a962",
   "metadata": {},
   "outputs": [],
   "source": [
    "S = 'Y' + S[1:] + 'w' \n",
    "print(S)"
   ]
  },
  {
   "cell_type": "code",
   "execution_count": null,
   "id": "c53f8f95-cc4e-467b-af60-74aae1b86f3f",
   "metadata": {},
   "outputs": [],
   "source": [
    "S = \"mahendra\" \n",
    "print(S) \n",
    "type(S)"
   ]
  },
  {
   "cell_type": "code",
   "execution_count": null,
   "id": "fe999d19-b5e0-49fb-953f-3b847fa25217",
   "metadata": {},
   "outputs": [],
   "source": [
    "S = \"mahendra\" \n",
    "third = S[3:] \n",
    "print(third)"
   ]
  },
  {
   "cell_type": "code",
   "execution_count": null,
   "id": "ee996065-93d4-45a3-9939-f99d1e84a4bb",
   "metadata": {},
   "outputs": [],
   "source": [
    "S = 'Raj' + S[3:] \n",
    "print(S)"
   ]
  },
  {
   "cell_type": "code",
   "execution_count": null,
   "id": "8b62ce2c-70e2-40b4-8b7c-a124b445a48f",
   "metadata": {},
   "outputs": [],
   "source": [
    "letters = 'abcdefghijklmnopqrstuvwxyz'\n",
    "print(letters)"
   ]
  },
  {
   "cell_type": "code",
   "execution_count": null,
   "id": "11adf218-c38a-42c1-b0ce-8fb36ecd1491",
   "metadata": {},
   "outputs": [],
   "source": [
    "name = \"Rajesh\" \n",
    "print(name) \n",
    "type(name)"
   ]
  },
  {
   "cell_type": "code",
   "execution_count": null,
   "id": "9d617dfe-64a0-4a6d-9917-7f9c9a15b2a2",
   "metadata": {},
   "outputs": [],
   "source": [
    "name = \"Rajesh\" \n",
    "third = name[3:] \n",
    "print(third)"
   ]
  },
  {
   "cell_type": "code",
   "execution_count": null,
   "id": "c3e4bdcd-5a36-4194-9e68-9b09342a1462",
   "metadata": {},
   "outputs": [],
   "source": [
    "name = 'Mah' + name[3:] \n",
    "print(name)"
   ]
  },
  {
   "cell_type": "code",
   "execution_count": null,
   "id": "a63b3865-bce4-4c3a-9ae0-d7198a23c84d",
   "metadata": {},
   "outputs": [],
   "source": [
    "s = 'gear' \n",
    "print(s) \n",
    "type(s)"
   ]
  },
  {
   "cell_type": "code",
   "execution_count": null,
   "id": "93e18e6b-f29b-4178-9bf9-a6cb9b4c88a1",
   "metadata": {},
   "outputs": [],
   "source": [
    "s = 'gear' \n",
    "name = s[1:] \n",
    "print(name)"
   ]
  },
  {
   "cell_type": "code",
   "execution_count": null,
   "id": "dc7ea672-a35f-49bb-bc26-7cc10b258a24",
   "metadata": {},
   "outputs": [],
   "source": [
    "s = 'p' + s[1:] \n",
    "print(s)"
   ]
  },
  {
   "cell_type": "code",
   "execution_count": null,
   "id": "8dfee78e-86d3-4793-bf31-45cac94e426a",
   "metadata": {},
   "outputs": [],
   "source": [
    "x = 15 \n",
    "y = 20\n",
    "z = 40\n",
    "if x > y:\n",
    "    if x > z:\n",
    "    \n",
    "        print('x is largest') \n",
    "    else:\n",
    "        print ('z is largest') \n",
    "else:\n",
    "    if y > z:\n",
    "        print('y is largest') \n",
    "    else:\n",
    "        print('z is largest')"
   ]
  },
  {
   "cell_type": "code",
   "execution_count": null,
   "id": "3e539f35-ff9f-4fbf-aa0e-01f63e10b7d7",
   "metadata": {},
   "outputs": [],
   "source": [
    "x = 9000\n",
    "y = 800 \n",
    "z = 70 \n",
    "if x > y and x > z:\n",
    "    print('x is largest')\n",
    "elif y > x and y > z: \n",
    "     print('y is largest') \n",
    "else:\n",
    "    print('z is largest')"
   ]
  },
  {
   "cell_type": "markdown",
   "id": "824ddc92-42f3-429b-9386-baba06b27224",
   "metadata": {},
   "source": [
    "# LOOP"
   ]
  },
  {
   "cell_type": "code",
   "execution_count": 159,
   "id": "029fe633-965b-4efd-b93a-4ff380402648",
   "metadata": {},
   "outputs": [
    {
     "name": "stdout",
     "output_type": "stream",
     "text": [
      "4\n",
      "5\n",
      "6\n",
      "7\n",
      "8\n",
      "9\n",
      "10\n",
      "11\n",
      "12\n",
      "13\n",
      "14\n",
      "15\n",
      "16\n",
      "17\n",
      "18\n",
      "19\n",
      "20\n",
      "21\n",
      "22\n",
      "23\n",
      "24\n",
      "25\n",
      "26\n",
      "27\n",
      "28\n",
      "29\n",
      "30\n",
      "31\n",
      "32\n",
      "33\n",
      "34\n",
      "35\n",
      "36\n",
      "37\n",
      "38\n",
      "39\n",
      "40\n",
      "41\n",
      "42\n",
      "43\n"
     ]
    }
   ],
   "source": [
    "n = 4\n",
    "while n < 44 : \n",
    "    print(n) \n",
    "    n += 1"
   ]
  },
  {
   "cell_type": "code",
   "execution_count": 6,
   "id": "ce1a5916-8988-4457-8afe-6e13afb21097",
   "metadata": {},
   "outputs": [
    {
     "name": "stdin",
     "output_type": "stream",
     "text": [
      "enter a number: 17\n"
     ]
    },
    {
     "name": "stdout",
     "output_type": "stream",
     "text": [
      "17\n",
      "34\n",
      "51\n",
      "68\n",
      "85\n",
      "102\n",
      "119\n",
      "136\n",
      "153\n",
      "170\n"
     ]
    }
   ],
   "source": [
    "s = int(input('enter a number:')) \n",
    "n = 1\n",
    "\n",
    "while n <= 10:\n",
    "    print(s*n) \n",
    "    n += 1"
   ]
  },
  {
   "cell_type": "code",
   "execution_count": 169,
   "id": "4ddf95cf-aa17-4a10-977f-52b0a511c007",
   "metadata": {},
   "outputs": [
    {
     "name": "stdin",
     "output_type": "stream",
     "text": [
      "enter a number: 13\n"
     ]
    },
    {
     "name": "stdout",
     "output_type": "stream",
     "text": [
      "13 X 1 = 13\n",
      "13 X 2 = 26\n",
      "13 X 3 = 39\n",
      "13 X 4 = 52\n",
      "13 X 5 = 65\n",
      "13 X 6 = 78\n",
      "13 X 7 = 91\n",
      "13 X 8 = 104\n",
      "13 X 9 = 117\n",
      "13 X 10 = 130\n"
     ]
    }
   ],
   "source": [
    "s = int(input('enter a number:')) \n",
    "n = 1\n",
    "\n",
    "while n <= 10:\n",
    "    print(f'{s} X {n} = {s*n}') \n",
    "    n += 1"
   ]
  },
  {
   "cell_type": "code",
   "execution_count": 179,
   "id": "b5d28928-492e-491a-bea6-96f1ce1531da",
   "metadata": {},
   "outputs": [
    {
     "name": "stdout",
     "output_type": "stream",
     "text": [
      "1\n",
      "4\n",
      "9\n",
      "16\n",
      "25\n",
      "36\n",
      "49\n",
      "64\n",
      "81\n",
      "100\n"
     ]
    }
   ],
   "source": [
    "\n",
    "n = 1\n",
    "\n",
    "while n <= 10:\n",
    "    \n",
    "    print(n**2) \n",
    "    n += 1"
   ]
  },
  {
   "cell_type": "code",
   "execution_count": 184,
   "id": "dbe2fa28-5b99-46ff-ac8c-1ac59ad70065",
   "metadata": {},
   "outputs": [
    {
     "name": "stdout",
     "output_type": "stream",
     "text": [
      "1\n",
      "4\n",
      "27\n",
      "16\n",
      "125\n",
      "36\n",
      "343\n",
      "64\n",
      "729\n",
      "100\n",
      "1331\n",
      "144\n",
      "2197\n",
      "196\n",
      "3375\n",
      "256\n",
      "4913\n",
      "324\n",
      "6859\n",
      "400\n",
      "9261\n",
      "484\n",
      "12167\n",
      "576\n",
      "15625\n",
      "676\n",
      "19683\n",
      "784\n",
      "24389\n",
      "900\n",
      "29791\n",
      "1024\n",
      "35937\n",
      "1156\n",
      "42875\n",
      "1296\n",
      "50653\n",
      "1444\n",
      "59319\n",
      "1600\n",
      "68921\n",
      "1764\n",
      "79507\n",
      "1936\n",
      "91125\n",
      "2116\n",
      "103823\n",
      "2304\n",
      "117649\n",
      "2500\n"
     ]
    }
   ],
   "source": [
    "n = 1\n",
    "\n",
    "while n <= 50:\n",
    "    if n % 2 == 0: \n",
    "        print(n ** 2) \n",
    "    else:\n",
    "        print(n ** 3) \n",
    "    n +=1"
   ]
  },
  {
   "cell_type": "code",
   "execution_count": 194,
   "id": "4e9f9e7f-d68f-4c7c-8eb1-c74382836436",
   "metadata": {},
   "outputs": [
    {
     "name": "stdin",
     "output_type": "stream",
     "text": [
      "enter a number 2\n"
     ]
    },
    {
     "name": "stdout",
     "output_type": "stream",
     "text": [
      "2\n",
      "4\n",
      "6\n",
      "8\n",
      "10\n",
      "12\n",
      "14\n",
      "16\n",
      "18\n",
      "20\n",
      "22\n",
      "24\n",
      "26\n",
      "28\n",
      "30\n",
      "32\n",
      "34\n",
      "36\n",
      "38\n"
     ]
    }
   ],
   "source": [
    "i = int(input('enter a number')) \n",
    "for n in range(1, 20):\n",
    "    print(n * i)"
   ]
  },
  {
   "cell_type": "code",
   "execution_count": 206,
   "id": "d3cc2a07-14e7-4d11-a40c-729af59544a9",
   "metadata": {},
   "outputs": [
    {
     "name": "stdout",
     "output_type": "stream",
     "text": [
      "d\n",
      "t\n",
      "y\n"
     ]
    }
   ],
   "source": [
    "name = 'aditya' \n",
    "vowel = ['a','e','i','o','u'] \n",
    "for a in name: \n",
    "    if a not in vowel: \n",
    "        print(a)"
   ]
  },
  {
   "cell_type": "code",
   "execution_count": 230,
   "id": "f2f3216e-497e-4033-8820-5fc4f73a0b60",
   "metadata": {},
   "outputs": [
    {
     "name": "stdout",
     "output_type": "stream",
     "text": [
      "[2]\n",
      "[2, 4]\n",
      "[2, 4, 6]\n",
      "[2, 4, 6, 8]\n",
      "[2, 4, 6, 8, 10]\n",
      "[2, 4, 6, 8, 10, 12]\n",
      "[2, 4, 6, 8, 10, 12, 14]\n",
      "[2, 4, 6, 8, 10, 12, 14, 16]\n",
      "[2, 4, 6, 8, 10, 12, 14, 16, 18]\n",
      "[2, 4, 6, 8, 10, 12, 14, 16, 18, 20]\n"
     ]
    }
   ],
   "source": [
    "b = [1,2,3,4,5,6,7,8,9,10,11,12,13,14,15,16,17,18,19,20] \n",
    "a = []\n",
    "for i in range(1,len(b),2): \n",
    "    a.append(b[i]) \n",
    "    print(a)"
   ]
  },
  {
   "cell_type": "code",
   "execution_count": 10,
   "id": "085e1eab-dc63-4838-b6e6-b6435f8b8f7c",
   "metadata": {},
   "outputs": [
    {
     "name": "stdin",
     "output_type": "stream",
     "text": [
      "enter an integer:  45\n"
     ]
    },
    {
     "name": "stdout",
     "output_type": "stream",
     "text": [
      "the number 45 is odd. \n"
     ]
    }
   ],
   "source": [
    "number = int(input(\"enter an integer: \")) \n",
    "if number % 2 == 0:\n",
    "    print(f\"the number {number} is even. \") \n",
    "elif number % 2 != 0:\n",
    "    print(f\"the number {number} is odd. \")"
   ]
  },
  {
   "cell_type": "code",
   "execution_count": 56,
   "id": "683f78a4-9ad8-4367-8376-8cadd0fb6d33",
   "metadata": {},
   "outputs": [
    {
     "name": "stdin",
     "output_type": "stream",
     "text": [
      "enter the student's score:  75\n"
     ]
    },
    {
     "name": "stdout",
     "output_type": "stream",
     "text": [
      "the student's grade is: C\n"
     ]
    }
   ],
   "source": [
    "score = int(input(\"enter the student's score: \")) \n",
    "if score >= 90: \n",
    "    grade = \"A\" \n",
    "elif score >= 80: \n",
    "    grade = \"B\" \n",
    "elif score >= 70: \n",
    "    grade = \"C\" \n",
    "elif score >= 60: \n",
    "    grade = \"D\" \n",
    "else:\n",
    "    grade = \"F\" \n",
    "print(f\"the student's grade is: {grade}\")"
   ]
  },
  {
   "cell_type": "code",
   "execution_count": 63,
   "id": "5b348d66-d615-4182-93d8-39e1b724316c",
   "metadata": {},
   "outputs": [
    {
     "name": "stdin",
     "output_type": "stream",
     "text": [
      "enter the person's age:  37\n"
     ]
    },
    {
     "name": "stdout",
     "output_type": "stream",
     "text": [
      "the  category for age 37 is: Adult\n"
     ]
    }
   ],
   "source": [
    "def categorize_age(age): \n",
    "    if age < 13: \n",
    "        return \"Child\" \n",
    "    elif 13 <= age <= 19: \n",
    "        return \"Teenager\" \n",
    "    elif 20 <= age <= 35: \n",
    "        return \"Young Adult\" \n",
    "    elif 36 <= age <= 60: \n",
    "        return \"Adult\" \n",
    "    else: \n",
    "        return \"Senior\" \n",
    "\n",
    "age = int(input(\"enter the person's age: \")) \n",
    "category = categorize_age(age) \n",
    "print(f\"the  category for age {age} is: {category}\")"
   ]
  },
  {
   "cell_type": "code",
   "execution_count": 71,
   "id": "1345e603-70f9-47bf-88d3-5daf1cc88164",
   "metadata": {},
   "outputs": [
    {
     "name": "stdin",
     "output_type": "stream",
     "text": [
      "enter a number between 1 and 7: 6\n"
     ]
    },
    {
     "name": "stdout",
     "output_type": "stream",
     "text": [
      "Friday\n"
     ]
    }
   ],
   "source": [
    "day = int(input('enter a number between 1 and 7:')) \n",
    "if day == 1: \n",
    "    print(\"Sunday\") \n",
    "elif day == 2: \n",
    "    print(\"Monday\") \n",
    "elif day == 3: \n",
    "    print(\"Tuesday\") \n",
    "elif day == 4: \n",
    "    print(\"Wednesday\") \n",
    "elif day == 5: \n",
    "    print(\"Thursday\") \n",
    "elif day == 6: \n",
    "    print(\"Friday\") \n",
    "elif day == 7: \n",
    "    print(\"Saturday\") \n",
    "else: \n",
    "    print('invalid input..!')"
   ]
  },
  {
   "cell_type": "code",
   "execution_count": 75,
   "id": "ccb63f6d-e15e-4c5c-80e6-3b269f24ff6f",
   "metadata": {},
   "outputs": [
    {
     "name": "stdin",
     "output_type": "stream",
     "text": [
      "enter the temperature in celsius:  45\n"
     ]
    },
    {
     "name": "stdout",
     "output_type": "stream",
     "text": [
      "the temperature in fahrenheit is: 113.00#f\n",
      "the temperature is: Normal\n"
     ]
    }
   ],
   "source": [
    "def celsius_to_fahrenheit(celsius): \n",
    "    fahrenheit = (celsius * 9/5) + 32\n",
    "    return fahrenheit\n",
    "    \n",
    "def check_temperature(fahrenheit):\n",
    "    if fahrenheit <32:\n",
    "        return \"Freezing\" \n",
    "    elif fahrenheit > 212: \n",
    "        return \"Boiling\" \n",
    "    else: \n",
    "        return \"Normal\" \n",
    "celsius = float(input(\"enter the temperature in celsius: \")) \n",
    "fahrenheit = celsius_to_fahrenheit(celsius) \n",
    "category = check_temperature(fahrenheit) \n",
    "print(f\"the temperature in fahrenheit is: {fahrenheit:.2f}#f\") \n",
    "print(f\"the temperature is: {category}\") "
   ]
  },
  {
   "cell_type": "code",
   "execution_count": 77,
   "id": "599b2054-578c-47ab-b895-0cada62785d8",
   "metadata": {},
   "outputs": [
    {
     "name": "stdin",
     "output_type": "stream",
     "text": [
      "enter a year:  4\n"
     ]
    },
    {
     "name": "stdout",
     "output_type": "stream",
     "text": [
      "4 is a leap year.\n"
     ]
    }
   ],
   "source": [
    "def is_leap_year(year): \n",
    "    if year % 4 == 0: \n",
    "        if year % 100 == 0: \n",
    "            if year % 400 == 0: \n",
    "                return True \n",
    "            else: \n",
    "                return False \n",
    "        else: \n",
    "            return True \n",
    "    else: \n",
    "        return False \n",
    "\n",
    "year = int(input(\"enter a year: \")) \n",
    "if is_leap_year(year): \n",
    "    print(f\"{year} is a leap year.\") \n",
    "else: \n",
    "    print(f\"{year} is not a leap year.\")"
   ]
  },
  {
   "cell_type": "code",
   "execution_count": 79,
   "id": "3c2f081c-3bf1-4e0e-9bd5-9bbf8347779a",
   "metadata": {},
   "outputs": [
    {
     "name": "stdin",
     "output_type": "stream",
     "text": [
      "enter the length of the first side:  5.4\n",
      "enter the length of the second side:  6\n",
      "enter the length of the third side:  3.2\n"
     ]
    },
    {
     "name": "stdout",
     "output_type": "stream",
     "text": [
      "the triangle with sides 5.4, 6.0, and 3.2 is: Scalene\n"
     ]
    }
   ],
   "source": [
    "def check_triangle_type(a, b, c): \n",
    "    if a == b == c: \n",
    "        return \"Equilateral\"\n",
    "    elif a == b or b == c or a == c: \n",
    "        return \"Isosceles\" \n",
    "    else: \n",
    "        return \"Scalene\"\n",
    "\n",
    "a = float(input(\"enter the length of the first side: \")) \n",
    "b = float(input(\"enter the length of the second side: \")) \n",
    "c = float(input(\"enter the length of the third side: \")) \n",
    "triangle_type = check_triangle_type(a, b, c) \n",
    "print(f\"the triangle with sides {a}, {b}, and {c} is: {triangle_type}\")"
   ]
  },
  {
   "cell_type": "code",
   "execution_count": 4,
   "id": "57a09cef-2de1-469c-b293-fd8d37dfebca",
   "metadata": {},
   "outputs": [
    {
     "name": "stdin",
     "output_type": "stream",
     "text": [
      "enter the amount spent: $ 500\n"
     ]
    },
    {
     "name": "stdout",
     "output_type": "stream",
     "text": [
      "discount: $0.00\n",
      "final amount after discount: $500.00\n"
     ]
    }
   ],
   "source": [
    "def calculate_discount(amount): \n",
    "    if amount > 1000: \n",
    "        discount = amount * 0.20 \n",
    "    elif amount > 500: \n",
    "        discount = amount * 0.10 \n",
    "    else: \n",
    "        discount = 0 \n",
    "    final_amount = amount - discount \n",
    "    return discount, final_amount \n",
    "amount = float(input(\"enter the amount spent: $\")) \n",
    "discount, final_amount = calculate_discount(amount) \n",
    "print(f\"discount: ${discount:.2f}\") \n",
    "print(f\"final amount after discount: ${final_amount:.2f}\") "
   ]
  },
  {
   "cell_type": "code",
   "execution_count": 14,
   "id": "106c0c26-6709-4717-8b4f-dff3e09f8f63",
   "metadata": {},
   "outputs": [
    {
     "name": "stdin",
     "output_type": "stream",
     "text": [
      "enter a number:  89\n"
     ]
    },
    {
     "name": "stdout",
     "output_type": "stream",
     "text": [
      "the number 89.0 is: Positive\n"
     ]
    }
   ],
   "source": [
    "def check_number_sigh(number): \n",
    "    if number > 0: \n",
    "        return \"Positive\" \n",
    "    elif number < 0: \n",
    "        return \"Negative\" \n",
    "    else: \n",
    "        return \"Zero\" \n",
    "number = float(input(\"enter a number: \")) \n",
    "sigh = check_number_sigh(number) \n",
    "print(f\"the number {number} is: {sigh}\") "
   ]
  },
  {
   "cell_type": "code",
   "execution_count": 12,
   "id": "1669e174-183d-445f-8f63-77ae10ba9a67",
   "metadata": {},
   "outputs": [
    {
     "name": "stdin",
     "output_type": "stream",
     "text": [
      "enter a positive integer:  50\n"
     ]
    },
    {
     "name": "stdout",
     "output_type": "stream",
     "text": [
      "the sum of the first 50 natural numbers is: 1275\n"
     ]
    }
   ],
   "source": [
    "def sum_of_natural_numbers(n): \n",
    "    sum = 0 \n",
    "    i = 1 \n",
    "    while i <= n: \n",
    "        sum += i \n",
    "        i += 1 \n",
    "    return sum \n",
    "n = int(input(\"enter a positive integer: \")) \n",
    "result = sum_of_natural_numbers(n) \n",
    "print(f\"the sum of the first {n} natural numbers is: {result}\") "
   ]
  },
  {
   "cell_type": "code",
   "execution_count": 14,
   "id": "c035f531-b465-4cbb-b155-33ecf30293e4",
   "metadata": {},
   "outputs": [
    {
     "data": {
      "text/plain": [
       "['s', 'h', 'u', 'b', 'h', 'a', 'm']"
      ]
     },
     "execution_count": 14,
     "metadata": {},
     "output_type": "execute_result"
    }
   ],
   "source": [
    "name = 'shubham' \n",
    "li = [i for i in name] \n",
    "li"
   ]
  },
  {
   "cell_type": "code",
   "execution_count": 18,
   "id": "4d5778c7-5037-4343-9f6d-77eb3951e30b",
   "metadata": {},
   "outputs": [
    {
     "data": {
      "text/plain": [
       "['a', 'd', 'i', 't', 'y', 'a', ' ', 'v', 'e', 'r', 'm', 'a']"
      ]
     },
     "execution_count": 18,
     "metadata": {},
     "output_type": "execute_result"
    }
   ],
   "source": [
    "name = 'aditya verma' \n",
    "li = [i for i in name] \n",
    "li"
   ]
  },
  {
   "cell_type": "code",
   "execution_count": 22,
   "id": "50e5c386-9847-4e23-8e46-0917a88cc82c",
   "metadata": {},
   "outputs": [],
   "source": [
    "# create a new list of powers of 0 to 9"
   ]
  },
  {
   "cell_type": "code",
   "execution_count": 30,
   "id": "8b7f7d01-7def-4b76-9742-5025f02bccb8",
   "metadata": {},
   "outputs": [
    {
     "name": "stdout",
     "output_type": "stream",
     "text": [
      "<generator object <genexpr> at 0x0000016D5C895150>\n"
     ]
    }
   ],
   "source": [
    "powers = (num ** 2 for num in range(10)) \n",
    "print(powers)"
   ]
  },
  {
   "cell_type": "code",
   "execution_count": 32,
   "id": "1675f792-34d5-4314-b0dd-c16fb6f3c335",
   "metadata": {},
   "outputs": [
    {
     "data": {
      "text/plain": [
       "0"
      ]
     },
     "execution_count": 32,
     "metadata": {},
     "output_type": "execute_result"
    }
   ],
   "source": [
    "next(powers) # call the first value in the generator"
   ]
  },
  {
   "cell_type": "code",
   "execution_count": 75,
   "id": "e4123d54-3113-4d6d-a202-4d6d1615267b",
   "metadata": {},
   "outputs": [
    {
     "ename": "StopIteration",
     "evalue": "",
     "output_type": "error",
     "traceback": [
      "\u001b[1;31m---------------------------------------------------------------------------\u001b[0m",
      "\u001b[1;31mStopIteration\u001b[0m                             Traceback (most recent call last)",
      "Cell \u001b[1;32mIn[75], line 1\u001b[0m\n\u001b[1;32m----> 1\u001b[0m \u001b[38;5;28mnext\u001b[39m(powers)\n",
      "\u001b[1;31mStopIteration\u001b[0m: "
     ]
    }
   ],
   "source": [
    "next(powers) # call the next value in the generator"
   ]
  },
  {
   "cell_type": "code",
   "execution_count": 3,
   "id": "b36dea51-9c71-490d-aa56-d9ed20abed87",
   "metadata": {},
   "outputs": [
    {
     "name": "stdout",
     "output_type": "stream",
     "text": [
      "juicy apple\n",
      "juicy banana\n",
      "juicy cherry\n",
      "big apple\n",
      "big banana\n",
      "big cherry\n",
      "tasty apple\n",
      "tasty banana\n",
      "tasty cherry\n"
     ]
    }
   ],
   "source": [
    "adjectives = [\"juicy\", \"big\", \"tasty\"] # list 1 \n",
    "fruits = [\"apple\", \"banana\", \"cherry\"] # list 2 \n",
    "for adjective in adjectives: # looping over list 1 - outer loop \n",
    "    for fruit in fruits: # looping over list 2 - inner loop \n",
    "        print(adjective, fruit)"
   ]
  },
  {
   "cell_type": "markdown",
   "id": "788e2542-acc8-4b26-b2a6-3b4e3aa4622e",
   "metadata": {},
   "source": [
    "# Break statement"
   ]
  },
  {
   "cell_type": "code",
   "execution_count": 4,
   "id": "3b72d164-b963-4df1-a55d-11b532c5dc7f",
   "metadata": {},
   "outputs": [
    {
     "name": "stdout",
     "output_type": "stream",
     "text": [
      "0\n",
      "1\n",
      "2\n",
      "3\n"
     ]
    }
   ],
   "source": [
    "n = 0 \n",
    "while n < 6: \n",
    "    print(n) \n",
    "    if n == 3: \n",
    "        break  \n",
    "    n +=1"
   ]
  },
  {
   "cell_type": "code",
   "execution_count": 6,
   "id": "863bc60f-6880-4212-8f31-fb588cf68e69",
   "metadata": {},
   "outputs": [
    {
     "name": "stdout",
     "output_type": "stream",
     "text": [
      "apple\n",
      "banana\n"
     ]
    }
   ],
   "source": [
    "fruits = [\"apple\", \"banana\",\"cherry\"] \n",
    "for fruit in fruits: \n",
    "    print(fruit) \n",
    "    if fruit == \"banana\": \n",
    "        break"
   ]
  },
  {
   "cell_type": "markdown",
   "id": "2555ad25-6125-4e62-97b9-667b56920db0",
   "metadata": {},
   "source": [
    "## continue statement"
   ]
  },
  {
   "cell_type": "code",
   "execution_count": 9,
   "id": "aa2c3783-9a87-4835-89a3-17b14aa2766b",
   "metadata": {},
   "outputs": [
    {
     "name": "stdout",
     "output_type": "stream",
     "text": [
      "1\n",
      "2\n",
      "4\n",
      "5\n",
      "6\n"
     ]
    }
   ],
   "source": [
    "n = 0 \n",
    "while n < 6: \n",
    "    n += 1 \n",
    "    if n == 3: \n",
    "        continue \n",
    "    print(n)"
   ]
  },
  {
   "cell_type": "code",
   "execution_count": 17,
   "id": "94e5aba4-4c3a-4844-aa09-777633801276",
   "metadata": {},
   "outputs": [
    {
     "name": "stdout",
     "output_type": "stream",
     "text": [
      "banana\n",
      "cherry\n"
     ]
    }
   ],
   "source": [
    "fruits = [\"apple\", \"banana\", \"cherry\"] \n",
    "for fruit in fruits:  \n",
    "    if fruit == \"apple\": \n",
    "        continue\n",
    "    print(fruit)"
   ]
  },
  {
   "cell_type": "markdown",
   "id": "74de078b-fd3e-41cf-9fac-230d78d73cd7",
   "metadata": {},
   "source": [
    "### Exceptiion Handling Examples"
   ]
  },
  {
   "cell_type": "code",
   "execution_count": 20,
   "id": "83b29349-df75-47b4-85bf-f452b7d37cb3",
   "metadata": {},
   "outputs": [
    {
     "name": "stdout",
     "output_type": "stream",
     "text": [
      "An exception occured\n"
     ]
    }
   ],
   "source": [
    "# setup an eroor handle block \n",
    "try: \n",
    "    print(x_val) \n",
    "except: \n",
    "    print('An exception occured')"
   ]
  },
  {
   "cell_type": "code",
   "execution_count": 22,
   "id": "259403e4-8c52-485f-9114-d94302d0eb55",
   "metadata": {},
   "outputs": [
    {
     "name": "stdout",
     "output_type": "stream",
     "text": [
      "something went wrong\n",
      "the 'try except' is finished\n"
     ]
    }
   ],
   "source": [
    "# finaly block example #1\n",
    "try: \n",
    "    print(x) \n",
    "except: \n",
    "    print(\"something went wrong\") \n",
    "finally: \n",
    "    print(\"the 'try except' is finished\")"
   ]
  },
  {
   "cell_type": "code",
   "execution_count": 26,
   "id": "9a071005-7f65-4539-a56d-1f9cc03a3b93",
   "metadata": {},
   "outputs": [
    {
     "name": "stdin",
     "output_type": "stream",
     "text": [
      "enter a number: aditya\n"
     ]
    },
    {
     "name": "stdout",
     "output_type": "stream",
     "text": [
      "invalid input...!\n"
     ]
    }
   ],
   "source": [
    "try: \n",
    "    n = int(input('enter a number:')) \n",
    "    if n % 2 == 0: \n",
    "        print('even') \n",
    "    else: \n",
    "        print('odd') \n",
    "except: \n",
    "    print('invalid input...!')"
   ]
  },
  {
   "cell_type": "code",
   "execution_count": 28,
   "id": "41a721b6-2a39-4401-ba7f-2e0625680a4b",
   "metadata": {},
   "outputs": [
    {
     "ename": "NameError",
     "evalue": "name 'exception' is not defined",
     "output_type": "error",
     "traceback": [
      "\u001b[1;31m---------------------------------------------------------------------------\u001b[0m",
      "\u001b[1;31mNameError\u001b[0m                                 Traceback (most recent call last)",
      "Cell \u001b[1;32mIn[28], line 4\u001b[0m\n\u001b[0;32m      1\u001b[0m x \u001b[38;5;241m=\u001b[39m \u001b[38;5;241m-\u001b[39m\u001b[38;5;241m1\u001b[39m \n\u001b[0;32m      3\u001b[0m \u001b[38;5;28;01mif\u001b[39;00m x \u001b[38;5;241m<\u001b[39m \u001b[38;5;241m0\u001b[39m: \n\u001b[1;32m----> 4\u001b[0m     \u001b[38;5;28;01mraise\u001b[39;00m exception (\u001b[38;5;124m\"\u001b[39m\u001b[38;5;124msorry, number below zero\u001b[39m\u001b[38;5;124m\"\u001b[39m)\n",
      "\u001b[1;31mNameError\u001b[0m: name 'exception' is not defined"
     ]
    }
   ],
   "source": [
    "x = -1 \n",
    "\n",
    "if x < 0: \n",
    "    raise exception (\"sorry, number below zero\") "
   ]
  },
  {
   "cell_type": "code",
   "execution_count": 34,
   "id": "f2bc0b4a-15a4-4068-90f2-1f15ec4d41ef",
   "metadata": {},
   "outputs": [
    {
     "ename": "TypeError",
     "evalue": "only integer are allowed!",
     "output_type": "error",
     "traceback": [
      "\u001b[1;31m---------------------------------------------------------------------------\u001b[0m",
      "\u001b[1;31mTypeError\u001b[0m                                 Traceback (most recent call last)",
      "Cell \u001b[1;32mIn[34], line 4\u001b[0m\n\u001b[0;32m      1\u001b[0m x \u001b[38;5;241m=\u001b[39m \u001b[38;5;124m\"\u001b[39m\u001b[38;5;124mhello\u001b[39m\u001b[38;5;124m\"\u001b[39m \n\u001b[0;32m      3\u001b[0m \u001b[38;5;28;01mif\u001b[39;00m \u001b[38;5;129;01mnot\u001b[39;00m \u001b[38;5;28mtype\u001b[39m(x) \u001b[38;5;129;01mis\u001b[39;00m \u001b[38;5;28mint\u001b[39m: \n\u001b[1;32m----> 4\u001b[0m     \u001b[38;5;28;01mraise\u001b[39;00m \u001b[38;5;167;01mTypeError\u001b[39;00m(\u001b[38;5;124m\"\u001b[39m\u001b[38;5;124monly integer are allowed!\u001b[39m\u001b[38;5;124m\"\u001b[39m)\n",
      "\u001b[1;31mTypeError\u001b[0m: only integer are allowed!"
     ]
    }
   ],
   "source": [
    "x = \"hello\" \n",
    "\n",
    "if not type(x) is int: \n",
    "    raise TypeError(\"only integer are allowed!\")"
   ]
  },
  {
   "cell_type": "code",
   "execution_count": 36,
   "id": "5fdcd9d1-50c9-4f10-af09-c0123521ecfa",
   "metadata": {},
   "outputs": [
    {
     "name": "stdout",
     "output_type": "stream",
     "text": [
      "False\n",
      "True\n"
     ]
    }
   ],
   "source": [
    "def is_even(num): \n",
    "    return num % 2 == 0 \n",
    "print(is_even(55)) \n",
    "print(is_even(100))"
   ]
  },
  {
   "cell_type": "code",
   "execution_count": 42,
   "id": "e062ebe0-30d6-4ce3-a6e9-ad77c76e677c",
   "metadata": {},
   "outputs": [
    {
     "name": "stdout",
     "output_type": "stream",
     "text": [
      "80.0\n"
     ]
    }
   ],
   "source": [
    "def simple_interest(principal,rate,time):\n",
    "    si = (principal * rate * time) / 100 \n",
    "    return si\n",
    "print(simple_interest(1000,4,2))"
   ]
  },
  {
   "cell_type": "code",
   "execution_count": 44,
   "id": "5ff3a78e-c825-4389-a553-380f71ef8621",
   "metadata": {},
   "outputs": [
    {
     "data": {
      "text/plain": [
       "207.31199999999998"
      ]
     },
     "execution_count": 44,
     "metadata": {},
     "output_type": "execute_result"
    }
   ],
   "source": [
    "simple_interest(1234,5.6,3)"
   ]
  },
  {
   "cell_type": "markdown",
   "id": "c1cfd2fb-3000-45d8-ae7e-1d1933f5dc1c",
   "metadata": {},
   "source": [
    "# Built-in Modules"
   ]
  },
  {
   "cell_type": "markdown",
   "id": "374cf0c9-dfd7-44ad-9a5d-240dfa32eee0",
   "metadata": {},
   "source": [
    "* Datetime module - Built-in Modules"
   ]
  },
  {
   "cell_type": "markdown",
   "id": "d1aabc5a-59df-41ec-8e51-3b89f7887865",
   "metadata": {},
   "source": [
    "# Python Date"
   ]
  },
  {
   "cell_type": "code",
   "execution_count": 10,
   "id": "7ba9a40f-8890-4702-bbb9-9f3063b63be7",
   "metadata": {},
   "outputs": [
    {
     "name": "stdout",
     "output_type": "stream",
     "text": [
      "2025-01-02 11:48:30.660145\n",
      "2025\n",
      "Thursday\n"
     ]
    }
   ],
   "source": [
    "# import datetime modules\n",
    "import datetime \n",
    "\n",
    "# .now() is a built-in datetime function\n",
    "time_now = datetime.datetime.now() \n",
    "\n",
    "# print time now \n",
    "print(time_now) \n",
    "\n",
    "# print year only \n",
    "print(time_now.year) \n",
    "\n",
    "# print day only \n",
    "print(time_now.strftime(\"%A\"))"
   ]
  },
  {
   "cell_type": "code",
   "execution_count": 19,
   "id": "4e44043d-3626-4833-b3a0-c73c1fd50db1",
   "metadata": {},
   "outputs": [
    {
     "name": "stdout",
     "output_type": "stream",
     "text": [
      "Friday\n",
      "July\n",
      "07/01/05\n",
      "2005\n"
     ]
    }
   ],
   "source": [
    "# create a data \n",
    "x = datetime.datetime(2005, 7, 1)      \n",
    "\n",
    "# get the weekday name \n",
    "print(x.strftime(\"%A\"))   \n",
    "\n",
    "# get the month name \n",
    "print(x.strftime(\"%B\"))   \n",
    "\n",
    "# get the day \n",
    "print(x.strftime(\"%D\"))\n",
    "\n",
    "# get the year \n",
    "print(x.strftime(\"%Y\"))"
   ]
  },
  {
   "cell_type": "code",
   "execution_count": 128,
   "id": "930b2f49-5add-466b-90eb-cd29cbcd281d",
   "metadata": {},
   "outputs": [
    {
     "name": "stdout",
     "output_type": "stream",
     "text": [
      "1\n"
     ]
    }
   ],
   "source": [
    "import random \n",
    "\n",
    "random_integer = random.randint(1,6) \n",
    "print(random_integer)"
   ]
  },
  {
   "cell_type": "code",
   "execution_count": 72,
   "id": "ecd341b2-208d-4fc2-a829-f7a0a75aec57",
   "metadata": {},
   "outputs": [
    {
     "name": "stdout",
     "output_type": "stream",
     "text": [
      "0\n"
     ]
    }
   ],
   "source": [
    "random_number = random.randrange(8) \n",
    "print(random_number)"
   ]
  },
  {
   "cell_type": "code",
   "execution_count": 130,
   "id": "41ac78ff-9041-4049-8a3a-105fe774ff72",
   "metadata": {},
   "outputs": [],
   "source": [
    "import Aditya"
   ]
  },
  {
   "cell_type": "code",
   "execution_count": 1,
   "id": "6c1a54fc-80ad-4183-96d2-1d3144aa4bf5",
   "metadata": {},
   "outputs": [],
   "source": [
    "import newmodulefile as nmf "
   ]
  },
  {
   "cell_type": "code",
   "execution_count": 3,
   "id": "8714d053-b40e-4b92-9dff-1f8e6af537a3",
   "metadata": {},
   "outputs": [
    {
     "name": "stdout",
     "output_type": "stream",
     "text": [
      "Good Morning anand\n"
     ]
    }
   ],
   "source": [
    "nmf.greeting('anand')"
   ]
  },
  {
   "cell_type": "code",
   "execution_count": 7,
   "id": "5ea11598-82d3-497b-a9bd-42db27a1d1a8",
   "metadata": {},
   "outputs": [
    {
     "name": "stdout",
     "output_type": "stream",
     "text": [
      "lovkush bhai aap kya kr rhe h hey bro\n"
     ]
    }
   ],
   "source": [
    "nmf.Aditya('hey bro') "
   ]
  },
  {
   "cell_type": "markdown",
   "id": "7bd5c650-f854-44b0-92fb-82b46f554631",
   "metadata": {},
   "source": [
    "# OOPS"
   ]
  },
  {
   "cell_type": "code",
   "execution_count": 5,
   "id": "69224fce-39cf-472a-b052-c03c16a4fd6c",
   "metadata": {},
   "outputs": [],
   "source": [
    "class Person:  \n",
    "    def say_hii(self):  \n",
    "        print('hii')  \n",
    "    def say_bye(self):  \n",
    "        print('Bbye') \n"
   ]
  },
  {
   "cell_type": "code",
   "execution_count": 7,
   "id": "61d2499d-b0ef-4f27-92c3-f8dc1e8f100f",
   "metadata": {},
   "outputs": [],
   "source": [
    "p = Person()"
   ]
  },
  {
   "cell_type": "code",
   "execution_count": 9,
   "id": "6ab7d28f-8b8b-411c-82a3-2c50b7bc01b9",
   "metadata": {},
   "outputs": [
    {
     "name": "stdout",
     "output_type": "stream",
     "text": [
      "<__main__.Person object at 0x0000024BCB7336B0>\n"
     ]
    }
   ],
   "source": [
    "print(p)"
   ]
  },
  {
   "cell_type": "code",
   "execution_count": 11,
   "id": "3d82bc75-e19b-4ed8-9ec6-f70c0492e786",
   "metadata": {},
   "outputs": [
    {
     "name": "stdout",
     "output_type": "stream",
     "text": [
      "hii\n"
     ]
    }
   ],
   "source": [
    "p.say_hii()"
   ]
  },
  {
   "cell_type": "code",
   "execution_count": 13,
   "id": "4a6446f0-9940-458a-891a-e113a0874bba",
   "metadata": {},
   "outputs": [
    {
     "name": "stdout",
     "output_type": "stream",
     "text": [
      "Bbye\n"
     ]
    }
   ],
   "source": [
    "p.say_bye()"
   ]
  },
  {
   "cell_type": "code",
   "execution_count": 15,
   "id": "5ef3f228-3f1a-42f2-9e78-6e4c070d8f72",
   "metadata": {},
   "outputs": [],
   "source": [
    "class Person:  \n",
    "    def __init__(self,name,age):  \n",
    "        self.name = name \n",
    "        self.age = age  \n",
    "    def intro(self):   \n",
    "        return f'name : {self.name} Age: {self.age}'"
   ]
  },
  {
   "cell_type": "code",
   "execution_count": 21,
   "id": "e3a3cd03-4571-46d4-8748-5cad04c943cc",
   "metadata": {},
   "outputs": [],
   "source": [
    "p = Person('Aditya',19)"
   ]
  },
  {
   "cell_type": "code",
   "execution_count": 23,
   "id": "bb49f768-6866-4c14-ad7c-c91890b31d2f",
   "metadata": {},
   "outputs": [
    {
     "data": {
      "text/plain": [
       "19"
      ]
     },
     "execution_count": 23,
     "metadata": {},
     "output_type": "execute_result"
    }
   ],
   "source": [
    "p.age"
   ]
  },
  {
   "cell_type": "code",
   "execution_count": 25,
   "id": "806c68fe-6b76-4335-a104-9580ccbf4695",
   "metadata": {},
   "outputs": [
    {
     "data": {
      "text/plain": [
       "'Aditya'"
      ]
     },
     "execution_count": 25,
     "metadata": {},
     "output_type": "execute_result"
    }
   ],
   "source": [
    "p.name"
   ]
  },
  {
   "cell_type": "code",
   "execution_count": 2,
   "id": "a11cd116-c0ba-4893-a249-48b3c3ef8561",
   "metadata": {},
   "outputs": [],
   "source": [
    "class Bank: \n",
    "    def __init__(self):  \n",
    "        self.__balance = 20000  \n",
    "\n",
    "    def viewBalance(self):  \n",
    "        return self.__balance  \n",
    "\n",
    "    def credit(self,amount):  \n",
    "        self.__balance += amount  \n",
    "\n",
    "    def debit(self,amount):  \n",
    "        self.__balance -= amount"
   ]
  },
  {
   "cell_type": "code",
   "execution_count": 6,
   "id": "561bd8fb-78c3-4e81-be72-0e09e3a91a70",
   "metadata": {},
   "outputs": [],
   "source": [
    "b = Bank()"
   ]
  },
  {
   "cell_type": "code",
   "execution_count": 10,
   "id": "8cab3c69-18fe-40a1-9105-8b17eb19a5e2",
   "metadata": {},
   "outputs": [
    {
     "data": {
      "text/plain": [
       "<bound method Bank.viewBalance of <__main__.Bank object at 0x00000214116ECAA0>>"
      ]
     },
     "execution_count": 10,
     "metadata": {},
     "output_type": "execute_result"
    }
   ],
   "source": [
    "b.viewBalance"
   ]
  },
  {
   "cell_type": "code",
   "execution_count": 12,
   "id": "2bff47e8-5001-4b3b-8d9f-969bd289f52e",
   "metadata": {},
   "outputs": [
    {
     "data": {
      "text/plain": [
       "20000"
      ]
     },
     "execution_count": 12,
     "metadata": {},
     "output_type": "execute_result"
    }
   ],
   "source": [
    "b.viewBalance()"
   ]
  },
  {
   "cell_type": "code",
   "execution_count": 14,
   "id": "ce9a683a-779f-43b4-b085-d623bedb1a9e",
   "metadata": {},
   "outputs": [],
   "source": [
    "b.credit(1000)"
   ]
  },
  {
   "cell_type": "code",
   "execution_count": 16,
   "id": "2989459a-6eed-4d9e-9454-63f8127abadb",
   "metadata": {},
   "outputs": [
    {
     "data": {
      "text/plain": [
       "21000"
      ]
     },
     "execution_count": 16,
     "metadata": {},
     "output_type": "execute_result"
    }
   ],
   "source": [
    "b.viewBalance()"
   ]
  },
  {
   "cell_type": "code",
   "execution_count": 18,
   "id": "f2924517-374b-40bd-a0f3-70d2c5df4ab2",
   "metadata": {},
   "outputs": [],
   "source": [
    "b.debit(5000)"
   ]
  },
  {
   "cell_type": "code",
   "execution_count": 20,
   "id": "c3b907ac-8669-4e84-a989-e09a9bb90eed",
   "metadata": {},
   "outputs": [
    {
     "data": {
      "text/plain": [
       "16000"
      ]
     },
     "execution_count": 20,
     "metadata": {},
     "output_type": "execute_result"
    }
   ],
   "source": [
    "b.viewBalance()"
   ]
  },
  {
   "cell_type": "code",
   "execution_count": 22,
   "id": "14ecf201-d6ca-4dd0-8ada-1bdd22a452c1",
   "metadata": {},
   "outputs": [],
   "source": [
    "b.credit(6000)"
   ]
  },
  {
   "cell_type": "code",
   "execution_count": 24,
   "id": "e62f0b42-3d02-4fc4-8fef-875f9083043f",
   "metadata": {},
   "outputs": [
    {
     "data": {
      "text/plain": [
       "22000"
      ]
     },
     "execution_count": 24,
     "metadata": {},
     "output_type": "execute_result"
    }
   ],
   "source": [
    "b.viewBalance()"
   ]
  },
  {
   "cell_type": "code",
   "execution_count": 26,
   "id": "a67f6af3-4c5d-46ea-8253-7ce9cb5123e9",
   "metadata": {},
   "outputs": [],
   "source": [
    "b.debit(2000)"
   ]
  },
  {
   "cell_type": "markdown",
   "id": "3d3757f1-bb6f-4d76-9ba6-e52ea3c9c746",
   "metadata": {},
   "source": [
    "# Data Abstraction in Python"
   ]
  },
  {
   "cell_type": "code",
   "execution_count": 6,
   "id": "1d5cef6e-4218-446b-bf45-f147d7c15525",
   "metadata": {},
   "outputs": [
    {
     "name": "stdout",
     "output_type": "stream",
     "text": [
      "Undergraduate student grade: Pass\n",
      "Graduate student grade: Fail\n"
     ]
    }
   ],
   "source": [
    "from abc import ABC, abstractmethod \n",
    "# Abstract class \n",
    "class Student(ABC):   \n",
    "\n",
    "    # Abstract method to calculate grade  \n",
    "    @abstractmethod \n",
    "    def calculate_grade(self):    \n",
    "        pass   \n",
    "# Derived class for undergraduate students  \n",
    "class UndergraduateStudent(Student):    \n",
    "    def __init__(self, marks):      \n",
    "       self.marks = marks  \n",
    "\n",
    "    def calculate_grade(self):        \n",
    "        if self.marks >= 60:   \n",
    "            return \"Pass\"   \n",
    "        else:      \n",
    "            return \"Fail\"   \n",
    "# Derived # Derived class for undergraduate students  \n",
    "class GraduateStudent(Student):          \n",
    "    def __init__(self, marks):    \n",
    "        self.marks = marks   \n",
    "\n",
    "    def calculate_grade(self):        \n",
    "        if self.marks >= 70:     \n",
    "            return \"Pass\"  \n",
    "        else:  \n",
    "            return \"Fail\"     \n",
    "\n",
    "# Creating object of derived classes  \n",
    "undergrad = UndergraduateStudent(60)   \n",
    "grad = GraduateStudent(68)   \n",
    "\n",
    "# Accessing the abstracted method to calculate grades   \n",
    "print(\"Undergraduate student grade:\",\n",
    "undergrad.calculate_grade())   \n",
    "print(\"Graduate student grade:\", grad.calculate_grade())"
   ]
  },
  {
   "cell_type": "code",
   "execution_count": 43,
   "id": "f5a65db4-b9b3-46ca-90b3-5260c7770f60",
   "metadata": {},
   "outputs": [],
   "source": [
    "class SchoolMember:   \n",
    "    def __init__(self,name,age):  \n",
    "        self.name = name \n",
    "        self.age = age\n",
    "        print('School Member Initilized')\n",
    "    def tell(self):    \n",
    "        print(f'name {self.name} Age: {self.age}',end=\" \")"
   ]
  },
  {
   "cell_type": "code",
   "execution_count": 22,
   "id": "f767410e-3529-45b0-a586-4f4e5168c1e6",
   "metadata": {},
   "outputs": [],
   "source": [
    "class Teacher(SchoolMember):    # Child Class / Derived Class        \n",
    "    def __init__(self,name,age,salary):       \n",
    "        SchoolMember.__init__(self,name,age)    \n",
    "        self.salary = salary\n",
    "        print('Teacher initilized')\n",
    "    def tell(self):      \n",
    "        SchoolMember.tell(self)       \n",
    "        print(f'salary: {self.salary}') "
   ]
  },
  {
   "cell_type": "code",
   "execution_count": 24,
   "id": "30d643b6-3bf6-4699-96db-868db64fd85a",
   "metadata": {},
   "outputs": [
    {
     "name": "stdout",
     "output_type": "stream",
     "text": [
      "School Member Initilized\n",
      "Teacher initilized\n"
     ]
    }
   ],
   "source": [
    "t1 = Teacher('Pooja',40,150000)"
   ]
  },
  {
   "cell_type": "code",
   "execution_count": 26,
   "id": "c7e6b77a-e7f5-403a-9c2f-8dfc5a3bbf78",
   "metadata": {},
   "outputs": [
    {
     "name": "stdout",
     "output_type": "stream",
     "text": [
      "name Pooja Age: 40 salary: 150000\n"
     ]
    }
   ],
   "source": [
    "t1.tell()"
   ]
  },
  {
   "cell_type": "code",
   "execution_count": 45,
   "id": "de9b6713-e95f-4107-bdb0-38f45ca986b7",
   "metadata": {},
   "outputs": [],
   "source": [
    "class Student(SchoolMember):       \n",
    "    def __init__(self,name,age,grade):           \n",
    "        SchoolMember.__init__(self,name,age)     \n",
    "        self.grade = grade   \n",
    "    def tell(self):    \n",
    "        SchoolMember.tell(self)       \n",
    "        print(f'grade: {self.grade}')  "
   ]
  },
  {
   "cell_type": "code",
   "execution_count": 49,
   "id": "1cfd3369-6737-4649-a8d1-934cbe8ddac3",
   "metadata": {},
   "outputs": [
    {
     "name": "stdout",
     "output_type": "stream",
     "text": [
      "School Member Initilized\n"
     ]
    }
   ],
   "source": [
    "s1 = Student('Aditya',20,\"AI\")"
   ]
  },
  {
   "cell_type": "code",
   "execution_count": 75,
   "id": "5b526fda-76e2-4ca4-92b1-cd061d75bb3b",
   "metadata": {},
   "outputs": [
    {
     "name": "stdout",
     "output_type": "stream",
     "text": [
      "name Aditya Age: 20 grade: AI\n"
     ]
    }
   ],
   "source": [
    "s1.tell()"
   ]
  },
  {
   "cell_type": "markdown",
   "id": "f8d662cb-ad1a-4115-ac2c-fa3981ba0b35",
   "metadata": {},
   "source": [
    "## Lab 54(A)"
   ]
  },
  {
   "cell_type": "code",
   "execution_count": 53,
   "id": "4352e09e-64cf-4f38-a581-98cf0742c398",
   "metadata": {},
   "outputs": [],
   "source": [
    "class Employee:     \n",
    "    def __init__(self, name,employee_id, salary):    \n",
    "        self.name = name  \n",
    "        self.employee_id = employee_id \n",
    "        self.salary = salary  \n",
    "    def display_details(self):        \n",
    "        return(f'name {self.name} Employee_id: {self.employee_id} Salary: {self.salary:.2f}')"
   ]
  },
  {
   "cell_type": "code",
   "execution_count": 55,
   "id": "ad5d3c23-5f90-46aa-954c-f79168e825b7",
   "metadata": {},
   "outputs": [],
   "source": [
    "class Manager(Employee):      \n",
    "    def __init__(self, name,employee_id, salary, team_size):      \n",
    "        super().__init__(name,employee_id, salary)     \n",
    "        self.team_size = team_size   \n",
    "    def display_details(self):       \n",
    "        employee_details = super().display_details()   \n",
    "        return(f'team_size : {self.team_size}')"
   ]
  },
  {
   "cell_type": "code",
   "execution_count": 57,
   "id": "25a6554d-1790-4e7f-8d39-90097f86e0ab",
   "metadata": {},
   "outputs": [],
   "source": [
    "M1 = Manager('Anand',50,2000000,15)"
   ]
  },
  {
   "cell_type": "code",
   "execution_count": 63,
   "id": "056aa153-3573-4a10-b1fc-95f50ebbd47f",
   "metadata": {},
   "outputs": [
    {
     "data": {
      "text/plain": [
       "'team_size : 15'"
      ]
     },
     "execution_count": 63,
     "metadata": {},
     "output_type": "execute_result"
    }
   ],
   "source": [
    "M1.display_details()"
   ]
  },
  {
   "cell_type": "code",
   "execution_count": 65,
   "id": "3b1a0f8b-0f2f-407d-a038-128b5532ca47",
   "metadata": {},
   "outputs": [
    {
     "name": "stdout",
     "output_type": "stream",
     "text": [
      "Employee Details:\n",
      "name Employee1 Employee_id: E001 Salary: 50000.00\n",
      "\n",
      "Manager Details:\n",
      "team_size : 10\n"
     ]
    }
   ],
   "source": [
    "if __name__ == \"__main__\":     \n",
    "    employee = Employee(\"Employee1\", \"E001\", 50000)    \n",
    "    manager = Manager(\"Manager\", \"M456\",80000, 10)   \n",
    "    print(\"Employee Details:\")   \n",
    "    print(employee.display_details())   \n",
    "    print(\"\\nManager Details:\")   \n",
    "    print(manager.display_details())"
   ]
  },
  {
   "cell_type": "markdown",
   "id": "825a7aa2-5b0c-4413-ac1f-715f5eaf8126",
   "metadata": {},
   "source": [
    "## Lab 54(B)"
   ]
  },
  {
   "cell_type": "code",
   "execution_count": 67,
   "id": "1e5b418c-63eb-4381-955f-07ad5047f091",
   "metadata": {},
   "outputs": [],
   "source": [
    "class Person:    \n",
    "    def __init__(self, name):    \n",
    "        self.name = name  \n",
    "    def greet(self):      \n",
    "        return(f\"Hello. I'm {self.name}\")"
   ]
  },
  {
   "cell_type": "code",
   "execution_count": 69,
   "id": "10ce4f97-f400-4d9a-bd81-bc81527373b2",
   "metadata": {},
   "outputs": [],
   "source": [
    "class Employee:   \n",
    "    def __init__(self, employee_id):       \n",
    "        self.employee_id = employee_id  \n",
    "    def get_employee_id(self):     \n",
    "        return self.employee_id"
   ]
  },
  {
   "cell_type": "code",
   "execution_count": 71,
   "id": "8cf8eacd-9f5a-4727-8abd-1a64f02ba906",
   "metadata": {},
   "outputs": [],
   "source": [
    "class Manager(Person, Employee):   \n",
    "    def __init__(self, name, employee_id):        \n",
    "        Person.__init__(self, name)    \n",
    "        Employee.__init__(self, employee_id)  "
   ]
  },
  {
   "cell_type": "code",
   "execution_count": 73,
   "id": "4ba0edf6-c43a-4524-b31b-58f58830d269",
   "metadata": {},
   "outputs": [
    {
     "name": "stdout",
     "output_type": "stream",
     "text": [
      "Hello. I'm Ramar Bose\n",
      "Employee 10: E12345\n"
     ]
    }
   ],
   "source": [
    "if __name__ == \"__main__\":    \n",
    "    manager = Manager(\"Ramar Bose\", \"E12345\")     \n",
    "    print(manager.greet())    \n",
    "    print(f\"Employee 10: {manager.get_employee_id()}\")"
   ]
  },
  {
   "cell_type": "markdown",
   "id": "5f97e4b8-523e-464c-9286-36d0459ff910",
   "metadata": {},
   "source": [
    "## Lab 54(C)"
   ]
  },
  {
   "cell_type": "code",
   "execution_count": 89,
   "id": "a256c5dc-615c-40fe-8ef7-d864c052f196",
   "metadata": {},
   "outputs": [],
   "source": [
    "class Person:   \n",
    "    def __init__(self, name, age):    \n",
    "        self.name = name \n",
    "        self.age = age   \n",
    "    def display_personal_details(self):     \n",
    "        return(f\"name: {self.name}. age: {self.age}\")   "
   ]
  },
  {
   "cell_type": "code",
   "execution_count": 91,
   "id": "38e4faae-c16c-45c7-a538-05006a31220b",
   "metadata": {},
   "outputs": [],
   "source": [
    "class Employee(Person): \n",
    "    def __init__(self, name, age, employee_id, salary):    \n",
    "        super().__init__(name, age)  \n",
    "        self.employee_id = employee_id  \n",
    "        self.salary = salary  \n",
    "    def display_employee_details(self): \n",
    "        personal_details = self.display_personal_details()   \n",
    "        return (f\"{personal_details}, Employee ID: {self.employee_id}, Salary:  ₹{self.salary:.2f}\")   \n"
   ]
  },
  {
   "cell_type": "code",
   "execution_count": 93,
   "id": "2a11f48f-be3e-45dd-b2b3-ebbcc9cb215b",
   "metadata": {},
   "outputs": [],
   "source": [
    "class Manager(Employee): \n",
    "    def __init__(self, name, age, employee_id, salary, department, team_size):      \n",
    "        super().__init__(name, age, employee_id, salary)  \n",
    "        self.department = department  \n",
    "        self.team_size = team_size  \n",
    "    def display_manager_details(self): \n",
    "        employee_details = self.display_employee_details()     \n",
    "        return(f\"{employee_details}, Department: {self.department}, Team Size: {self.team_size}\")"
   ]
  },
  {
   "cell_type": "code",
   "execution_count": 95,
   "id": "1a2ca76d-22d7-4284-930f-71db47b50977",
   "metadata": {},
   "outputs": [
    {
     "name": "stdout",
     "output_type": "stream",
     "text": [
      "Manager Details:\n",
      "name: Ramar Bose. age: 45, Employee ID: M12345, Salary:  ₹95000.00, Department: Sales, Team Size: 10\n"
     ]
    }
   ],
   "source": [
    "if __name__ == \"__main__\":   \n",
    "    manager = Manager(\"Ramar Bose\", 45, \"M12345\", 95000, \"Sales\", 10)   \n",
    "    print(\"Manager Details:\")     \n",
    "    print(manager.display_manager_details())"
   ]
  },
  {
   "cell_type": "markdown",
   "id": "7f519152-cc76-4f0e-a37d-af08edf96bfc",
   "metadata": {},
   "source": [
    "## Lab 54(D)"
   ]
  },
  {
   "cell_type": "code",
   "execution_count": 10,
   "id": "278a9faf-6e18-4dae-98c6-8ae02667f457",
   "metadata": {},
   "outputs": [],
   "source": [
    "class Person:   \n",
    "    def __init__(self, name, age):   \n",
    "        self.name = name \n",
    "        self.age = age \n",
    "    def display_personal_details(self): \n",
    "        return(f\"Name: {self.name}, Age: {self.age}\")    "
   ]
  },
  {
   "cell_type": "code",
   "execution_count": 16,
   "id": "eba0755e-2363-4e64-9114-655de49dd598",
   "metadata": {},
   "outputs": [],
   "source": [
    "class Employee(Person):    \n",
    "    def __init__(self, name, age, employee_id, salary):   \n",
    "        super().__init__(name, age)    \n",
    "        self.employee_id = employee_id \n",
    "        self.salary = salary \n",
    "    def display_employee_details(self): \n",
    "        personal_details = self.display_personal_details() \n",
    "        return(f\"{personal_details}, Employee ID: {self.employee_id}, Salary: ₹{self.salary:.2f}\")"
   ]
  },
  {
   "cell_type": "code",
   "execution_count": 18,
   "id": "ced698a8-d0c2-4896-87ad-4e956c749136",
   "metadata": {},
   "outputs": [
    {
     "ename": "NameError",
     "evalue": "name 'person' is not defined",
     "output_type": "error",
     "traceback": [
      "\u001b[1;31m---------------------------------------------------------------------------\u001b[0m",
      "\u001b[1;31mNameError\u001b[0m                                 Traceback (most recent call last)",
      "Cell \u001b[1;32mIn[18], line 1\u001b[0m\n\u001b[1;32m----> 1\u001b[0m \u001b[38;5;28;01mclass\u001b[39;00m \u001b[38;5;21;01mManager\u001b[39;00m(person):                     \n\u001b[0;32m      2\u001b[0m     \u001b[38;5;28;01mdef\u001b[39;00m \u001b[38;5;21m__init__\u001b[39m(\u001b[38;5;28mself\u001b[39m, name, age, department, team_size):         \n\u001b[0;32m      3\u001b[0m         \u001b[38;5;28msuper\u001b[39m()\u001b[38;5;241m.\u001b[39m\u001b[38;5;21m__init__\u001b[39m(name,age)   \n",
      "\u001b[1;31mNameError\u001b[0m: name 'person' is not defined"
     ]
    }
   ],
   "source": [
    "class Manager(person):                     \n",
    "    def __init__(self, name, age, department, team_size):         \n",
    "        super().__init__(name,age)   \n",
    "        self.department = department  \n",
    "        self.team_size = team_size    \n",
    "    def display_manager_details(self): \n",
    "        personal_details = self.display_personal_details()\n",
    "        return f\"{personal_details}, Department: {self.department}, Team Size: {self.team_size}\""
   ]
  },
  {
   "cell_type": "code",
   "execution_count": 8,
   "id": "c196db11-5715-46f3-8f98-1e1da89e781c",
   "metadata": {},
   "outputs": [
    {
     "ename": "NameError",
     "evalue": "name 'Employee' is not defined",
     "output_type": "error",
     "traceback": [
      "\u001b[1;31m---------------------------------------------------------------------------\u001b[0m",
      "\u001b[1;31mNameError\u001b[0m                                 Traceback (most recent call last)",
      "Cell \u001b[1;32mIn[8], line 2\u001b[0m\n\u001b[0;32m      1\u001b[0m \u001b[38;5;28;01mif\u001b[39;00m \u001b[38;5;18m__name__\u001b[39m \u001b[38;5;241m==\u001b[39m \u001b[38;5;124m\"\u001b[39m\u001b[38;5;124m__main__\u001b[39m\u001b[38;5;124m\"\u001b[39m:    \n\u001b[1;32m----> 2\u001b[0m     employee \u001b[38;5;241m=\u001b[39m Employee(\u001b[38;5;124m\"\u001b[39m\u001b[38;5;124mEmployee1\u001b[39m\u001b[38;5;124m\"\u001b[39m, \u001b[38;5;241m60\u001b[39m, \u001b[38;5;124m\"\u001b[39m\u001b[38;5;124mE12345\u001b[39m\u001b[38;5;124m\"\u001b[39m, \u001b[38;5;241m70000\u001b[39m)   \n\u001b[0;32m      3\u001b[0m     manager \u001b[38;5;241m=\u001b[39m Manager(\u001b[38;5;124m\"\u001b[39m\u001b[38;5;124mJManager\u001b[39m\u001b[38;5;124m\"\u001b[39m, \u001b[38;5;241m80\u001b[39m, \u001b[38;5;124m\"\u001b[39m\u001b[38;5;124mSales\u001b[39m\u001b[38;5;124m\"\u001b[39m, \u001b[38;5;241m24\u001b[39m)     \n\u001b[0;32m      4\u001b[0m     \u001b[38;5;28mprint\u001b[39m(\u001b[38;5;124m\"\u001b[39m\u001b[38;5;124mEmployee Details:\u001b[39m\u001b[38;5;124m\"\u001b[39m)     \n",
      "\u001b[1;31mNameError\u001b[0m: name 'Employee' is not defined"
     ]
    }
   ],
   "source": [
    "if __name__ == \"__main__\":    \n",
    "    employee = Employee(\"Employee1\", 60, \"E12345\", 70000)   \n",
    "    manager = Manager(\"JManager\", 80, \"Sales\", 24)     \n",
    "    print(\"Employee Details:\")     \n",
    "    print(employee.display_employee_details())  \n",
    "    print(\"\\nManager Details:\")    \n",
    "    print(manager.display_manager_details())"
   ]
  },
  {
   "cell_type": "markdown",
   "id": "5ff118d6-2788-43d5-a034-760eddc52b1a",
   "metadata": {},
   "source": [
    "## Lab 53"
   ]
  },
  {
   "cell_type": "code",
   "execution_count": 20,
   "id": "333b9eef-00c2-4b25-83d6-50091c876bdf",
   "metadata": {},
   "outputs": [],
   "source": [
    "from abc import ABC, abstractmethod  \n",
    "class BillingRecord(ABC): \n",
    "    @abstractmethod \n",
    "    def get_bill(self):      \n",
    "        pass  \n",
    "    @abstractmethod \n",
    "    def update_bill(self, amount):       \n",
    "        pass"
   ]
  },
  {
   "cell_type": "code",
   "execution_count": 24,
   "id": "ad455f89-40b2-4c13-8ec6-518d2ea51c49",
   "metadata": {},
   "outputs": [],
   "source": [
    "class PatientBilling(BillingRecord):  \n",
    "    def __init__(self, patient_id, patient_name, billing_amount=0):    \n",
    "        self.patient_id = patient_id \n",
    "        self.patient_name = patient_name \n",
    "        self.billing_amount = billing_amount \n",
    "    def get_bill(self):    \n",
    "        return {\n",
    "            'Patient ID': self.patient_id, \n",
    "            'Patient Name': self.patient_name, \n",
    "            'Billing Amount': f\"₹{self.billing_amount:.2f}\"\n",
    "        }\n",
    "    def update_bill(self, amount):   \n",
    "        if amount > 0:     \n",
    "            self.billing_amount += amount \n",
    "            print(f\"Billing amount updated by ₹{amount:.2f}. New amount is ₹{self.billing_amount:.2f}.\")\n",
    "        else: \n",
    "            print(\"Amount to update must be positive.\")"
   ]
  },
  {
   "cell_type": "code",
   "execution_count": 28,
   "id": "447bbb96-29ba-48ad-bb03-c4481986d0b2",
   "metadata": {},
   "outputs": [
    {
     "name": "stdout",
     "output_type": "stream",
     "text": [
      "Initial Bill Details:\n",
      "{'Patient ID': 'P002', 'Patient Name': 'Rohit Kumar', 'Billing Amount': '₹200.00'}\n",
      "Billing amount updated by ₹100.00. New amount is ₹300.00.\n",
      "\n",
      "Update Bill Details:\n",
      "{'Patient ID': 'P002', 'Patient Name': 'Rohit Kumar', 'Billing Amount': '₹300.00'}\n"
     ]
    }
   ],
   "source": [
    "if __name__ == \"__main__\": \n",
    "    patient_bill = PatientBilling(\n",
    "        patient_id=\"P002\", \n",
    "        patient_name=\"Rohit Kumar\", \n",
    "        billing_amount=200.00\n",
    "    ) \n",
    "    print(\"Initial Bill Details:\") \n",
    "    print(patient_bill.get_bill())   \n",
    "    patient_bill.update_bill(100.00)  \n",
    "    print(\"\\nUpdate Bill Details:\")    \n",
    "    print(patient_bill.get_bill())"
   ]
  },
  {
   "cell_type": "markdown",
   "id": "a1c0bb26-e6a2-485b-8d76-740e5e0ebed6",
   "metadata": {},
   "source": [
    "## Lab 51"
   ]
  },
  {
   "cell_type": "code",
   "execution_count": 65,
   "id": "c9a476cc-0b3b-4d6a-9728-6103f0fd2557",
   "metadata": {},
   "outputs": [],
   "source": []
  },
  {
   "cell_type": "code",
   "execution_count": 115,
   "id": "9c309973-721d-4b05-ae38-dabc3e0b06cc",
   "metadata": {},
   "outputs": [],
   "source": [
    "class BankAccount:\n",
    "    def __init__(self, account_number, holder_name, initial_balance=0):\n",
    "        self.account_number = account_number\n",
    "        self.holder_name = holder_name\n",
    "        self.balance = initial_balance  \n",
    "\n",
    "    def deposit(self, amount):\n",
    "        if amount > 0:\n",
    "            self.balance += amount\n",
    "            print(f\"Deposited ₹{amount:.2f}. New balance is ₹{self.balance:.2f}.\")\n",
    "        else:\n",
    "            print(\"Deposit amount must be positive.\")\n",
    "\n",
    "    def withdraw(self, amount):\n",
    "        if 0 < amount <= self.balance:\n",
    "            self.balance -= amount\n",
    "            print(f\"Withdraw ₹{amount:.2f}. New balance is ₹{self.balance:.2f}.\")\n",
    "        else:\n",
    "            print(\"Withdrawal amount must be greater than 0 and less than or equal to balance.\")\n",
    "\n",
    "    def get_balance(self):\n",
    "        return self.balance\n",
    "\n",
    "    def get_account_info(self):\n",
    "        return (f\"Account Number: {self.account_number}\\n\"\n",
    "                f\"Holder Name: {self.holder_name}\\n\"\n",
    "                f\"Balance: ₹{self.balance:.2f}\")\n",
    "        return self.get_account_info()"
   ]
  },
  {
   "cell_type": "code",
   "execution_count": 117,
   "id": "a2a4ff09-a31e-4bda-a1de-0b6ed3ec7db6",
   "metadata": {},
   "outputs": [],
   "source": [
    "account = BankAccount(\"76660101019225\",\"Aaditya verma\",1000000)"
   ]
  },
  {
   "cell_type": "code",
   "execution_count": 119,
   "id": "7006aac6-5652-450d-a3c8-efc380fb3681",
   "metadata": {},
   "outputs": [
    {
     "data": {
      "text/plain": [
       "1000000"
      ]
     },
     "execution_count": 119,
     "metadata": {},
     "output_type": "execute_result"
    }
   ],
   "source": [
    "account.get_balance()"
   ]
  },
  {
   "cell_type": "code",
   "execution_count": 121,
   "id": "af76252f-e942-4f72-b569-032fceb7c5bf",
   "metadata": {},
   "outputs": [
    {
     "name": "stdout",
     "output_type": "stream",
     "text": [
      "Deposited ₹2000.00. New balance is ₹1002000.00.\n"
     ]
    }
   ],
   "source": [
    "account.deposit(2000)"
   ]
  },
  {
   "cell_type": "code",
   "execution_count": 123,
   "id": "9d5949cb-152f-42ea-90c7-7cee435d2123",
   "metadata": {},
   "outputs": [
    {
     "data": {
      "text/plain": [
       "'Account Number: 76660101019225\\nHolder Name: Aaditya verma\\nBalance: ₹1002000.00'"
      ]
     },
     "execution_count": 123,
     "metadata": {},
     "output_type": "execute_result"
    }
   ],
   "source": [
    "account.get_account_info()"
   ]
  },
  {
   "cell_type": "code",
   "execution_count": 125,
   "id": "b6a944aa-b28e-43c2-8a32-29064b7f27ac",
   "metadata": {},
   "outputs": [
    {
     "name": "stdout",
     "output_type": "stream",
     "text": [
      "Withdraw ₹20000.00. New balance is ₹982000.00.\n"
     ]
    }
   ],
   "source": [
    "account.withdraw(20000)"
   ]
  },
  {
   "cell_type": "markdown",
   "id": "eb078963-3c43-47b3-830e-77c4cfd3648d",
   "metadata": {},
   "source": [
    "## Lab 52"
   ]
  },
  {
   "cell_type": "code",
   "execution_count": 131,
   "id": "1e6e9f74-a8e8-4fc6-85e2-9fb41811db02",
   "metadata": {},
   "outputs": [
    {
     "name": "stdout",
     "output_type": "stream",
     "text": [
      "Account Number: 1234567890\n",
      "Holder Name: Aditya Verma\n",
      "Balance: 5000000.00\n",
      "400000.00. 5400000.00.\n",
      "200000.00. 5200000.00.\n",
      "5200000.00\n"
     ]
    }
   ],
   "source": [
    "class BankAccount:  \n",
    "    def __init__(self, account_number, holder_name, initial_balance=0):   \n",
    "        self.__account_number = account_number\n",
    "        self.__holder_name = holder_name\n",
    "        self.__balance = initial_balance \n",
    "\n",
    "    def deposit(self, amount):  \n",
    "        if amount > 0:  \n",
    "            self.__balance += amount \n",
    "            print(f\"{amount:.2f}. {self.__balance:.2f}.\") \n",
    "        else: \n",
    "            print() \n",
    "    def withdraw(self, amount):  \n",
    "        if 0 < amount <= self.__balance: \n",
    "            self.__balance -= amount\n",
    "            print(f\"{amount:.2f}. {self.__balance:.2f}.\") \n",
    "        else: \n",
    "            print() \n",
    "    def get_balance(self): \n",
    "        return self.__balance\n",
    "    def __str__(self): \n",
    "        return(f\"Account Number: {self.__account_number}\\n\"\n",
    "               f\"Holder Name: {self.__holder_name}\\n\"\n",
    "               f\"Balance: {self.__balance:.2f}\") \n",
    "\n",
    "if __name__ == \"__main__\": \n",
    "    account = BankAccount(\"1234567890\", \"Aditya Verma\", 5000000)  \n",
    "    print(account)  \n",
    "    account.deposit(400000) \n",
    "    account.withdraw(200000)\n",
    "    print(f\"{account.get_balance():.2f}\")"
   ]
  },
  {
   "cell_type": "code",
   "execution_count": 1,
   "id": "61e0218c-85a1-41f5-ac27-84133a219e5b",
   "metadata": {},
   "outputs": [
    {
     "name": "stdout",
     "output_type": "stream",
     "text": [
      "Match found: 123\n"
     ]
    }
   ],
   "source": [
    "import re\n",
    "pattern = r'\\d+'\n",
    "string = '123 abc'\n",
    "match = re.match(pattern, string)\n",
    "if match:\n",
    " print(\"Match found:\", match.group()) # Output: Match found: 123\n",
    "else:\n",
    " print(\"No match\") "
   ]
  },
  {
   "cell_type": "code",
   "execution_count": 3,
   "id": "01bc16d2-0f90-4d5e-9ed1-666add4f2494",
   "metadata": {},
   "outputs": [
    {
     "name": "stdout",
     "output_type": "stream",
     "text": [
      "Match found: abc\n"
     ]
    }
   ],
   "source": [
    "import re \n",
    "pattern = r'[a-z]+'  \n",
    "string = 'abc'    \n",
    "match = re.match(pattern, string)  \n",
    "if match:  \n",
    "    print(\"Match found:\", match.group())  \n",
    "else: \n",
    "    print(\"No match\")"
   ]
  },
  {
   "cell_type": "code",
   "execution_count": 19,
   "id": "b05c8044-dc12-4b45-80b8-8d1b5ac5ab5a",
   "metadata": {},
   "outputs": [
    {
     "name": "stdout",
     "output_type": "stream",
     "text": [
      "Search: No match found.\n"
     ]
    }
   ],
   "source": [
    "import re \n",
    "\n",
    "text = '''The Python is my favourite language.\n",
    "The AI world is dependent on Python.\n",
    "To train ML Models we use Python.\n",
    "Rain rain go away.'''\n",
    "\n",
    "match = re.match(r\"Python\", text) \n",
    "print(\"Search:\", match.group() if match else \"No match found.\") \n"
   ]
  },
  {
   "cell_type": "code",
   "execution_count": 21,
   "id": "79601cc1-8e53-45da-9776-a2faec7b7bb6",
   "metadata": {},
   "outputs": [
    {
     "name": "stdout",
     "output_type": "stream",
     "text": [
      "Match: The\n"
     ]
    }
   ],
   "source": [
    "match = re.match(r\"The\", text)  \n",
    "print(\"Match:\", match.group() if match else \"No match found.\")"
   ]
  },
  {
   "cell_type": "code",
   "execution_count": 23,
   "id": "e2dc04a6-970d-4991-85ba-f349f1d9a897",
   "metadata": {},
   "outputs": [
    {
     "name": "stdout",
     "output_type": "stream",
     "text": [
      "Findall: ['ain', 'ain', 'ain']\n"
     ]
    }
   ],
   "source": [
    "matches = re.findall(r\"ain\", text)  \n",
    "print(\"Findall:\", matches)"
   ]
  },
  {
   "cell_type": "code",
   "execution_count": 25,
   "id": "11fc057e-04cd-401a-98c2-63726b033d3b",
   "metadata": {},
   "outputs": [
    {
     "name": "stdout",
     "output_type": "stream",
     "text": [
      "Finditer: ain at index 79\n",
      "Finditer: ain at index 109\n",
      "Finditer: ain at index 114\n"
     ]
    }
   ],
   "source": [
    "matches = re.finditer(r\"ain\",text) \n",
    "for match in matches: \n",
    "    print(\"Finditer:\", match.group(), \"at index\", match.start())"
   ]
  },
  {
   "cell_type": "code",
   "execution_count": 27,
   "id": "9386efc2-9b80-4048-ac23-e2162dc38898",
   "metadata": {},
   "outputs": [
    {
     "name": "stdout",
     "output_type": "stream",
     "text": [
      "sub: The Python is my favourite language.\n",
      "The AI world is dependent on Python.\n",
      "To trXXX ML Models we use Python.\n",
      "RXXX rXXX go away.\n"
     ]
    }
   ],
   "source": [
    "new_text = re.sub(r\"ain\", \"XXX\", text) \n",
    "print(\"sub:\", new_text)"
   ]
  },
  {
   "cell_type": "code",
   "execution_count": 29,
   "id": "095bb135-ec07-4233-8a6d-60ac92a3a304",
   "metadata": {},
   "outputs": [
    {
     "name": "stdout",
     "output_type": "stream",
     "text": [
      "Split: ['apple', 'banana', 'cherry', 'date', 'grapes', 'pear']\n"
     ]
    }
   ],
   "source": [
    "fruits_text = \"apple, banana, cherry, date, grapes, pear\"  \n",
    "fruits = re.split(r\", \", fruits_text)   \n",
    "print(\"Split:\", fruits)"
   ]
  },
  {
   "cell_type": "code",
   "execution_count": 33,
   "id": "7ba7cc3c-3ee2-41ae-ad20-20c8f8d5159e",
   "metadata": {},
   "outputs": [],
   "source": [
    "import re \n",
    "\n",
    "def demonstrate_metacharacters(): \n",
    "    # Sample text for demonstration \n",
    "    sample_text = \"\"\"\n",
    "    The quick brown fox jumps overs the lazy dog. \n",
    "    Foxes are wild animals. The dog quickly ran away. \n",
    "    My email is example@example.com and my number is (123) 456-7890.\n",
    "    \"\"\""
   ]
  },
  {
   "cell_type": "code",
   "execution_count": 39,
   "id": "357b570d-b992-445b-95af-f8c065dbfad1",
   "metadata": {},
   "outputs": [],
   "source": [
    "sample_text = \"\"\"\n",
    "    The quick brown fox jumps overs the lazy dog. \n",
    "    Foxes are wild animals. The dog quickly ran away. \n",
    "    My email is example@example.com and my number is (123) 456-7890.\n",
    "    \"\"\""
   ]
  },
  {
   "cell_type": "code",
   "execution_count": 45,
   "id": "727466c5-452f-4d56-9e31-88497c0fec3d",
   "metadata": {},
   "outputs": [
    {
     "name": "stdout",
     "output_type": "stream",
     "text": [
      "Dot (.) Pattern The .quick: []\n"
     ]
    }
   ],
   "source": [
    "dot_pattern = r'The .quick' \n",
    "print(f\"Dot (.) Pattern {dot_pattern}:\", re.findall(dot_pattern, sample_text))"
   ]
  },
  {
   "cell_type": "code",
   "execution_count": 47,
   "id": "209a1954-0b01-4db5-883a-b0ecb93beb35",
   "metadata": {},
   "outputs": [
    {
     "name": "stdout",
     "output_type": "stream",
     "text": [
      "Start of String (^) Pattern ^The: None\n",
      "End of String ($) Pattern dog.$: None\n"
     ]
    }
   ],
   "source": [
    "caret_pattern = r'^The'\n",
    "dollar_pattern = r'dog.$'\n",
    "print(f\"Start of String (^) Pattern {caret_pattern}:\", re.match(caret_pattern, sample_text)) \n",
    "print(f\"End of String ($) Pattern {dollar_pattern}:\", re.search(dollar_pattern, sample_text))"
   ]
  },
  {
   "cell_type": "code",
   "execution_count": 49,
   "id": "6282d55c-9552-4add-9c52-e5a332cf5e17",
   "metadata": {},
   "outputs": [
    {
     "name": "stdout",
     "output_type": "stream",
     "text": [
      "Asterisk (*) Pattern fox*: ['fox']\n",
      "Plus (+) Pattern fox+: ['fox']\n"
     ]
    }
   ],
   "source": [
    "asterisk_pattern = r'fox*' \n",
    "plus_pattern = r'fox+'   \n",
    "print(f\"Asterisk (*) Pattern {asterisk_pattern}:\", re.findall(asterisk_pattern, sample_text))\n",
    "print(f\"Plus (+) Pattern {plus_pattern}:\", re.findall(plus_pattern, sample_text))"
   ]
  },
  {
   "cell_type": "code",
   "execution_count": 51,
   "id": "0d555f85-8b80-4671-8f43-cfe428bd738a",
   "metadata": {},
   "outputs": [
    {
     "name": "stdout",
     "output_type": "stream",
     "text": [
      "Question Mark (?) Pattern fox?: ['fox']\n"
     ]
    }
   ],
   "source": [
    "question_pattern = r'fox?' \n",
    "print(f\"Question Mark (?) Pattern {question_pattern}:\", re.findall(question_pattern, sample_text))"
   ]
  },
  {
   "cell_type": "code",
   "execution_count": 53,
   "id": "14513e64-8542-4fa0-9b24-6c509ecc56e5",
   "metadata": {},
   "outputs": [
    {
     "name": "stdout",
     "output_type": "stream",
     "text": [
      "Braces ({}) Pattern fo{2}: []\n"
     ]
    }
   ],
   "source": [
    "braces_pattern = r'fo{2}' \n",
    "print(f\"Braces ({{}}) Pattern {braces_pattern}:\", re.findall(braces_pattern, sample_text))"
   ]
  },
  {
   "cell_type": "code",
   "execution_count": 55,
   "id": "fd67a4fa-6f08-4b28-b601-144e04bab364",
   "metadata": {},
   "outputs": [
    {
     "name": "stdout",
     "output_type": "stream",
     "text": [
      "Square Brackets([]) Pattern [Ff]ox: ['fox', 'Fox']\n"
     ]
    }
   ],
   "source": [
    "square_brackets_pattern = r'[Ff]ox' \n",
    "print(f\"Square Brackets([]) Pattern {square_brackets_pattern}:\", re.findall(square_brackets_pattern, sample_text))"
   ]
  },
  {
   "cell_type": "code",
   "execution_count": 57,
   "id": "8a4d69f4-926b-4fc4-9f5f-c242e1b7cf9c",
   "metadata": {},
   "outputs": [
    {
     "name": "stdout",
     "output_type": "stream",
     "text": [
      "Pipe (|) Pattern fox|dog: ['fox', 'dog', 'dog']\n"
     ]
    }
   ],
   "source": [
    "pipe_pattern = r'fox|dog' \n",
    "print(f\"Pipe (|) Pattern {pipe_pattern}:\", re .findall(pipe_pattern, sample_text))"
   ]
  },
  {
   "cell_type": "code",
   "execution_count": 59,
   "id": "f6c8a7ac-aebf-480f-b52e-8e63f5f4a778",
   "metadata": {},
   "outputs": [
    {
     "name": "stdout",
     "output_type": "stream",
     "text": [
      "Backslash (\\) Pattern \\.: ['.', '.', '.', '.', '.']\n"
     ]
    }
   ],
   "source": [
    "backslash_pattern = r'\\.'  \n",
    "print(f\"Backslash (\\\\) Pattern {backslash_pattern}:\", re.findall(backslash_pattern, sample_text))"
   ]
  },
  {
   "cell_type": "code",
   "execution_count": 61,
   "id": "777e7c1a-63e6-4021-9e0c-60178a63d22d",
   "metadata": {},
   "outputs": [
    {
     "name": "stdout",
     "output_type": "stream",
     "text": [
      "Email Pattern \\b\\w+@\\w+\\.\\w+\\b: ['example@example.com']\n",
      "Phone Pattern \\(\\d{3}\\) \\d{3}-\\d{4}: ['(123) 456-7890']\n"
     ]
    }
   ],
   "source": [
    "email_pattern = r'\\b\\w+@\\w+\\.\\w+\\b'  \n",
    "phone_pattern = r'\\(\\d{3}\\) \\d{3}-\\d{4}' \n",
    "print(f\"Email Pattern {email_pattern}:\", re.findall(email_pattern, sample_text))\n",
    "print(f\"Phone Pattern {phone_pattern}:\", re.findall(phone_pattern, sample_text))"
   ]
  },
  {
   "cell_type": "code",
   "execution_count": 63,
   "id": "e7034fc2-93fc-46f0-ba35-36c3edefe09d",
   "metadata": {},
   "outputs": [],
   "source": [
    "import re \n",
    "\n",
    "def demonstrate_special_sequences(): \n",
    "    # Sample text for demonstration \n",
    "    sample_text = \"\"\"\n",
    "    The quick brown fox jumps over the lazy dog.\n",
    "    Foxes are wild animals. The dog quickly ran away.\n",
    "    My email is example@example.com and my number is (123) 456-7890.\n",
    "    Visit us at www.example.com or contact us at info@example.com.\n",
    "    \"\"\""
   ]
  },
  {
   "cell_type": "code",
   "execution_count": 65,
   "id": "7a995567-e307-4d97-a942-0104b688c53f",
   "metadata": {},
   "outputs": [],
   "source": [
    " sample_text = \"\"\"\n",
    "    The quick brown fox jumps over the lazy dog.\n",
    "    Foxes are wild animals. The dog quickly ran away.\n",
    "    My email is example@example.com and my number is (123) 456-7890.\n",
    "    Visit us at www.example.com or contact us at info@example.com.\n",
    "    \"\"\""
   ]
  },
  {
   "cell_type": "code",
   "execution_count": 69,
   "id": "39d05007-29a9-4a3b-99f2-7ca3b1f17e44",
   "metadata": {},
   "outputs": [
    {
     "name": "stdout",
     "output_type": "stream",
     "text": [
      "Digits (\\d) Pattern \\d+: ['123', '456', '7890']\n"
     ]
    }
   ],
   "source": [
    "digit_pattern = r'\\d+' \n",
    "print(f\"Digits (\\\\d) Pattern {digit_pattern}:\", re.findall(digit_pattern, sample_text))"
   ]
  },
  {
   "cell_type": "code",
   "execution_count": 71,
   "id": "881d2397-4b26-45ad-9b73-91a6533136ca",
   "metadata": {},
   "outputs": [
    {
     "name": "stdout",
     "output_type": "stream",
     "text": [
      "Non-digits (\\D) Pattern \\D+: ['\\n   The quick brown fox jumps over the lazy dog.\\n   Foxes are wild animals. The dog quickly ran away.\\n   My email is example@example.com and my number is (', ') ', '-', '.\\n   Visit us at www.example.com or contact us at info@example.com.\\n   ']\n"
     ]
    }
   ],
   "source": [
    "non_digit_pattern = r'\\D+' \n",
    "print(f\"Non-digits (\\\\D) Pattern {non_digit_pattern}:\", re.findall(non_digit_pattern, sample_text))"
   ]
  },
  {
   "cell_type": "code",
   "execution_count": 75,
   "id": "6a890cc0-9717-415e-a8f3-8d123314a78c",
   "metadata": {},
   "outputs": [
    {
     "name": "stdout",
     "output_type": "stream",
     "text": [
      "Word characters (\\w) Pattern \\w+: ['The', 'quick', 'brown', 'fox', 'jumps', 'over', 'the', 'lazy', 'dog', 'Foxes', 'are', 'wild', 'animals', 'The', 'dog', 'quickly', 'ran', 'away', 'My', 'email', 'is', 'example', 'example', 'com', 'and', 'my', 'number', 'is', '123', '456', '7890', 'Visit', 'us', 'at', 'www', 'example', 'com', 'or', 'contact', 'us', 'at', 'info', 'example', 'com']\n"
     ]
    }
   ],
   "source": [
    "word_char_pattern = r'\\w+' \n",
    "print(f\"Word characters (\\\\w) Pattern {word_char_pattern}:\", re.findall(word_char_pattern, sample_text))"
   ]
  },
  {
   "cell_type": "code",
   "execution_count": 85,
   "id": "4b870698-d79a-4322-8c03-ffb77d3b033a",
   "metadata": {},
   "outputs": [
    {
     "name": "stdout",
     "output_type": "stream",
     "text": [
      "Non-Word characters (\\W) Pattern \\W+: ['\\n   ', ' ', ' ', ' ', ' ', ' ', ' ', ' ', ' ', '.\\n   ', ' ', ' ', ' ', '. ', ' ', ' ', ' ', ' ', '.\\n   ', ' ', ' ', ' ', '@', '.', ' ', ' ', ' ', ' ', ' (', ') ', '-', '.\\n   ', ' ', ' ', ' ', '.', '.', ' ', ' ', ' ', ' ', ' ', '@', '.', '.\\n   ']\n"
     ]
    }
   ],
   "source": [
    "non_word_char_pattern = r'\\W+' \n",
    "print(f\"Non-Word characters (\\\\W) Pattern {non_word_char_pattern}:\", re.findall(non_word_char_pattern, sample_text))"
   ]
  },
  {
   "cell_type": "code",
   "execution_count": 87,
   "id": "c6faa629-26c3-4462-a25a-6f62e78458f2",
   "metadata": {},
   "outputs": [
    {
     "name": "stdout",
     "output_type": "stream",
     "text": [
      "Whitespace characters (\\s) Pattern \\s+: ['\\n   ', ' ', ' ', ' ', ' ', ' ', ' ', ' ', ' ', '\\n   ', ' ', ' ', ' ', ' ', ' ', ' ', ' ', ' ', '\\n   ', ' ', ' ', ' ', ' ', ' ', ' ', ' ', ' ', ' ', '\\n   ', ' ', ' ', ' ', ' ', ' ', ' ', ' ', ' ', '\\n   ']\n"
     ]
    }
   ],
   "source": [
    "whitespace_pattern = r'\\s+'\n",
    "print(f\"Whitespace characters (\\\\s) Pattern {whitespace_pattern}:\", re.findall(whitespace_pattern, sample_text))"
   ]
  },
  {
   "cell_type": "code",
   "execution_count": 91,
   "id": "02b653b5-7ef7-4deb-bbc4-fe6cdd7894ef",
   "metadata": {},
   "outputs": [
    {
     "name": "stdout",
     "output_type": "stream",
     "text": [
      "Non-Whitespace characters (\\S) Pattern \\S+: ['The', 'quick', 'brown', 'fox', 'jumps', 'over', 'the', 'lazy', 'dog.', 'Foxes', 'are', 'wild', 'animals.', 'The', 'dog', 'quickly', 'ran', 'away.', 'My', 'email', 'is', 'example@example.com', 'and', 'my', 'number', 'is', '(123)', '456-7890.', 'Visit', 'us', 'at', 'www.example.com', 'or', 'contact', 'us', 'at', 'info@example.com.']\n"
     ]
    }
   ],
   "source": [
    "non_whitespace_pattern = r'\\S+'\n",
    "print(f\"Non-Whitespace characters (\\\\S) Pattern {non_whitespace_pattern}:\", re.findall(non_whitespace_pattern, sample_text))"
   ]
  },
  {
   "cell_type": "code",
   "execution_count": 93,
   "id": "df5bc9ff-f333-4092-ae0c-6a6c62d72ca8",
   "metadata": {},
   "outputs": [
    {
     "name": "stdout",
     "output_type": "stream",
     "text": [
      "Word boundary (\\b) Pattern \\bfox\\b: ['fox']\n"
     ]
    }
   ],
   "source": [
    "word_boundary_pattern = r'\\bfox\\b'\n",
    "print(f\"Word boundary (\\\\b) Pattern {word_boundary_pattern}:\", re.findall(word_boundary_pattern, sample_text))"
   ]
  },
  {
   "cell_type": "code",
   "execution_count": 95,
   "id": "61afaccf-808c-404f-9a74-43af9cab3f5e",
   "metadata": {},
   "outputs": [
    {
     "name": "stdout",
     "output_type": "stream",
     "text": [
      "Non-word boundary (\\B) Pattern quick\\B: ['quick']\n"
     ]
    }
   ],
   "source": [
    "non_word_boundary_pattern = r'quick\\B'\n",
    "print(f\"Non-word boundary (\\\\B) Pattern {non_word_boundary_pattern}:\", re.findall(non_word_boundary_pattern, sample_text))"
   ]
  },
  {
   "cell_type": "code",
   "execution_count": 1,
   "id": "f336b743-f9a7-4165-b2e2-2c9a543410b9",
   "metadata": {},
   "outputs": [
    {
     "name": "stdin",
     "output_type": "stream",
     "text": [
      " 2\n",
      " 4\n"
     ]
    },
    {
     "name": "stdout",
     "output_type": "stream",
     "text": [
      "2.0\n"
     ]
    }
   ],
   "source": [
    "x = float(input())\n",
    "y = float(input())\n",
    "print(y ** (1 / x))"
   ]
  },
  {
   "cell_type": "code",
   "execution_count": null,
   "id": "09f92e1b-5dae-471e-9d9f-c26e3cf90e31",
   "metadata": {},
   "outputs": [],
   "source": [
    "matrix = [[x for x in range(3)] for y in range(3)]\n",
    "\n",
    "count = 0\n",
    "for row in matrix:\n",
    "    for element in row:\n",
    "        if element % 2 != 0:\n",
    "            count += 1\n",
    "print(count)\n",
    "\n"
   ]
  },
  {
   "cell_type": "code",
   "execution_count": null,
   "id": "02fb0240-3195-4523-be65-604e630a8ba9",
   "metadata": {},
   "outputs": [],
   "source": [
    "x = 1\n",
    "y = 2\n",
    "x, y, z = x, x, y\n",
    "z, y, z = x, y, z\n",
    "\n",
    "print(x, y, z)\n",
    "\n"
   ]
  },
  {
   "cell_type": "code",
   "execution_count": 3,
   "id": "888a7c70-90d5-4a6a-a15b-9d7d611eca6c",
   "metadata": {},
   "outputs": [
    {
     "name": "stdout",
     "output_type": "stream",
     "text": [
      "Crawling: https://edunetfoundation.org/\n",
      "Crawling: https://edunetfoundation.org\n",
      "Crawling: https://edunetfoundation.org/about-us/\n",
      "Crawling: https://edunetfoundation.org/our-team/\n",
      "Crawling: https://edunetfoundation.org/partners-collaborators/\n",
      "Crawling: https://edunetfoundation.org/schools/\n",
      "Crawling: https://edunetfoundation.org/colleges/\n",
      "Crawling: https://edunetfoundation.org/vocational/\n",
      "Crawling: https://edunetfoundation.org/communities/\n",
      "Crawling: https://edunetfoundation.org/stories/\n",
      "Crawling: https://edunetfoundation.org/get-involved/\n",
      "Crawling: https://edunetfoundation.org/contact/\n",
      "Crawling: https://edunetfoundation.org/stories/gunasundari/\n",
      "Crawling: http://www.abfrl.com/\n",
      "Crawling: http://www.activate1m1b.org/\n",
      "Error fetching http://www.activate1m1b.org/: 406 Client Error: Not Acceptable for url: http://www.activate1m1b.org/\n",
      "Crawling: https://connecting-dreams.org/\n",
      "Error fetching https://connecting-dreams.org/: 406 Client Error: Not Acceptable for url: https://connecting-dreams.org/\n",
      "Crawling: https://www.fice.in/\n",
      "Crawling: https://fitt-iitd.in/\n",
      "Crawling: https://gurushala.co/\n",
      "Crawling: https://www.ibm.com/\n",
      "Crawling: https://www.mindtreefoundation.org/\n",
      "Error fetching https://www.mindtreefoundation.org/: 522 Server Error:  for url: https://www.mindtreefoundation.org/\n",
      "Crawling: https://www.socialalpha.org/\n",
      "Crawling: https://www.uspto.gov/\n",
      "Crawling: https://www.societie.org/\n",
      "Error fetching https://www.societie.org/: HTTPSConnectionPool(host='www.societie.org', port=443): Max retries exceeded with url: / (Caused by SSLError(SSLCertVerificationError(1, '[SSL: CERTIFICATE_VERIFY_FAILED] certificate verify failed: certificate has expired (_ssl.c:1000)')))\n",
      "Crawling: https://www.cognizant.com/in/en\n",
      "Crawling: https://www.aiu.ac.in/\n",
      "Error fetching https://www.aiu.ac.in/: 406 Client Error: Not Acceptable for url: https://www.aiu.ac.in/\n",
      "Crawling: http://startupoasis.in/\n",
      "Error fetching http://startupoasis.in/: HTTPSConnectionPool(host='startupoasis.in', port=443): Max retries exceeded with url: / (Caused by SSLError(SSLCertVerificationError(1, '[SSL: CERTIFICATE_VERIFY_FAILED] certificate verify failed: certificate has expired (_ssl.c:1000)')))\n",
      "Crawling: https://edunetfoundation.org/wp-content/uploads/2022/11/1.png\n",
      "Crawling: https://edunetfoundation.org/wp-content/uploads/2022/11/2.png\n",
      "Crawling: https://edunetfoundation.org/wp-content/uploads/2022/11/3.png\n",
      "Crawling: https://edunetfoundation.org/wp-content/uploads/2022/11/4.png\n",
      "Crawling: https://edunetfoundation.org/wp-content/uploads/2022/11/website-gallery-section.png\n",
      "Crawling: https://www.facebook.com/edunetfoundation/\n",
      "Crawling: https://twitter.com/edunetf\n",
      "Crawling: https://www.instagram.com/edunetfoundation\n",
      "Crawling: https://www.linkedin.com/company/edunetfoundation\n",
      "Crawling: https://nimionlineadmission.in/adit2022/\n",
      "Crawling: https://cpit.edunetfoundation.org/\n",
      "Error fetching https://cpit.edunetfoundation.org/: HTTPSConnectionPool(host='cpit.edunetfoundation.org', port=443): Max retries exceeded with url: / (Caused by NameResolutionError(\"<urllib3.connection.HTTPSConnection object at 0x000002500A0BBA10>: Failed to resolve 'cpit.edunetfoundation.org' ([Errno 11001] getaddrinfo failed)\"))\n",
      "Crawling: https://codeunnati.edunetfoundation.org/\n",
      "Crawling: http://www.skillsbuild.org/\n",
      "Crawling: http://www.societie.org/\n",
      "Crawling: http://techsaksham.org/\n",
      "Crawling: http://www.vigyanjyoti.com/\n",
      "Crawling: https://guidestarindia.org/Summary.aspx?CCReg=12268\n",
      "Crawling: https://www.edunetfoundation.org\n",
      "Crawling: https://edunetfoundation.org/wp-login.php?action=register\n",
      "Crawling: https://edunetfoundation.org/wp-login.php?action=lostpassword&redirect_to=https%3A%2F%2Fedunetfoundation.org%2F\n",
      "Crawling: https://edunetfoundation.org/wp-login.php?action=lostpassword&redirect_to=https%3A%2F%2Fedunetfoundation.org%2Fabout-us%2F\n",
      "Crawling: https://edunetfoundation.org/wp-login.php?action=lostpassword&redirect_to=https%3A%2F%2Fedunetfoundation.org%2Four-team%2F\n",
      "Crawling: https://www.aicte-india.org/\n",
      "Crawling: https://www.aicte-india.org/atal\n",
      "Crawling: https://cets.apsche.ap.gov.in/APSCHEHome.aspx\n",
      "Crawling: https://www.apssdc.in/home/\n",
      "Error fetching https://www.apssdc.in/home/: 404 Client Error: Not Found for url: https://www.apssdc.in/home/\n",
      "Crawling: https://asapkerala.gov.in/\n",
      "Crawling: https://he.uk.gov.in/\n",
      "Error fetching https://he.uk.gov.in/: HTTPSConnectionPool(host='he.uk.gov.in', port=443): Max retries exceeded with url: / (Caused by SSLError(SSLError(1, '[SSL: UNSAFE_LEGACY_RENEGOTIATION_DISABLED] unsafe legacy renegotiation disabled (_ssl.c:1000)')))\n",
      "Crawling: https://dgt.gov.in/\n",
      "Crawling: https://www.msde.gov.in/\n",
      "Crawling: https://skillodisha.gov.in/\n",
      "Crawling: https://cm.telangana.gov.in/2019/06/task/\n",
      "Error fetching https://cm.telangana.gov.in/2019/06/task/: 404 Client Error: Not Found for url: https://cm.telangana.gov.in/?p=409\n",
      "Crawling: https://www.tnskill.tn.gov.in/\n",
      "Crawling: http://www.abfrl.com\n",
      "Crawling: https://www.connecting-dreams.org\n",
      "Error fetching https://www.connecting-dreams.org: 406 Client Error: Not Acceptable for url: https://www.connecting-dreams.org/\n",
      "Crawling: https://fice.in\n",
      "Crawling: https://fitt-iitd.in\n",
      "Crawling: https://gurushala.co\n",
      "Crawling: https://www.ibm.com\n",
      "Crawling: https://www.mindtree.com/\n",
      "Error fetching https://www.mindtree.com/: 403 Client Error: Forbidden for url: https://www.mindtree.com/\n",
      "Crawling: https://www.societie.org\n",
      "Error fetching https://www.societie.org: HTTPSConnectionPool(host='www.societie.org', port=443): Max retries exceeded with url: / (Caused by SSLError(SSLCertVerificationError(1, '[SSL: CERTIFICATE_VERIFY_FAILED] certificate verify failed: certificate has expired (_ssl.c:1000)')))\n",
      "Crawling: https://www.techsaksham.org\n",
      "Crawling: https://www.uspto.gov\n",
      "Crawling: https://edunetfoundation.org/wp-login.php?action=lostpassword&redirect_to=https%3A%2F%2Fedunetfoundation.org%2Fpartners-collaborators%2F\n",
      "Crawling: https://sie.edunetfoundation.org\n",
      "Crawling: https://www.vigyanjyoti.com/\n",
      "Crawling: https://skillsbuild.edunetfoundation.org/\n",
      "Crawling: https://edunetfoundation.org/wp-login.php?action=lostpassword&redirect_to=https%3A%2F%2Fedunetfoundation.org%2Fschools%2F\n",
      "Crawling: https://techsaksham.org/\n",
      "Crawling: https://edunetfoundation.org/wp-login.php?action=lostpassword&redirect_to=https%3A%2F%2Fedunetfoundation.org%2Fcolleges%2F\n",
      "Crawling: https://edunetfoundation.org/wp-login.php?action=lostpassword&redirect_to=https%3A%2F%2Fedunetfoundation.org%2Fvocational%2F\n",
      "Crawling: https://edunetfoundation.org/wp-login.php?action=lostpassword&redirect_to=https%3A%2F%2Fedunetfoundation.org%2Fcommunities%2F\n",
      "Crawling: https://edunetfoundation.org/stories/naina-pardeshi/\n",
      "Crawling: https://edunetfoundation.org/stories/techsaksham-bridging-the-gap-between-education-and-job-requirements/\n",
      "Crawling: https://edunetfoundation.org/stories/kirti-mandals-case-study/\n",
      "Crawling: https://edunetfoundation.org/stories/shatakshi-guptas-case-study/\n",
      "Crawling: https://edunetfoundation.org/stories/sanskriti-jains-case-study/\n",
      "Crawling: https://edunetfoundation.org/wp-login.php?action=lostpassword&redirect_to=https%3A%2F%2Fedunetfoundation.org%2Fstories%2Fsanskriti-jains-case-study%2F\n",
      "Crawling: mailto:himanshu@edunetfoundation.org\n",
      "Error fetching mailto:himanshu@edunetfoundation.org: No connection adapters were found for 'mailto:himanshu@edunetfoundation.org'\n",
      "Crawling: https://edunetfoundation.org/wp-login.php?action=lostpassword&redirect_to=https%3A%2F%2Fedunetfoundation.org%2Fget-involved%2F\n",
      "Crawling: https://edunetfoundation.org/wp-login.php?action=lostpassword&redirect_to=https%3A%2F%2Fedunetfoundation.org%2Fcontact%2F\n",
      "Crawling: https://edunetfoundation.org/wp-login.php?action=lostpassword&redirect_to=https%3A%2F%2Fedunetfoundation.org%2Fstories%2Fgunasundari%2F\n",
      "Crawling: http://www.abfrl.com/#content\n",
      "Crawling: https://www.abfrl.com\n",
      "Crawling: https://www.abfrl.com/our-business-overview/\n",
      "Crawling: https://www.abfrl.com/our-business-overview/mfl-brands/\n",
      "Crawling: https://www.abfrl.com/our-business-overview/pantaloons/\n",
      "Crawling: https://www.abfrl.com/our-business-overview/emerging-business/\n",
      "Crawling: https://www.abfrl.com/our-business-overview/ethnic/\n",
      "Crawling: https://www.abfrl.com/investors/\n",
      "Crawling: https://www.abfrl.com/corporate-governance/\n",
      "Crawling: https://www.abfrl.com/sustainability-overview/\n",
      "Crawling: https://www.abfrl.com/restoring-ecosystem/\n",
      "Crawling: https://www.abfrl.com/recognizing-trends/\n",
      "Crawling: https://www.abfrl.com/redesigning-business/\n",
      "Crawling: https://www.abfrl.com/csr/\n",
      "Crawling: https://www.abfrl.com/esg-profile/\n",
      "Crawling: https://www.abfrl.com/sustainability-reports/\n",
      "Crawling: https://www.abfrl.com/about-us/\n",
      "Crawling: https://www.abfrl.com/media/\n",
      "Crawling: https://www.abfrl.com/blog/\n",
      "Crawling: https://peterengland.abfrl.in/\n",
      "Crawling: http://www.abfrl.com/#carousel\n",
      "Crawling: https://www.abfrl.com/wp-content/uploads/2025/01/Release_Jaypore-x-Shobitam-1.pdf\n",
      "Crawling: https://www.abfrl.com/wp-content/uploads/2025/01/Peridot-Press-Release.pdf\n",
      "Crawling: https://wforwoman.com/\n",
      "Crawling: https://wishfulbyw.com/\n",
      "Crawling: https://shopforaurelia.com/  \n",
      "Error fetching https://shopforaurelia.com/  : 404 Client Error: Not Found for url: https://shopforaurelia.com/%20%20\n",
      "Crawling: https://www.elleven.in/\n",
      "Crawling: https://wforwoman.com/collections/folksong\n",
      "Crawling: https://louisphilippe.abfrl.in/\n",
      "Crawling: https://vanheusenindia.abfrl.in/\n",
      "Crawling: https://allensolly.abfrl.in/\n",
      "Crawling: https://reebok.abfrl.in/\n",
      "Crawling: https://www.forever21.in/\n",
      "Crawling: https://www.simoncarter.in/\n",
      "Crawling: https://aeo.abfrl.in/\n",
      "Crawling: https://www.pantaloons.com/\n",
      "Crawling: https://styleup.in/\n",
      "Crawling: https://www.vanheusenintimates.com/\n",
      "Crawling: https://www.thecollective.in/\n",
      "Crawling: https://www.thecollective.in/category/men/offers-1279?page=1&orderway=asc&orderby=popular&fp[]=Subbrand__fq:Fred%20Perry&fp[]=Gender__fq:Men\n",
      "Error fetching https://www.thecollective.in/category/men/offers-1279?page=1&orderway=asc&orderby=popular&fp[]=Subbrand__fq:Fred%20Perry&fp[]=Gender__fq:Men: 404 Client Error: Not Found for url: https://www.thecollective.in/category/men/offers-1279?page=1&orderway=asc&orderby=popular&fp%5B%5D=Subbrand__fq:Fred%20Perry&fp%5B%5D=Gender__fq:Men\n",
      "Crawling: https://www.thecollective.in/category/men/offers-1279?page=1&orderway=asc&orderby=popular&fp[]=Subbrand__fq:Polo%20Ralph%20Lauren&fp[]=Gender__fq:Men\n",
      "Error fetching https://www.thecollective.in/category/men/offers-1279?page=1&orderway=asc&orderby=popular&fp[]=Subbrand__fq:Polo%20Ralph%20Lauren&fp[]=Gender__fq:Men: 404 Client Error: Not Found for url: https://www.thecollective.in/category/men/offers-1279?page=1&orderway=asc&orderby=popular&fp%5B%5D=Subbrand__fq:Polo%20Ralph%20Lauren&fp%5B%5D=Gender__fq:Men\n",
      "Crawling: https://www.thecollective.in/category/women/offers-1279?page=1&orderway=asc&orderby=popular&fp[]=Subbrand__fq:Ted%20Baker&fp[]=Gender__fq:Women\n",
      "Error fetching https://www.thecollective.in/category/women/offers-1279?page=1&orderway=asc&orderby=popular&fp[]=Subbrand__fq:Ted%20Baker&fp[]=Gender__fq:Women: 404 Client Error: Not Found for url: https://www.thecollective.in/category/women/offers-1279?page=1&orderway=asc&orderby=popular&fp%5B%5D=Subbrand__fq:Ted%20Baker&fp%5B%5D=Gender__fq:Women\n",
      "Crawling: https://www.thecollective.in/category/men/offers-1279?page=1&orderway=asc&orderby=popular&fp[]=Subbrand__fq:Hackett%20London&fp[]=Gender__fq:Men\n",
      "Error fetching https://www.thecollective.in/category/men/offers-1279?page=1&orderway=asc&orderby=popular&fp[]=Subbrand__fq:Hackett%20London&fp[]=Gender__fq:Men: 404 Client Error: Not Found for url: https://www.thecollective.in/category/men/offers-1279?page=1&orderway=asc&orderby=popular&fp%5B%5D=Subbrand__fq:Hackett%20London&fp%5B%5D=Gender__fq:Men\n",
      "Crawling: https://www.tmrw.in/\n",
      "Crawling: https://sabyasachi.com/\n",
      "Crawling: https://www.shantanunikhil.com/\n",
      "Crawling: https://www.houseofmasaba.com/collections/sale-1?utm_source=google&utm_medium=cpc&utm_campaign=search_ads&utm_content=womensday&gad_source=1&gclid=EAIaIQobChMIs-Si5o-lggMVP6VmAh1U_gC1EAAYASAAEgLJDfD_BwE\n",
      "Crawling: https://www.tasva.com/\n",
      "Crawling: https://www.jaypore.com/\n",
      "Crawling: https://www.abfrl.com/csr/#education\n",
      "Crawling: https://www.abfrl.com/csr/#health\n",
      "Crawling: https://www.abfrl.com/csr/#livelihood\n",
      "Crawling: https://www.abfrl.com/csr/#watersheds\n",
      "Crawling: https://www.abfrl.com/csr/#digitalisation\n",
      "Crawling: https://www.abfrl.com/careers/\n",
      "Crawling: https://www.abfrl.com/blog/awards/abfrls-3d-coffee-table-book-fashionabling-earth-a-decade-of-sustainability-won-gold-at-the-fe-brandwagons-ace-awards-2024/\n",
      "Crawling: https://www.abfrl.com/blog/awards/abfrls-internal-newsletter-intouch-won-silver-at-agency-reporters-pr-communications-excellence-awards-2024/\n",
      "Crawling: https://www.abfrl.com/blog/awards/jaypores-reclaim-your-roots-campaign-won-bronze-at-agency-reporters-pr-communications-excellence-awards-2024/\n",
      "Crawling: https://www.abfrl.com/blog/awards/aditya-birla-fashion-and-retail-limited-abfrl-won-the-sap-ace-award-2024-in-the-game-changer-category-for-the-successful-implementation-of-the-s4-fvb-project-at-mfl/\n",
      "Crawling: https://www.abfrl.com/blog/makar-sankranti-across-india/\n",
      "Crawling: https://www.abfrl.com/blog/spilling-secrets-festive-cheer/\n",
      "Crawling: https://www.abfrl.com/blog/festive-fervour-the-seasons-standout-launches/\n",
      "Crawling: tel:+91%208105060501\n",
      "Error fetching tel:+91%208105060501: No connection adapters were found for 'tel:+91%208105060501'\n",
      "Crawling: mailto:happytohelp@abfrl.in\n",
      "Error fetching mailto:happytohelp@abfrl.in: No connection adapters were found for 'mailto:happytohelp@abfrl.in'\n",
      "Crawling: https://maps.app.goo.gl/pAdysXcn8d1odPCN7\n",
      "Crawling: https://www.abfrl.com/contact-us/\n",
      "Crawling: https://www.instagram.com/adityabirlagrp/?hl=en\n",
      "Crawling: https://in.linkedin.com/company/abfrl\n",
      "Crawling: https://www.abfrl.com/privacy-policy/\n",
      "Crawling: https://twitter.com/ficeindia\n",
      "Crawling: https://www.facebook.com/ficeedu/\n",
      "Crawling: https://www.linkedin.com/company/fice-education\n",
      "Crawling: https://www.instagram.com/fice_education/\n",
      "Crawling: https://www.fice.in/about-hpc-ai-and-iot-labs/\n",
      "Crawling: https://www.fice.in/curriculum-upgrade-and-faculty-development-for-universities/\n",
      "Crawling: mailto:info@fice.in\n",
      "Error fetching mailto:info@fice.in: No connection adapters were found for 'mailto:info@fice.in'\n",
      "Crawling: https://www.fice.in/about-fice/\n",
      "Crawling: https://www.fice.in/careers/\n",
      "Crawling: https://www.fice.in/raise-a-query/\n",
      "Crawling: https://lms.fice.in\n",
      "Crawling: https://www.fice.in/publications/\n",
      "Crawling: https://www.fice.in/partners/\n",
      "Crawling: https://www.fice.in/contact/\n",
      "Crawling: https://fice.in/about-hpc-ai-and-iot-labs/\n",
      "Crawling: https://fice.in/tlp/\n",
      "Error fetching https://fice.in/tlp/: 404 Client Error: Not Found for url: https://www.fice.in/tlp/\n",
      "Crawling: https://fice.in/about-fice/\n",
      "Crawling: https://fice.in/curriculum-upgrade-and-faculty-development-for-universities/\n",
      "Crawling: https://www.fice.in/history-of-the-internet-of-things/#respond\n",
      "Crawling: https://www.fice.in/history-of-the-internet-of-things/\n",
      "Crawling: https://www.fice.in/the-story-of-kawach-the-medical-box/#respond\n",
      "Crawling: https://www.fice.in/the-story-of-kawach-the-medical-box/\n",
      "Crawling: https://fice.in/publications/\n",
      "Crawling: https://www.fice.in/privacypolicy/\n",
      "Crawling: https://fitt-iitd.in/home\n",
      "Error fetching https://fitt-iitd.in/home: 404 Client Error: Not Found for url: https://fitt-iitd.in/home\n",
      "Crawling: https://fitt-iitd.in/status-check\n",
      "Error fetching https://fitt-iitd.in/status-check: 404 Client Error: Not Found for url: https://fitt-iitd.in/status-check\n",
      "Crawling: javascript:void(0)\n",
      "Error fetching javascript:void(0): No connection adapters were found for 'javascript:void(0)'\n",
      "Crawling: https://fitt-iitd.in/aboutus\n",
      "Error fetching https://fitt-iitd.in/aboutus: 404 Client Error: Not Found for url: https://fitt-iitd.in/aboutus\n",
      "Crawling: https://fitt-iitd.in/governance\n",
      "Error fetching https://fitt-iitd.in/governance: 404 Client Error: Not Found for url: https://fitt-iitd.in/governance\n",
      "Crawling: https://fitt-iitd.in/fittteam\n",
      "Error fetching https://fitt-iitd.in/fittteam: 404 Client Error: Not Found for url: https://fitt-iitd.in/fittteam\n",
      "Crawling: https://fitt-iitd.in/contract-r-d\n",
      "Error fetching https://fitt-iitd.in/contract-r-d: 404 Client Error: Not Found for url: https://fitt-iitd.in/contract-r-d\n",
      "Crawling: https://fitt-iitd.in/partners\n",
      "Error fetching https://fitt-iitd.in/partners: 404 Client Error: Not Found for url: https://fitt-iitd.in/partners\n",
      "Crawling: https://fitt-iitd.in/membership\n",
      "Error fetching https://fitt-iitd.in/membership: 404 Client Error: Not Found for url: https://fitt-iitd.in/membership\n",
      "Crawling: https://fitt-iitd.in/PCR\n",
      "Error fetching https://fitt-iitd.in/PCR: 404 Client Error: Not Found for url: https://fitt-iitd.in/PCR\n",
      "Crawling: https://fitt-iitd.in/workshop\n",
      "Error fetching https://fitt-iitd.in/workshop: 404 Client Error: Not Found for url: https://fitt-iitd.in/workshop\n",
      "Crawling: https://fitt-iitd.in/capacity\n",
      "Error fetching https://fitt-iitd.in/capacity: 404 Client Error: Not Found for url: https://fitt-iitd.in/capacity\n",
      "Crawling: https://fitt-iitd.in/management-ip\n",
      "Error fetching https://fitt-iitd.in/management-ip: 404 Client Error: Not Found for url: https://fitt-iitd.in/management-ip\n",
      "Crawling: https://fitt-iitd.in/licensing\n",
      "Error fetching https://fitt-iitd.in/licensing: 404 Client Error: Not Found for url: https://fitt-iitd.in/licensing\n",
      "Crawling: https://fitt-iitd.in/document/licensing/IPRPolicy-IITD.pdf\n",
      "Error fetching https://fitt-iitd.in/document/licensing/IPRPolicy-IITD.pdf: 404 Client Error: Not Found for url: https://fitt-iitd.in/document/licensing/IPRPolicy-IITD.pdf\n",
      "Crawling: https://fitt-iitd.in/latest-filed-ip\n",
      "Error fetching https://fitt-iitd.in/latest-filed-ip: 404 Client Error: Not Found for url: https://fitt-iitd.in/latest-filed-ip\n",
      "Crawling: https://fitt-iitd.in/compendium\n",
      "Error fetching https://fitt-iitd.in/compendium: 404 Client Error: Not Found for url: https://fitt-iitd.in/compendium\n",
      "Crawling: https://fitt-iitd.in/sciencepark\n",
      "Error fetching https://fitt-iitd.in/sciencepark: 404 Client Error: Not Found for url: https://fitt-iitd.in/sciencepark\n",
      "Crawling: https://fitt-iitd.in/incubation\n",
      "Error fetching https://fitt-iitd.in/incubation: 404 Client Error: Not Found for url: https://fitt-iitd.in/incubation\n",
      "Crawling: https://fitt-iitd.in/mentors\n",
      "Error fetching https://fitt-iitd.in/mentors: 404 Client Error: Not Found for url: https://fitt-iitd.in/mentors\n",
      "Crawling: https://fitt-iitd.in/coworkspace\n",
      "Error fetching https://fitt-iitd.in/coworkspace: 404 Client Error: Not Found for url: https://fitt-iitd.in/coworkspace\n",
      "Crawling: https://fitt-iitd.in/auditorium\n",
      "Error fetching https://fitt-iitd.in/auditorium: 404 Client Error: Not Found for url: https://fitt-iitd.in/auditorium\n",
      "Crawling: https://fitt-iitd.in/jobboard\n",
      "Error fetching https://fitt-iitd.in/jobboard: 404 Client Error: Not Found for url: https://fitt-iitd.in/jobboard\n",
      "Crawling: https://fitt-iitd.in/serviceprovider\n",
      "Error fetching https://fitt-iitd.in/serviceprovider: 404 Client Error: Not Found for url: https://fitt-iitd.in/serviceprovider\n",
      "Crawling: https://fitt-iitd.in/current-startups\n",
      "Error fetching https://fitt-iitd.in/current-startups: 404 Client Error: Not Found for url: https://fitt-iitd.in/current-startups\n",
      "Crawling: https://fitt-iitd.in/graduated-startups\n",
      "Error fetching https://fitt-iitd.in/graduated-startups: 404 Client Error: Not Found for url: https://fitt-iitd.in/graduated-startups\n",
      "Crawling: https://fitt-iitd.in/success-stories\n",
      "Error fetching https://fitt-iitd.in/success-stories: 404 Client Error: Not Found for url: https://fitt-iitd.in/success-stories\n",
      "Crawling: https://fitt-iitd.in/stakeholders\n",
      "Error fetching https://fitt-iitd.in/stakeholders: 404 Client Error: Not Found for url: https://fitt-iitd.in/stakeholders\n",
      "Crawling: https://fitt-iitd.in/programs\n",
      "Error fetching https://fitt-iitd.in/programs: 404 Client Error: Not Found for url: https://fitt-iitd.in/programs\n",
      "Crawling: https://fitt-iitd.in/fitt-program\n",
      "Error fetching https://fitt-iitd.in/fitt-program: 404 Client Error: Not Found for url: https://fitt-iitd.in/fitt-program\n",
      "Crawling: https://fitt-iitd.in/government-program\n",
      "Error fetching https://fitt-iitd.in/government-program: 404 Client Error: Not Found for url: https://fitt-iitd.in/government-program\n",
      "Crawling: https://fitt-iitd.in/corporate-program\n",
      "Error fetching https://fitt-iitd.in/corporate-program: 404 Client Error: Not Found for url: https://fitt-iitd.in/corporate-program\n",
      "Crawling: https://fitt-iitd.in/infrastructure\n",
      "Error fetching https://fitt-iitd.in/infrastructure: 404 Client Error: Not Found for url: https://fitt-iitd.in/infrastructure\n",
      "Crawling: https://fitt-iitd.in/financial-support\n",
      "Error fetching https://fitt-iitd.in/financial-support: 404 Client Error: Not Found for url: https://fitt-iitd.in/financial-support\n",
      "Crawling: https://fitt-iitd.in/atal-incubation-centre\n",
      "Error fetching https://fitt-iitd.in/atal-incubation-centre: 404 Client Error: Not Found for url: https://fitt-iitd.in/atal-incubation-centre\n",
      "Crawling: https://fitt-iitd.in/innovation-technolgy\n",
      "Error fetching https://fitt-iitd.in/innovation-technolgy: 404 Client Error: Not Found for url: https://fitt-iitd.in/innovation-technolgy\n",
      "Crawling: https://fitt-iitd.in/events\n",
      "Error fetching https://fitt-iitd.in/events: 404 Client Error: Not Found for url: https://fitt-iitd.in/events\n",
      "Crawling: https://fitt-iitd.in/career\n",
      "Error fetching https://fitt-iitd.in/career: 404 Client Error: Not Found for url: https://fitt-iitd.in/career\n",
      "Crawling: https://fitt-iitd.in/enquiry\n",
      "Error fetching https://fitt-iitd.in/enquiry: 404 Client Error: Not Found for url: https://fitt-iitd.in/enquiry\n",
      "Crawling: https://fitt-iitd.in/document/news/news_549692025-01-1016-37-50.pdf\n",
      "Error fetching https://fitt-iitd.in/document/news/news_549692025-01-1016-37-50.pdf: 404 Client Error: Not Found for url: https://fitt-iitd.in/document/news/news_549692025-01-1016-37-50.pdf\n",
      "Crawling: https://fitt-iitd.in/document/news/news_827072024-11-1212-05-08.pdf\n",
      "Error fetching https://fitt-iitd.in/document/news/news_827072024-11-1212-05-08.pdf: 404 Client Error: Not Found for url: https://fitt-iitd.in/document/news/news_827072024-11-1212-05-08.pdf\n",
      "Crawling: https://fitt-iitd.in/document/news/quote_511242024-03-1816-11-23.pdf\n",
      "Error fetching https://fitt-iitd.in/document/news/quote_511242024-03-1816-11-23.pdf: 404 Client Error: Not Found for url: https://fitt-iitd.in/document/news/quote_511242024-03-1816-11-23.pdf\n",
      "Crawling: https://fitt-iitd.in/rd-partnership\n",
      "Error fetching https://fitt-iitd.in/rd-partnership: 404 Client Error: Not Found for url: https://fitt-iitd.in/rd-partnership\n",
      "Crawling: https://fitt-iitd.in/ip-licensing\n",
      "Error fetching https://fitt-iitd.in/ip-licensing: 404 Client Error: Not Found for url: https://fitt-iitd.in/ip-licensing\n",
      "Crawling: https://fitt-iitd.in/media\n",
      "Error fetching https://fitt-iitd.in/media: 404 Client Error: Not Found for url: https://fitt-iitd.in/media\n",
      "Crawling: https://fitt-iitd.in/document/Forum/FITT Forum_July 2023.pdf\n",
      "Error fetching https://fitt-iitd.in/document/Forum/FITT Forum_July 2023.pdf: 404 Client Error: Not Found for url: https://fitt-iitd.in/document/Forum/FITT%20Forum_July%202023.pdf\n",
      "Crawling: https://bsorav.wixsite.com/website\n",
      "Error fetching https://bsorav.wixsite.com/website: 404 Client Error: Not Found for url: https://bsorav.wixsite.com/website\n",
      "Crawling: https://www.dweepi.com/\n",
      "Crawling: https://www.mobisec.in/\n",
      "Crawling: https://fitt-iitd.in/event-overview?id=evt_id106\n",
      "Error fetching https://fitt-iitd.in/event-overview?id=evt_id106: 404 Client Error: Not Found for url: https://fitt-iitd.in/event-overview?id=evt_id106\n",
      "Crawling: https://fitt-iitd.in/event-overview?id=evt_id103\n",
      "Error fetching https://fitt-iitd.in/event-overview?id=evt_id103: 404 Client Error: Not Found for url: https://fitt-iitd.in/event-overview?id=evt_id103\n",
      "Crawling: https://fitt-iitd.in/event-overview?id=evt_id102\n",
      "Error fetching https://fitt-iitd.in/event-overview?id=evt_id102: 404 Client Error: Not Found for url: https://fitt-iitd.in/event-overview?id=evt_id102\n",
      "Crawling: https://fitt-iitd.in/sparsh\n",
      "Error fetching https://fitt-iitd.in/sparsh: 404 Client Error: Not Found for url: https://fitt-iitd.in/sparsh\n",
      "Crawling: https://fitt-iitd.in/msma\n",
      "Error fetching https://fitt-iitd.in/msma: 404 Client Error: Not Found for url: https://fitt-iitd.in/msma\n",
      "Crawling: https://fitt-iitd.in/tides20\n",
      "Error fetching https://fitt-iitd.in/tides20: 404 Client Error: Not Found for url: https://fitt-iitd.in/tides20\n",
      "Crawling: https://fitt-iitd.in/nidhisss\n",
      "Error fetching https://fitt-iitd.in/nidhisss: 404 Client Error: Not Found for url: https://fitt-iitd.in/nidhisss\n",
      "Crawling: https://fitt-iitd.in/sisfs\n",
      "Error fetching https://fitt-iitd.in/sisfs: 404 Client Error: Not Found for url: https://fitt-iitd.in/sisfs\n",
      "Crawling: https://fitt-iitd.in/samridh\n",
      "Error fetching https://fitt-iitd.in/samridh: 404 Client Error: Not Found for url: https://fitt-iitd.in/samridh\n",
      "Crawling: https://fitt-iitd.in/sona-comstar-iit-delhi-innovation-program-scidip\n",
      "Error fetching https://fitt-iitd.in/sona-comstar-iit-delhi-innovation-program-scidip: 404 Client Error: Not Found for url: https://fitt-iitd.in/sona-comstar-iit-delhi-innovation-program-scidip\n",
      "Crawling: https://fitt-iitd.in/build\n",
      "Error fetching https://fitt-iitd.in/build: 404 Client Error: Not Found for url: https://fitt-iitd.in/build\n",
      "Crawling: https://fitt-iitd.in/samsung\n",
      "Error fetching https://fitt-iitd.in/samsung: 404 Client Error: Not Found for url: https://fitt-iitd.in/samsung\n",
      "Crawling: https://fitt-iitd.in/engsui\n",
      "Error fetching https://fitt-iitd.in/engsui: 404 Client Error: Not Found for url: https://fitt-iitd.in/engsui\n",
      "Crawling: https://fitt-iitd.in/pfizer\n",
      "Error fetching https://fitt-iitd.in/pfizer: 404 Client Error: Not Found for url: https://fitt-iitd.in/pfizer\n",
      "Crawling: https://fitt-iitd.in/meta\n",
      "Error fetching https://fitt-iitd.in/meta: 404 Client Error: Not Found for url: https://fitt-iitd.in/meta\n",
      "Crawling: https://fitt-iitd.in/#homeslider\n",
      "Crawling: https://fitt-iitd.in/#rdyellow-slide\n",
      "Crawling: https://fitt-iitd.in/#purple-slide\n",
      "Crawling: https://fitt-iitd.in/#yellow-slide\n",
      "Crawling: https://fitt-iitd.in/#pink-slide\n",
      "Crawling: https://fitt-iitd.in/#ittopurple-slide\n",
      "Crawling: https://fitt-iitd.in/#announcement\n",
      "Crawling: mailto:mdfitt@gmail.com\n",
      "Error fetching mailto:mdfitt@gmail.com: No connection adapters were found for 'mailto:mdfitt@gmail.com'\n",
      "Crawling: https://home.iitd.ac.in/\n",
      "Crawling: https://fitt-iitd.in/startupindia\n",
      "Error fetching https://fitt-iitd.in/startupindia: 404 Client Error: Not Found for url: https://fitt-iitd.in/startupindia\n",
      "Crawling: https://www.iitdalumni.com/\n",
      "Crawling: https://fitt-iitd.in/download\n",
      "Error fetching https://fitt-iitd.in/download: 404 Client Error: Not Found for url: https://fitt-iitd.in/download\n",
      "Crawling: https://fitt-iitd.in/niq-archive\n",
      "Error fetching https://fitt-iitd.in/niq-archive: 404 Client Error: Not Found for url: https://fitt-iitd.in/niq-archive\n",
      "Crawling: https://fitt-iitd.in/privacy\n",
      "Error fetching https://fitt-iitd.in/privacy: 404 Client Error: Not Found for url: https://fitt-iitd.in/privacy\n",
      "Crawling: https://fitt-iitd.in/paymentpolicy\n",
      "Error fetching https://fitt-iitd.in/paymentpolicy: 404 Client Error: Not Found for url: https://fitt-iitd.in/paymentpolicy\n",
      "Crawling: https://fitt-iitd.in/terms-conditions\n",
      "Error fetching https://fitt-iitd.in/terms-conditions: 404 Client Error: Not Found for url: https://fitt-iitd.in/terms-conditions\n",
      "Crawling: https://fitt-iitd.in/csr\n",
      "Error fetching https://fitt-iitd.in/csr: 404 Client Error: Not Found for url: https://fitt-iitd.in/csr\n",
      "Crawling: https://fitt-iitd.in/contact\n",
      "Error fetching https://fitt-iitd.in/contact: 404 Client Error: Not Found for url: https://fitt-iitd.in/contact\n",
      "Crawling: https://www.fieldcloud.in/Ticketing/SuperAdmin_login.php\n",
      "Crawling: https://www.facebook.com/tbiu.fitt\n",
      "Crawling: https://twitter.com/fitt_iitd\n",
      "Crawling: https://www.linkedin.com/company/fittiitdelhi/mycompany/\n",
      "Crawling: https://b2llab.in/website/\n",
      "Crawling: https://gurushala.co/studyspot\n",
      "Crawling: https://gurushala.co/assessments\n",
      "Crawling: https://gurushala.co/lesson-plans\n",
      "Crawling: https://gurushala.co/openforallclasses\n",
      "Crawling: https://gurushala.co/kids-competition\n",
      "Crawling: https://gurushala.co/networking\n",
      "Crawling: https://gurushala.co/leaderboard/overall\n",
      "Crawling: https://gurushala.co/competition\n",
      "Crawling: https://gurushala.co/ed-tech\n",
      "Crawling: https://gurushala.co/modules\n",
      "Crawling: https://gurushala.co/content\n",
      "Crawling: https://gurushala.co/training\n",
      "Crawling: https://gurushala.co/personality\n",
      "Crawling: https://gurushala.co/communities?tab=1\n",
      "Crawling: https://gurushala.co/communities?tab=2\n",
      "Crawling: https://gurushala.co/rewards\n",
      "Crawling: https://gurushala.co/request-content\n",
      "Crawling: https://gurushala.co/blog\n",
      "Crawling: https://gurushala.co/competitions/students\n",
      "Crawling: https://gurushala.co/webinar?user_type=2\n",
      "Crawling: https://gurushala.co/leaderboard/overall?user_type=2\n",
      "Crawling: https://gurushala.co/modules/students\n",
      "Crawling: https://gurushala.co/communities?tab=2&user_type=2\n",
      "Crawling: https://gurushala.co/page/story\n",
      "Crawling: https://gurushala.co/partner/school-institutions\n",
      "Crawling: https://gurushala.co/contact-us\n",
      "Crawling: https://gurushala.co/signUp\n",
      "Crawling: https://gurushala.co/signUp?type=signUp\n",
      "Crawling: https://gurushala.co/lang/ZW4=\n",
      "Crawling: https://gurushala.co/lang/aGk=\n",
      "Crawling: https://play.google.com/store/apps/details?id=com.gurushala\n",
      "Crawling: https://gurushala.co/webinar\n",
      "Crawling: https://gurushala.co/pages/Learn_English\n",
      "Crawling: https://gurushala.co/module-detail/NA==\n",
      "Crawling: https://gurushala.co/module-detail/NQ==\n",
      "Crawling: https://gurushala.co/module-detail/OA==\n",
      "Crawling: https://gurushala.co/module-detail/MTE=\n",
      "Crawling: https://gurushala.co/module-detail/MjI=\n",
      "Crawling: https://gurushala.co/module-detail/MzE=\n",
      "Crawling: https://gurushala.co/modules?tab=1\n",
      "Crawling: https://gurushala.co/module-detail/MTMw\n",
      "Crawling: https://gurushala.co/module-detail/MTY1\n",
      "Crawling: https://gurushala.co/module-detail/MTk0\n",
      "Crawling: https://gurushala.co/module-detail/MTk2\n",
      "Crawling: https://gurushala.co/module-detail/MTk4\n",
      "Crawling: https://gurushala.co/module-detail/MjAz\n",
      "Crawling: https://gurushala.co/modules?tab=2\n",
      "Crawling: https://gurushala.co/kids-detail/MTQzMQ==\n",
      "Crawling: https://gurushala.co/kids-detail/NzE4\n",
      "Crawling: https://gurushala.co/kids-detail/NTg0\n",
      "Crawling: https://www.youtube.com./channel/UCY3vP3nIEhMff0IqxWy46Gw\n",
      "Crawling: https://gurushala.co/pages/News\n",
      "Crawling: https://gurushala.co/page/volunteer\n",
      "Crawling: https://gurushala.co/page/join-us\n",
      "Crawling: https://gurushala.co/partner/content-collaborators\n",
      "Crawling: https://www.facebook.com/GuruShala01\n",
      "Crawling: https://www.instagram.com/gurushala\n",
      "Crawling: https://www.linkedin.com/company/99213953\n",
      "Crawling: https://gurushala.co/pages/social\n",
      "Crawling: https://www.youtube.com/channel/UCY3vP3nIEhMff0IqxWy46Gw\n",
      "Crawling: https://gurushala.co/page/terms-and-condition\n",
      "Crawling: https://gurushala.co/page/privacy-policy\n",
      "Crawling: https://gurushala.co/social-login/google\n",
      "Crawling: https://www.ibm.com/granite?lnk=dev\n",
      "Crawling: https://developer.ibm.com/technologies/artificial-intelligence?lnk=dev\n",
      "Crawling: https://www.ibm.com/products/watsonx-code-assistant?lnk=dev\n",
      "Crawling: https://www.ibm.com/watsonx/developer/?lnk=dev\n",
      "Crawling: https://www.ibm.com/thought-leadership/institute-business-value/report/ceo-generative-ai?lnk=bus\n",
      "Crawling: https://www.ibm.com/think/videos/ai-academy\n",
      "Crawling: https://www.ibm.com/products/watsonx-orchestrate/ai-agent-for-hr?lnk=bus\n",
      "Crawling: https://www.ibm.com/products/guardium-data-security-center?lnk=bus\n",
      "Crawling: https://www.ibm.com/in-en/artificial-intelligence?lnk=ProdC\n",
      "Crawling: https://www.ibm.com/in-en/hybrid-cloud?lnk=ProdC\n",
      "Crawling: https://www.ibm.com/in-en/consulting?lnk=ProdC\n",
      "Crawling: https://www.socialalpha.org/our-approach/\n",
      "Crawling: https://www.socialalpha.org/innovation-ecosystem/\n",
      "Crawling: https://www.socialalpha.org/incubation-labs/\n",
      "Crawling: https://www.socialalpha.org/investment-model/\n",
      "Crawling: https://www.socialalpha.org/our-portfolio/\n",
      "Crawling: https://www.socialalpha.org/platforms/\n",
      "Crawling: https://ceiic.socialalpha.org/\n",
      "Crawling: https://www.socialalpha.org/aic-2/\n",
      "Crawling: https://www.socialalpha.org/ceibic/\n",
      "Crawling: https://www.socialalpha.org/spin/\n",
      "Crawling: https://www.mach33.aero/\n",
      "Crawling: https://www.socialalpha.org/#/\n",
      "Crawling: https://www.socialalpha.org/nidhi-sss/\n",
      "Crawling: https://www.socialalpha.org/techtonic/\n",
      "Crawling: https://www.transform.global/news/do-you-have-an-innovative-solution-to-reduce-plastic-consumption-and-waste-across-the-packaging-value-chain/\n",
      "Error fetching https://www.transform.global/news/do-you-have-an-innovative-solution-to-reduce-plastic-consumption-and-waste-across-the-packaging-value-chain/: 403 Client Error: Forbidden for url: https://www.transform.global/news/do-you-have-an-innovative-solution-to-reduce-plastic-consumption-and-waste-across-the-packaging-value-chain/\n",
      "Crawling: https://www.socialalpha.org/programs-accelerators/\n",
      "Crawling: https://actgrants.in\n",
      "Crawling: http://www.sustainplus.org\n",
      "Crawling: https://www.socialalpha.org/swavalamban-divyangjan-assistive-technology-market-access-fund/\n",
      "Crawling: https://www.socialalpha.org/entrepreneur-in-residence/\n",
      "Crawling: https://www.socialalpha.org/about-us/\n",
      "Crawling: https://www.socialalpha.org/announcements/\n",
      "Crawling: https://www.socialalpha.org/newsletters/\n",
      "Crawling: https://www.socialalpha.org/opinion-articles/\n",
      "Crawling: https://www.socialalpha.org/press/\n",
      "Crawling: https://www.socialalpha.org/blogs/\n",
      "Crawling: https://www.socialalpha.org/podcasts/\n",
      "Crawling: https://www.socialalpha.org/resources/\n",
      "Crawling: https://www.socialalpha.org/careers/\n",
      "Crawling: https://www.socialalpha.org/careers-portfolio/\n",
      "Crawling: https://www.socialalpha.org/get-involved/\n",
      "Crawling: https://www.socialalpha.org/#about\n",
      "Crawling: https://www.socialalpha.org/author/socialalpha/\n",
      "Crawling: https://www.socialalpha.org/author/chandu/\n",
      "Crawling: https://www.socialalpha.org/techtonic-innovations-for-agriculture-and-rural-livelihoods/\n",
      "Crawling: https://www.socialalpha.org/techtonic-innovations-in-sustainable-urban-transition/\n",
      "Crawling: https://airtable.com/app9hxXyMTviMNLl8/paghWvakw9BeFA7Ws/form\n",
      "Crawling: https://www.linkedin.com/company/social-alpha/\n",
      "Crawling: https://twitter.com/socialalphain\n",
      "Crawling: https://www.facebook.com/SocialAlphaIN/\n",
      "Crawling: https://www.instagram.com/socialalpha_in/\n",
      "Crawling: javascript:void(0);\n",
      "Error fetching javascript:void(0);: No connection adapters were found for 'javascript:void(0);'\n",
      "Crawling: https://www.uspto.gov/#main-content\n",
      "Crawling: https://www.uspto.gov/#main\n",
      "Crawling: https://www.uspto.gov/#launch-search\n",
      "Crawling: https://www.uspto.gov/#launch-links\n",
      "Crawling: https://www.uspto.gov/#launch-menu\n",
      "Crawling: https://www.uspto.gov/about-us\n",
      "Crawling: https://www.uspto.gov/jobs/join-us\n",
      "Crawling: https://www.uspto.gov/about-us/contact-us\n",
      "Crawling: https://my.uspto.gov\n",
      "Crawling: https://www.uspto.gov/patents\n",
      "Crawling: https://www.uspto.gov/patents/basics\n",
      "Crawling: https://www.uspto.gov/patents/basics/patent-process-overview\n",
      "Crawling: https://www.uspto.gov/learning-and-resources/patent-and-trademark-practitioners/intellectual-property-legal-assistance\n",
      "Crawling: https://www.uspto.gov/learning-and-resources/inventors-entrepreneurs-resources\n",
      "Crawling: https://www.uspto.gov/patents/basics/international-patent-cooperation\n",
      "Crawling: https://www.uspto.gov/help/patent-help#patents\n",
      "Crawling: https://www.uspto.gov/patents/search\n",
      "Crawling: https://www.uspto.gov/patents/search/classification-standards-and-development\n",
      "Crawling: https://www.uspto.gov/patents/apply\n",
      "Crawling: https://www.uspto.gov/patents/apply/checking-application-status/check-filing-status-your-patent-application\n",
      "Crawling: https://www.uspto.gov/patents/maintain/responding-office-actions\n",
      "Crawling: https://www.uspto.gov/patents/apply/petitions\n",
      "Crawling: https://www.uspto.gov/patents/ptab\n",
      "Crawling: https://www.uspto.gov/patents/maintain\n",
      "Crawling: https://www.uspto.gov/patents/maintain/data-management-services\n",
      "Crawling: https://www.uspto.gov/patents/maintain/patents-assignments-change-search-ownership\n",
      "Crawling: https://certifiedcopycenter.uspto.gov\n",
      "Crawling: https://www.uspto.gov/patents/basics/online-patent-tools\n",
      "Crawling: https://www.uspto.gov/patents/apply/patent-center\n",
      "Crawling: https://www.uspto.gov/learning-and-resources/support-centers/patent-electronic-business-center\n",
      "Crawling: https://www.uspto.gov/learning-and-resources/fees-and-payment\n",
      "Crawling: https://www.uspto.gov/patents/basics/international-protection/global-dossier-initiative\n",
      "Crawling: https://www.uspto.gov/trademarks\n",
      "Crawling: https://www.uspto.gov/trademarks/basics\n",
      "Crawling: https://www.uspto.gov/trademarks/basics/trademark-process\n",
      "Crawling: https://www.uspto.gov/trademarks/videos\n",
      "Crawling: https://www.uspto.gov/learning-and-resources/trademark-faqs\n",
      "Crawling: https://www.uspto.gov/trademarks/basics/why-hire-private-trademark-attorney\n",
      "Crawling: https://www.uspto.gov/ip-policy/international-protection/madrid-protocol\n",
      "Crawling: https://www.uspto.gov/trademarks/protect\n",
      "Crawling: https://www.uspto.gov/trademarks/search\n",
      "Crawling: https://www.uspto.gov/trademarks/apply\n",
      "Crawling: https://www.uspto.gov/trademarks/apply/faqs-personal-information-trademark-records\n",
      "Crawling: https://www.uspto.gov/trademarks/apply/check-status-view-documents\n",
      "Crawling: https://www.uspto.gov/trademarks/maintain/responding-office-actions\n",
      "Crawling: https://www.uspto.gov/trademarks/apply/reviving-abandoned-application\n",
      "Crawling: https://www.uspto.gov/trademarks/contact-trademarks\n",
      "Crawling: https://www.uspto.gov/trademarks/ttab\n",
      "Crawling: https://www.uspto.gov/trademarks/maintain/keeping-your-registration-alive\n",
      "Crawling: https://www.uspto.gov/trademarks/maintain\n",
      "Crawling: https://www.uspto.gov/trademarks/maintain/checking-status-application-or-registration\n",
      "Crawling: https://www.uspto.gov/trademarks/been-sued-or-received-cease-and-desist-letter-answers-common-questions-about-trademark\n",
      "Crawling: https://www.uspto.gov/trademarks/trademark-assignments-change-search-ownership\n",
      "Crawling: https://www.uspto.gov/trademarks/trademark-fee-information\n",
      "Crawling: https://www.uspto.gov/ip-policy\n",
      "Crawling: https://www.uspto.gov/ip-policy/patent-policy\n",
      "Crawling: https://www.uspto.gov/ip-policy/industrial-design-policy\n",
      "Crawling: https://www.uspto.gov/ip-policy/trademark-policy\n",
      "Crawling: https://www.uspto.gov/ip-policy/copyright-policy\n",
      "Crawling: https://www.uspto.gov/ip-policy/enforcement-policy\n",
      "Crawling: https://www.uspto.gov/ip-policy/trade-secret-policy\n",
      "Crawling: https://www.uspto.gov/ip-policy/ip-attache-program\n",
      "Crawling: https://www.uspto.gov/ip-policy/china\n",
      "Crawling: https://www.uspto.gov/ip-policy/ipr-toolkits\n",
      "Crawling: https://www.uspto.gov/ip-policy/international-intergovernmental-organizations\n",
      "Crawling: https://www.uspto.gov/ip-policy/economic-research\n",
      "Crawling: https://www.uspto.gov/ip-policy/global-intellectual-property-academy\n",
      "Crawling: https://www.uspto.gov/ip-policy/legislative-resources\n",
      "Crawling: https://www.uspto.gov/ip-policy/ip-policy-events\n",
      "Crawling: https://www.uspto.gov/learning-resources\n",
      "Crawling: https://www.uspto.gov/learning-and-resources/attorneys-agents-and-paralegals\n",
      "Crawling: https://www.uspto.gov/learning-and-resources/kids-educators\n",
      "Crawling: https://www.uspto.gov/about-us/news-updates\n",
      "Crawling: https://www.uspto.gov/learning-and-resources/patent-trademark-resource-centers\n",
      "Crawling: https://www.uspto.gov/learning-and-resources/patent-and-trademark-practitioners\n",
      "Crawling: https://www.uspto.gov/learning-and-resources/general-faqs\n",
      "Crawling: https://www.uspto.gov/help/patent-help\n",
      "Crawling: https://www.uspto.gov/learning-and-resources/transferring-ownership-assignments-faqs\n",
      "Crawling: https://www.uspto.gov/learning-and-resources/open-data-and-mobility\n",
      "Crawling: https://www.uspto.gov/learning-and-resources/federal-register\n",
      "Crawling: https://www.uspto.gov/learning-and-resources/official-gazette\n",
      "Crawling: https://www.uspto.gov/learning-and-resources/xml-resources\n",
      "Crawling: https://www.uspto.gov/learning-and-resources/operating-status\n",
      "Crawling: https://www.uspto.gov/about-us/events\n",
      "Crawling: https://www.uspto.gov/guidance\n",
      "Crawling: https://www.uspto.gov/learning-and-resources/glossary\n",
      "Crawling: https://www.uspto.gov/subscribe\n",
      "Crawling: https://www.uspto.gov/learning-and-resources/uspto-videos\n",
      "Crawling: https://www.uspto.gov/learning-and-resources/ip-programs-and-awards\n",
      "Crawling: https://www.uspto.gov/learning-and-resources/statistics\n",
      "Crawling: https://ipidentifier.uspto.gov/\n",
      "Crawling: https://www.uspto.gov/patents#patents-0\n",
      "Crawling: https://www.uspto.gov/patents#getting-started-1\n",
      "Crawling: https://www.uspto.gov/patents#application-process-1\n",
      "Crawling: https://www.uspto.gov/patents/search/patent-public-search\n",
      "Crawling: https://www.uspto.gov/patents#maintaining-a-patent-1\n",
      "Crawling: https://www.uspto.gov/patents#more-patents-1\n",
      "Crawling: https://www.uspto.gov/patents/initiatives\n",
      "Crawling: https://www.uspto.gov/patents/apply/forms\n",
      "Crawling: https://www.uspto.gov/learning-and-resources/fees-and-payment/fees-payments-faqs\n",
      "Crawling: https://www.uspto.gov/patents/patent-announcements\n",
      "Crawling: https://www.uspto.gov/learning-and-resources/support-centers/patents-ombuds-office\n",
      "Crawling: https://www.uspto.gov/patents/laws\n",
      "Crawling: https://www.uspto.gov/patents/contact-patents\n",
      "Crawling: https://www.uspto.gov/patents/contact-patents/patent-technology-centers-management\n",
      "Crawling: https://www.uspto.gov/patents#tools-&-links-1\n",
      "Crawling: https://www.uspto.gov/trademarks#trademarks-0\n",
      "Crawling: https://www.uspto.gov/trademarks#getting-started-1\n",
      "Crawling: https://www.uspto.gov/trademarks#application-process-1\n",
      "Crawling: https://www.uspto.gov/trademarks#maintaining-a-trademark-registration-1\n",
      "Crawling: https://www.uspto.gov/trademarks#more-trademarks-1\n",
      "Crawling: https://www.uspto.gov/trademarks/trademark-updates-announcements\n",
      "Crawling: https://www.uspto.gov/trademarks/laws\n",
      "Crawling: https://www.uspto.gov/trademarks/guides-and-manuals/manuals-guides-official-gazette\n",
      "Crawling: https://www.uspto.gov/trademarks/soundmarks/trademark-sound-mark-examples\n",
      "Crawling: https://www.uspto.gov/trademarks/trademark-documents-prosecutors-official-government-use-only\n",
      "Crawling: https://www.uspto.gov/trademarks/trademark-timelines/trademark-application-and-post-registration-process-timelines\n",
      "Crawling: https://www.uspto.gov/trademarks#tools-&-links-1\n",
      "Crawling: https://www.uspto.gov/ip-policy#ip-policy-0\n",
      "Crawling: https://www.uspto.gov/ip-policy#ip-policy-1\n",
      "Crawling: https://www.uspto.gov/ip-policy/international-ip-treaties\n",
      "Crawling: https://www.uspto.gov/ip-policy#international-affairs-1\n",
      "Crawling: https://www.uspto.gov/ip-policy#ip-research-and-training--1\n",
      "Crawling: https://www.uspto.gov/ip-policy#tools-&-links-1\n",
      "Crawling: https://www.uspto.gov/learning-resources#learning-and-resources-0\n",
      "Crawling: https://www.uspto.gov/learning-resources#resources-by-audience-1\n",
      "Crawling: https://www.uspto.gov/learning-resources#help-by-topic-1\n",
      "Crawling: https://www.uspto.gov/learning-resources#services-&-publications-1\n",
      "Crawling: https://www.uspto.gov/learning-resources#tools-&-links-1\n",
      "Crawling: https://www.uspto.gov/learning-resources#more-learning-and-resources-1\n",
      "Crawling: https://www.uspto.gov/learning-and-resources/examiner-training-materials\n",
      "Crawling: https://www.uspto.gov/learning-and-resources/support-centers/uspto-contact-center-ucc\n",
      "Crawling: https://www.uspto.gov/learning-and-resources/other-web-resources\n",
      "Crawling: https://www.uspto.gov/about-us#about-us-0\n",
      "Crawling: https://www.uspto.gov/initiatives\n",
      "Crawling: https://www.uspto.gov/about-us/financial-and-performance\n",
      "Crawling: https://www.uspto.gov/about-us/uspto-office-locations\n",
      "Crawling: https://www.uspto.gov/about-us/vendor-information\n",
      "Crawling: https://my.uspto.gov/\n",
      "Crawling: https://ppubs.uspto.gov/pubwebapp/static/pages/landing.html\n",
      "Crawling: https://patentcenter.uspto.gov/\n",
      "Crawling: https://globaldossier.uspto.gov\n",
      "Error fetching https://globaldossier.uspto.gov: 403 Client Error: Forbidden for url: https://globaldossier.uspto.gov/\n",
      "Crawling: https://fees.uspto.gov/MaintenanceFees\n",
      "Crawling: https://assignment.uspto.gov/patent/\n",
      "Crawling: https://assignmentcenter.uspto.gov\n",
      "Crawling: https://www.uspto.gov/web/offices/pac/mpep/index.html\n",
      "Crawling: https://www.uspto.gov/web/patents/classification/\n"
     ]
    },
    {
     "name": "stderr",
     "output_type": "stream",
     "text": [
      "C:\\Users\\nstib\\AppData\\Local\\Temp\\ipykernel_29680\\2011938762.py:16: XMLParsedAsHTMLWarning: It looks like you're parsing an XML document using an HTML parser. If this really is an HTML document (maybe it's XHTML?), you can ignore or filter this warning. If it's XML, you should know that using an XML parser will be more reliable. To parse this document as XML, make sure you have the lxml package installed, and pass the keyword argument `features=\"xml\"` into the BeautifulSoup constructor.\n",
      "  soup = BeautifulSoup(html, 'lxml')\n"
     ]
    },
    {
     "name": "stdout",
     "output_type": "stream",
     "text": [
      "Crawling: https://tmsearch.uspto.gov/\n",
      "Crawling: https://trademarkcenter.uspto.gov\n",
      "Crawling: https://www.uspto.gov/trademarks/apply/index-all-teas-forms\n",
      "Crawling: https://tsdr.uspto.gov\n",
      "Error fetching https://tsdr.uspto.gov: 403 Client Error: Forbidden for url: https://tsdr.uspto.gov/\n",
      "Crawling: https://estta.uspto.gov/\n",
      "Crawling: https://ttabvue.uspto.gov/ttabvue/\n",
      "Crawling: https://assignment.uspto.gov/trademark/\n",
      "Crawling: https://tmep.uspto.gov/\n",
      "Crawling: https://idm-tmng.uspto.gov/id-master-list-public.html\n",
      "Crawling: https://eog-tmng.uspto.gov/\n",
      "Crawling: https://tbmp.uspto.gov/RDMS/TBMP/current\n",
      "Crawling: https://www.uspto.gov/trademarks/application-timeline\n",
      "Crawling: https://www.uspto.gov/system-status\n",
      "Crawling: https://www.uspto.gov/learning-and-resources/journeys-innovation/sticking-it\n",
      "Crawling: https://www.uspto.gov/about-us/events/anti-piracy-symposium\n",
      "Crawling: https://www.uspto.gov/about-us/events/ex-parte-appeal-roadshows-university-washington-school-law\n",
      "Crawling: https://www.uspto.gov/about-us/events/ex-parte-appeal-roadshows-boston-public-library\n",
      "Crawling: https://www.uspto.gov/about-us/events/ex-parte-appeal-roadshows-north-carolina-state-university\n",
      "Crawling: https://www.uspto.gov/initiatives/artificial-intelligence\n",
      "Crawling: https://www.uspto.gov/initiatives/climate\n",
      "Crawling: https://www.uspto.gov/initiatives/equity\n",
      "Crawling: https://www.uspto.gov/initiatives/entrepreneurship-resources-military-community\n",
      "Crawling: https://www.uspto.gov/initiatives/we\n",
      "Crawling: https://www.uspto.gov/initiatives/fda-collaboration\n",
      "Crawling: https://www.uspto.gov/learning-and-resources/access-our-free-services\n",
      "Crawling: https://www.uspto.gov/#newsTab\n",
      "Crawling: https://www.uspto.gov/#remarksTab\n",
      "Crawling: https://www.uspto.gov/#newsPanel\n",
      "Crawling: https://www.uspto.gov/about-us/news-updates/uspto-releases-fee-study-report-congress\n",
      "Crawling: https://www.uspto.gov/about-us/news-updates/uspto-national-treasury-employees-union-chapter-243-sign-new-collective-0\n",
      "Crawling: https://www.uspto.gov/about-us/news-updates/us-patent-and-trademark-office-and-university-new-hampshire-host-northern-new\n",
      "Crawling: https://www.uspto.gov/subscription-center/2025/uspto-announces-new-artificial-intelligence-strategy-empower-responsible\n",
      "Crawling: https://www.uspto.gov/about-us/news-updates/2024-national-medal-technology-and-innovation-laureates-honored-white-house\n",
      "Crawling: https://www.uspto.gov/#remarksPanel\n",
      "Crawling: https://www.uspto.gov/about-us/news-updates/remarks-director-kathi-vidal-2024-world-ip-day-celebration-capitol-hill\n",
      "Crawling: https://www.uspto.gov/about-us/news-updates/remarks-deputy-director-derrick-brent-2023-national-hbcu-week\n",
      "Crawling: https://www.uspto.gov/about-us/news-updates/oral-testimony-honorable-kathi-vidal-hearing-senate\n",
      "Crawling: https://www.uspto.gov/about-us/news-updates/remarks-uspto-director-kathi-vidal-aipla-spring-meeting\n",
      "Crawling: https://www.uspto.gov/about-us/news-updates/remarks-uspto-deputy-director-derrick-brent-los-angeles-intellectual-property\n",
      "Crawling: https://www.uspto.gov/blog/patent-pendency-goals-road-map-future\n",
      "Crawling: https://www.commerce.gov\n",
      "Crawling: https://www.uspto.gov/using-usptogov/accessibility-uspto-website\n",
      "Crawling: https://www.uspto.gov/privacy-policy\n",
      "Crawling: https://www.uspto.gov/terms-use-uspto-websites\n",
      "Crawling: https://www.uspto.gov/about-us/security/vulnerability-disclosure-policy\n",
      "Crawling: https://www.uspto.gov/learning-and-resources/ip-policy/electronic-freedom-information-act-e-foia\n",
      "Crawling: https://www.oig.doc.gov/Pages/U.S.-Patent-and-Trademark-Office.aspx\n",
      "Error fetching https://www.oig.doc.gov/Pages/U.S.-Patent-and-Trademark-Office.aspx: 404 Client Error: Not Found for url: https://www.oig.doc.gov/Pages/U.S.-Patent-and-Trademark-Office.aspx\n",
      "Crawling: https://www.uspto.gov/about-us/organizational-offices/office-equal-employment-opportunity-and-diversity/nofear-act\n",
      "Crawling: https://www.usa.gov\n",
      "Crawling: https://www.facebook.com/uspto.gov\n",
      "Crawling: https://www.instagram.com/uspto\n",
      "Crawling: https://www.linkedin.com/company/uspto\n",
      "Crawling: https://x.com/uspto\n",
      "Crawling: https://www.youtube.com/user/USPTOvideo\n",
      "Crawling: https://www.cognizant.com/in/en#skipToMainContent\n",
      "Crawling: https://www.cognizant.com/in/en#skipToFooter\n",
      "Crawling: https://www.cognizant.com/in/en/careers\n",
      "Crawling: https://news.cognizant.com/\n",
      "Crawling: https://www.cognizant.com/in/en/events\n",
      "Crawling: https://investors.cognizant.com/home/default.aspx\n",
      "Error fetching https://investors.cognizant.com/home/default.aspx: 403 Client Error: Forbidden for url: https://investors.cognizant.com/home/default.aspx\n",
      "Crawling: https://www.cognizant.com/us/en\n",
      "Crawling: https://www.cognizant.com/ca/en\n",
      "Crawling: https://www.cognizant.com/ca/fr\n",
      "Crawling: https://www.cognizant.com/mx/en\n",
      "Crawling: https://www.cognizant.com/ae/en\n",
      "Crawling: https://www.cognizant.com/be/nl\n",
      "Crawling: https://www.cognizant.com/be/fr\n",
      "Crawling: https://www.cognizant.com/be/en\n",
      "Crawling: https://www.cognizant.com/dk/en\n",
      "Crawling: https://www.cognizant.com/fr/fr\n",
      "Crawling: https://www.cognizant.com/de/de\n",
      "Crawling: https://www.cognizant.com/hu/en\n",
      "Crawling: https://www.cognizant.com/it/it\n",
      "Crawling: https://www.cognizant.com/lv/en\n",
      "Crawling: https://www.cognizant.com/lt/en\n",
      "Crawling: https://www.cognizant.com/no/nb\n",
      "Crawling: https://www.cognizant.com/no/en\n",
      "Crawling: https://www.cognizant.com/pl/en\n",
      "Crawling: https://www.cognizant.com/pt/pt\n",
      "Crawling: https://www.cognizant.com/ro/en\n",
      "Crawling: https://www.cognizant.com/es/es\n",
      "Crawling: https://www.cognizant.com/se/sv\n",
      "Crawling: https://www.cognizant.com/se/en\n",
      "Crawling: https://www.cognizant.com/ch/de\n",
      "Crawling: https://www.cognizant.com/ch/fr\n",
      "Crawling: https://www.cognizant.com/ch/en\n",
      "Crawling: https://www.cognizant.com/nl/nl\n",
      "Crawling: https://www.cognizant.com/uk/en\n",
      "Crawling: https://www.cognizant.com/au/en\n",
      "Crawling: https://www.cognizant.com/cn/zh\n",
      "Crawling: https://www.cognizant.com/cn/en\n",
      "Crawling: https://www.cognizant.com/hk/en\n",
      "Crawling: https://www.cognizant.com/jp/ja\n",
      "Crawling: https://www.cognizant.com/my/en\n",
      "Crawling: https://www.cognizant.com/nz/en\n",
      "Crawling: https://www.cognizant.com/ph/en\n",
      "Crawling: https://www.cognizant.com/sg/en\n",
      "Crawling: https://www.cognizant.com/thailand\n",
      "Crawling: https://www.cognizant.com/in/en/industries/life-sciences-technology-solutions/gmp-manufacturing-solutions/digital-lab-informatics-automation\n",
      "Crawling: https://www.cognizant.com/en_us/industries/documents/generative-ai-in-the-manufacturing-industry.pdf\n",
      "Crawling: https://www.cognizant.com/in/en/industries/banking-technology-solutions\n",
      "Crawling: https://www.cognizant.com/us/en/insights/insights-blog-latest-posts?q=Industries\n",
      "Crawling: https://www.cognizant.com/in/en/industries/automotive-technology-solutions\n",
      "Crawling: https://www.cognizant.com/in/en/industries/automotive-technology-solutions/connectivity\n",
      "Crawling: https://www.cognizant.com/in/en/industries/automotive-technology-solutions/connected-car-engineering\n",
      "Crawling: https://www.cognizant.com/in/en/industries/banking-technology-solutions/bts-business-process-services\n",
      "Crawling: https://www.cognizant.com/in/en/industries/banking-technology-solutions/data-and-ai-for-financial-services\n",
      "Crawling: https://www.cognizant.com/in/en/industries/banking-technology-solutions/digital-banking\n",
      "Crawling: https://www.cognizant.com/in/en/industries/banking-technology-solutions/digital-lending-solutions\n",
      "Crawling: https://www.cognizant.com/in/en/industries/banking-technology-solutions/paycheck-protection-program-forgiveness-solution\n",
      "Crawling: https://www.cognizant.com/in/en/industries/banking-technology-solutions/payment-hub\n",
      "Crawling: https://www.cognizant.com/in/en/industries/banking-technology-solutions/digital-payments\n",
      "Crawling: https://www.cognizant.com/in/en/industries/banking-technology-solutions/real-time-payments-solution\n",
      "Crawling: https://www.cognizant.com/in/en/industries/banking-technology-solutions/retail-commercial\n",
      "Crawling: https://www.cognizant.com/in/en/industries/banking-technology-solutions/temenos-implementation-services\n",
      "Crawling: https://www.cognizant.com/in/en/industries/ocean\n",
      "Crawling: https://www.cognizant.com/in/en/industries/ocean/energy\n",
      "Crawling: https://www.cognizant.com/in/en/industries/ocean/food\n",
      "Crawling: https://www.cognizant.com/in/en/industries/ocean/life\n",
      "Crawling: https://www.cognizant.com/in/en/industries/ocean/transport\n",
      "Crawling: https://www.cognizant.com/in/en/industries/capital-markets-technology-solutions\n",
      "Crawling: https://www.cognizant.com/in/en/industries/capital-markets-technology-solutions/asset-management\n",
      "Crawling: https://www.cognizant.com/in/en/industries/capital-markets-technology-solutions/cmts-business-process-services\n",
      "Crawling: https://www.cognizant.com/in/en/industries/capital-markets-technology-solutions/wealth-management-digital-client-onboarding\n",
      "Crawling: https://www.cognizant.com/in/en/industries/capital-markets-technology-solutions/data-integrity-and-control-for-trading\n",
      "Crawling: https://www.cognizant.com/in/en/industries/capital-markets-technology-solutions/data-strategy-roadmap-for-investments\n",
      "Crawling: https://www.cognizant.com/in/en/industries/capital-markets-technology-solutions/exchanges\n",
      "Crawling: https://www.cognizant.com/in/en/industries/capital-markets-technology-solutions/fees-billing-solution\n",
      "Crawling: https://www.cognizant.com/in/en/industries/capital-markets-technology-solutions/wealth-management-front-office-optimization\n",
      "Crawling: https://www.cognizant.com/in/en/industries/capital-markets-technology-solutions/investment-banking\n",
      "Crawling: https://www.cognizant.com/in/en/industries/capital-markets-technology-solutions/market-information-providers\n",
      "Crawling: https://www.cognizant.com/in/en/industries/capital-markets-technology-solutions/t1-settlement-solutions\n",
      "Crawling: https://www.cognizant.com/in/en/industries/capital-markets-technology-solutions/wealth-management\n",
      "Crawling: https://www.cognizant.com/in/en/industries/cmt-solutions\n",
      "Crawling: https://www.cognizant.com/in/en/industries/cmt-solutions/cmt-business-process-services\n",
      "Crawling: https://www.cognizant.com/in/en/industries/cmt-solutions/communications\n",
      "Crawling: https://www.cognizant.com/in/en/industries/cmt-solutions/media-entertainment\n",
      "Crawling: https://www.cognizant.com/in/en/industries/cmt-solutions/technology\n",
      "Crawling: https://www.cognizant.com/in/en/industries/consumer-goods\n",
      "Crawling: https://www.cognizant.com/in/en/industries/consumer-goods/apparel-footwear-technology\n",
      "Crawling: https://www.cognizant.com/in/en/industries/consumer-goods/consumer-durables-technology\n",
      "Crawling: https://www.cognizant.com/in/en/industries/consumer-goods/consumer-electronics-technology\n",
      "Crawling: https://www.cognizant.com/in/en/industries/consumer-goods/digital-merchandising-solutions\n",
      "Crawling: https://www.cognizant.com/in/en/industries/consumer-goods/food-beverage-technology\n",
      "Crawling: https://www.cognizant.com/in/en/industries/consumer-goods/home-personal-care-technology\n",
      "Crawling: https://www.cognizant.com/in/en/industries/consumer-goods/trade-promotions-management\n",
      "Crawling: https://www.cognizant.com/in/en/industries/education-technology-solutions\n",
      "Crawling: https://www.cognizant.com/in/en/industries/healthcare-technology-solutions\n",
      "Crawling: https://www.cognizant.com/in/en/industries/healthcare-technology-solutions/hts-business-process-services\n",
      "Crawling: https://www.cognizant.com/in/en/industries/healthcare-technology-solutions/cybersecurity\n",
      "Crawling: https://www.cognizant.com/in/en/industries/healthcare-technology-solutions/digital-healthcare-payer-self-service-solution\n",
      "Crawling: https://www.cognizant.com/in/en/industries/healthcare-technology-solutions/mlops-platform\n",
      "Crawling: https://www.cognizant.com/in/en/industries/healthcare-technology-solutions/payers\n",
      "Crawling: https://www.cognizant.com/in/en/industries/healthcare-technology-solutions/pharmacy-benefit-managers\n",
      "Crawling: https://www.cognizant.com/in/en/industries/healthcare-technology-solutions/providers\n",
      "Crawling: https://www.cognizant.com/in/en/industries/healthcare-technology-solutions/virtual-health-solutions\n",
      "Crawling: https://www.cognizant.com/in/en/industries/information-services-digital-solutions\n",
      "Crawling: https://www.cognizant.com/in/en/industries/insurance-digital-transformation\n",
      "Crawling: https://www.cognizant.com/in/en/industries/insurance-digital-transformation/idt-business-process-services\n",
      "Crawling: https://www.cognizant.com/in/en/industries/insurance-digital-transformation/cognizant-policyholder-connect\n",
      "Crawling: https://www.cognizant.com/in/en/industries/insurance-digital-transformation/ai-for-insurance\n",
      "Crawling: https://www.cognizant.com/in/en/industries/insurance-digital-transformation/digital-life-annuity-solution\n",
      "Crawling: https://www.cognizant.com/in/en/industries/insurance-digital-transformation/digital-maturity-diagnostic-for-insurance\n",
      "Crawling: https://www.cognizant.com/in/en/industries/insurance-digital-transformation/digital-property-casualty-operations\n",
      "Crawling: https://www.cognizant.com/in/en/industries/insurance-digital-transformation/duckcreek-implementation-services\n",
      "Crawling: https://www.cognizant.com/in/en/industries/insurance-digital-transformation/guidewire-cloud-solution\n",
      "Crawling: https://www.cognizant.com/in/en/industries/insurance-digital-transformation/guidewire-implementation-services\n",
      "Crawling: https://www.cognizant.com/in/en/industries/insurance-digital-transformation/innovation-as-a-service\n",
      "Crawling: https://www.cognizant.com/in/en/industries/insurance-digital-transformation/insurance-intake-automation\n",
      "Crawling: https://www.cognizant.com/in/en/industries/insurance-digital-transformation/insurance-platform-modernization\n",
      "Crawling: https://www.cognizant.com/in/en/industries/insurance-digital-transformation/life-annuities\n",
      "Crawling: https://www.cognizant.com/in/en/industries/insurance-digital-transformation/open-claims-audit\n",
      "Crawling: https://www.cognizant.com/in/en/industries/insurance-digital-transformation/property-casualty\n",
      "Crawling: https://www.cognizant.com/in/en/industries/insurance-digital-transformation/rpa-as-a-service\n",
      "Crawling: https://www.cognizant.com/in/en/industries/insurance-digital-transformation/workers-compensation-care-analysis\n",
      "Crawling: https://www.cognizant.com/in/en/industries/life-sciences-technology-solutions\n",
      "Crawling: https://www.cognizant.com/in/en/industries/life-sciences-technology-solutions/lsts-business-process-services\n",
      "Crawling: https://www.cognizant.com/in/en/industries/life-sciences-technology-solutions/clinical-development\n",
      "Crawling: https://www.cognizant.com/in/en/industries/life-sciences-technology-solutions/digital-health-solutions\n",
      "Crawling: https://www.cognizant.com/in/en/industries/life-sciences-technology-solutions/discovery-preclinical-solutions\n",
      "Crawling: https://www.cognizant.com/in/en/industries/life-sciences-technology-solutions/managed-markets-services\n",
      "Crawling: https://www.cognizant.com/in/en/industries/life-sciences-technology-solutions/gmp-manufacturing-solutions\n",
      "Crawling: https://www.cognizant.com/in/en/industries/life-sciences-technology-solutions/medical-devices\n",
      "Crawling: https://www.cognizant.com/in/en/industries/life-sciences-technology-solutions/pharmaceuticals-and-biotech\n",
      "Crawling: https://www.cognizant.com/in/en/industries/life-sciences-technology-solutions/pharmacovigilance-solutions\n",
      "Crawling: https://www.cognizant.com/in/en/industries/life-sciences-technology-solutions/life-sciences-regulatory-compliance-solution\n",
      "Crawling: https://www.cognizant.com/in/en/industries/life-sciences-technology-solutions/life-sciences-digital-marketing-sales\n",
      "Crawling: https://www.cognizant.com/in/en/industries/life-sciences-technology-solutions/shared-investigator-platform\n",
      "Crawling: https://www.cognizant.com/in/en/industries/manufacturing-technology-solutions\n",
      "Crawling: https://www.cognizant.com/in/en/industries/manufacturing-technology-solutions/mts-business-process-services\n",
      "Crawling: https://www.cognizant.com/in/en/industries/manufacturing-technology-solutions/aftermarket-services\n",
      "Crawling: https://www.cognizant.com/in/en/industries/manufacturing-technology-solutions/digital-order-management\n",
      "Crawling: https://www.cognizant.com/in/en/industries/manufacturing-technology-solutions/industrial-manufacturing\n",
      "Crawling: https://www.cognizant.com/in/en/industries/manufacturing-technology-solutions/process-manufacturing\n",
      "Crawling: https://www.cognizant.com/in/en/industries/oil-gas-digital-solutions\n",
      "Crawling: https://www.cognizant.com/in/en/industries/oil-gas-digital-solutions/ogds-business-process-services\n",
      "Crawling: https://www.cognizant.com/in/en/industries/oil-gas-digital-solutions/digital-workforce-mobility-oil-gas\n",
      "Crawling: https://www.cognizant.com/in/en/industries/oil-gas-digital-solutions/downstream\n",
      "Crawling: https://www.cognizant.com/in/en/industries/oil-gas-digital-solutions/midstream\n",
      "Crawling: https://www.cognizant.com/in/en/industries/oil-gas-digital-solutions/operations-intelligence-platform-oil-gas\n",
      "Crawling: https://www.cognizant.com/in/en/industries/oil-gas-digital-solutions/upstream\n",
      "Crawling: https://www.cognizant.com/in/en/industries/retail-technology-solutions\n",
      "Crawling: https://www.cognizant.com/in/en/industries/retail-technology-solutions/rts-business-process-services\n",
      "Crawling: https://www.cognizant.com/in/en/industries/retail-technology-solutions/customer-concierge-solution\n",
      "Crawling: https://www.cognizant.com/in/en/industries/retail-technology-solutions/department-store-technology\n",
      "Crawling: https://www.cognizant.com/in/en/industries/retail-technology-solutions/discount-store-technology\n",
      "Crawling: https://www.cognizant.com/in/en/industries/retail-technology-solutions/grocery-technology\n",
      "Crawling: https://www.cognizant.com/in/en/industries/retail-technology-solutions/omnichannel-solutions\n",
      "Crawling: https://www.cognizant.com/in/en/industries/retail-technology-solutions/retail-enterprise-services\n",
      "Crawling: https://www.cognizant.com/in/en/industries/retail-technology-solutions/retail-digital-transformation\n",
      "Crawling: https://www.cognizant.com/in/en/industries/retail-technology-solutions/retail-supply-chain-solutions\n",
      "Crawling: https://www.cognizant.com/in/en/industries/retail-technology-solutions/specialty-retailers\n",
      "Crawling: https://www.cognizant.com/in/en/industries/transportation-logistics-technology-solutions\n",
      "Crawling: https://www.cognizant.com/in/en/industries/transportation-logistics-technology-solutions/tls-business-process-services\n",
      "Crawling: https://www.cognizant.com/in/en/industries/transportation-logistics-technology-solutions/carriers\n",
      "Crawling: https://www.cognizant.com/in/en/industries/transportation-logistics-technology-solutions/logistics-providers\n",
      "Crawling: https://www.cognizant.com/in/en/industries/transportation-logistics-technology-solutions/mail-and-express\n",
      "Crawling: https://www.cognizant.com/in/en/industries/transportation-logistics-technology-solutions/outbound-logistics-suite\n",
      "Crawling: https://www.cognizant.com/in/en/industries/travel-hospitality-digital-strategies\n",
      "Crawling: https://www.cognizant.com/in/en/industries/travel-hospitality-digital-strategies/aviation\n",
      "Crawling: https://www.cognizant.com/in/en/industries/travel-hospitality-digital-strategies/thds-business-process-services\n",
      "Crawling: https://www.cognizant.com/in/en/industries/travel-hospitality-digital-strategies/adaptive-spaces\n",
      "Crawling: https://www.cognizant.com/in/en/industries/travel-hospitality-digital-strategies/orderserv-omnichannel-food-ordering-solution\n",
      "Crawling: https://www.cognizant.com/in/en/industries/travel-hospitality-digital-strategies/digital-restaurant-order-management\n",
      "Crawling: https://www.cognizant.com/in/en/industries/travel-hospitality-digital-strategies/real-estate-digital-solutions\n",
      "Crawling: https://www.cognizant.com/in/en/industries/travel-hospitality-digital-strategies/restaurant-food-services\n",
      "Crawling: https://www.cognizant.com/in/en/industries/utilities-digital-solutions\n",
      "Crawling: https://www.cognizant.com/in/en/industries/utilities-digital-solutions/uds-business-process-services\n",
      "Crawling: https://www.cognizant.com/in/en/industries/utilities-digital-solutions/electricity\n",
      "Crawling: https://www.cognizant.com/in/en/industries/utilities-digital-solutions/gas\n",
      "Crawling: https://www.cognizant.com/in/en/industries/utilities-digital-solutions/utilityone-engage-customer-engagement\n",
      "Crawling: https://www.cognizant.com/in/en/industries/utilities-digital-solutions/utilityone-insights-crm\n",
      "Crawling: https://www.cognizant.com/in/en/industries/utilities-digital-solutions/water\n",
      "Crawling: https://www.cognizant.com/in/en/services/business-process-services/ai-business-accelerators\n",
      "Crawling: https://www.cognizant.com/in/en/services/neuro-intelligent-automation/neuro-edge-generative-ai\n",
      "Crawling: https://www.cognizant.com/in/en/about-cognizant/responsible-ai\n",
      "Crawling: https://www.cognizant.com/in/en/services/ai/rewire-for-ai\n",
      "Crawling: https://www.cognizant.com/in/en/services/application-services\n",
      "Crawling: https://www.cognizant.com/in/en/services/intelligent-process-automation\n",
      "Crawling: https://www.cognizant.com/in/en/services/intelligent-process-automation/neuro-cx-automation\n",
      "Crawling: https://www.cognizant.com/in/en/services/business-process-services\n",
      "Crawling: https://www.cognizant.com/in/en/services/business-process-services/ai-training-services\n",
      "Crawling: https://www.cognizant.com/in/en/services/business-process-services/scale-business-operations\n",
      "Crawling: https://www.cognizant.com/in/en/services/business-process-services/digital-finance-and-accounting-solutions\n",
      "Crawling: https://www.cognizant.com/in/en/services/business-process-services/employee-experience-services\n",
      "Crawling: https://www.cognizant.com/in/en/services/business-process-services/marketing-operations-solutions\n",
      "Crawling: https://www.cognizant.com/in/en/services/business-process-services/omnichannel-customer-care-solutions\n",
      "Crawling: https://www.cognizant.com/in/en/services/business-process-services/trust-and-safety\n",
      "Crawling: https://www.cognizant.com/in/en/services/cloud-solutions\n",
      "Crawling: https://www.cognizant.com/in/en/services/cloud-solutions/aws-cloud\n",
      "Crawling: https://www.cognizant.com/in/en/services/cloud-solutions/cognizant-skygrade\n",
      "Crawling: https://www.cognizant.com/in/en/services/cloud-solutions/microsoft-business-group\n",
      "Crawling: https://www.cognizant.com/in/en/services/neuro-intelligent-automation\n",
      "Crawling: https://www.cognizant.com/in/en/services/neuro-intelligent-automation/neuro-generative-ai-adoption\n",
      "Crawling: https://www.cognizant.com/in/en/services/neuro-intelligent-automation/neuro-ai-it-operations\n",
      "Crawling: https://www.cognizant.com/in/en/services/consulting\n",
      "Crawling: https://www.cognizant.com/in/en/services/ai\n",
      "Crawling: https://www.cognizant.com/in/en/services/ai/ai-lab\n",
      "Crawling: https://www.cognizant.com/in/en/services/ai/enterprise-ai\n",
      "Crawling: https://www.cognizant.com/in/en/services/ai/consulting\n",
      "Crawling: https://www.cognizant.com/in/en/services/ai/data-management\n",
      "Crawling: https://www.cognizant.com/in/en/services/ai/data-modernization\n",
      "Crawling: https://www.cognizant.com/in/en/services/ai/generative-ai\n",
      "Crawling: https://www.cognizant.com/in/en/services/enterprise-platform-services\n",
      "Crawling: https://www.cognizant.com/in/en/services/enterprise-platform-services/cloud-integration-brokerage\n",
      "Crawling: https://www.cognizant.com/in/en/services/enterprise-platform-services/customer-service-transformation\n",
      "Crawling: https://www.cognizant.com/in/en/services/enterprise-platform-services/oracle\n",
      "Crawling: https://www.cognizant.com/in/en/services/enterprise-platform-services/pega-platform-services\n",
      "Crawling: https://www.cognizant.com/in/en/services/enterprise-platform-services/salesforce-data-cloud-navigator\n",
      "Crawling: https://www.cognizant.com/in/en/services/enterprise-platform-services/sap-solutions\n",
      "Crawling: https://www.cognizant.com/in/en/services/enterprise-platform-services/supply-chain-management\n",
      "Crawling: https://www.cognizant.com/in/en/services/enterprise-platform-services/workday\n",
      "Crawling: https://www.cognizant.com/in/en/services/experience-services\n",
      "Crawling: https://www.cognizant.com/in/en/services/experience-services/future-of-customer-experience\n",
      "Crawling: https://www.cognizant.com/in/en/services/iot-solutions\n",
      "Crawling: https://www.cognizant.com/in/en/services/iot-solutions/drones\n",
      "Crawling: https://www.cognizant.com/in/en/services/iot-solutions/mobility-plus\n",
      "Crawling: https://www.cognizant.com/in/en/services/iot-solutions/operations-plus\n",
      "Crawling: https://www.cognizant.com/in/en/services/iot-solutions/products-plus\n",
      "Crawling: https://www.cognizant.com/in/en/services/iot-solutions/spaces-plus\n",
      "Crawling: https://www.cognizant.com/in/en/services/enterprise-quality-engineering-assurance\n",
      "Crawling: https://www.cognizant.com/in/en/services/cybersecurity-services\n",
      "Crawling: https://www.cognizant.com/in/en/services/cybersecurity-services/cyber-threat-defense\n",
      "Crawling: https://www.cognizant.com/in/en/services/cybersecurity-services/identity-access-management\n",
      "Crawling: https://www.cognizant.com/in/en/services/software-engineering-services\n",
      "Crawling: https://www.cognizant.com/in/en/services/software-engineering-services/flowsource\n",
      "Crawling: https://www.cognizant.com/in/en/services/sustainability-services\n",
      "Crawling: https://www.cognizant.com/in/en/aem-i/generative-ai-economic-model-oxford-economics\n",
      "Crawling: https://www.cognizant.com/in/en/insights/insights-blog/building-consumer-trust-in-ai-wf2729750\n",
      "Crawling: https://www.cognizant.com/in/en/insights/tech-to-watch/generative-ai\n",
      "Crawling: https://www.cognizant.com/in/en/aem-i/how-to-think-and-act-like-an-ai-native-business\n",
      "Crawling: https://www.cognizant.com/in/en/insights/insights-blog\n",
      "Crawling: https://www.cognizant.com/in/en/insights/modern-business\n",
      "Crawling: https://www.cognizant.com/in/en/insights/sustainability-resilience\n",
      "Crawling: https://www.cognizant.com/in/en/insights/tech-to-watch\n",
      "Crawling: https://www.cognizant.com/en_us/insights/documents/deep-green-business-sustainability-wf1511601.pdf\n",
      "Crawling: https://www.cognizant.com/in/en/insights/insights-blog/what-it-will-take-to-build-the-city-of-the-future-wf1505521\n",
      "Crawling: https://www.cognizant.com/publications/future-of-us/the-future-of-us-navigating-the-net-zero-era\n",
      "Error fetching https://www.cognizant.com/publications/future-of-us/the-future-of-us-navigating-the-net-zero-era: 404 Client Error: Not Found for url: https://www.cognizant.com/publications/future-of-us/the-future-of-us-navigating-the-net-zero-era\n",
      "Crawling: https://www.cognizant.com/en_us/insights/documents/ready-for-anything-what-it-means-to-be-a-modern-business-wf1189596.pdf\n",
      "Crawling: https://www.cognizant.com/en_us/insights/documents/a-pragmatists-guide-to-the-metaverse-wf1249111.pdf\n",
      "Crawling: https://www.cognizant.com/in/en/insights/experts\n",
      "Crawling: https://www.cognizant.com/in/en/case-studies\n",
      "Crawling: https://www.cognizant.com/in/en/insights\n",
      "Crawling: https://www.cognizant.com/in/en/insights/podcasts\n",
      "Crawling: https://www.cognizant.com/in/en/about-cognizant\n",
      "Crawling: https://www.cognizant.com/in/en/about-cognizant/2023-annual-report\n",
      "Crawling: https://www.cognizant.com/in/en/industry-analyst-recognition\n",
      "Crawling: https://www.cognizant.com/in/en/about-cognizant/corporate-governance/board-of-directors\n",
      "Crawling: https://www.cognizant.com/in/en/about-cognizant/client-briefing-program\n",
      "Crawling: https://www.cognizant.com/in/en/about-cognizant/contact-us\n",
      "Crawling: https://www.cognizant.com/in/en/about-cognizant/corporate-governance\n",
      "Crawling: https://www.cognizant.com/in/en/about-cognizant/culture-and-values\n",
      "Crawling: https://www.cognizant.com/in/en/about-cognizant/diversity-and-inclusion\n",
      "Crawling: https://www.cognizant.com/in/en/intuition-engineered\n",
      "Crawling: https://www.cognizant.com/in/en/about-cognizant/corporate-governance/leadership-team\n",
      "Crawling: https://www.cognizant.com/in/en/about-cognizant/partners\n",
      "Crawling: https://www.cognizant.com/in/en/about-cognizant/public-policy\n",
      "Crawling: https://www.cognizant.com/in/en/about-cognizant/sponsorships\n",
      "Crawling: https://www.cognizant.com/in/en/about-cognizant/sustainability-corporate-citizenship\n",
      "Crawling: https://www.cognizant.com/in/en/about-cognizant/talent-worldwide\n",
      "Crawling: https://www.cognizant.com/in/en/world-economic-forum\n",
      "Crawling: https://www.cognizant.com/in/en/locations\n",
      "Crawling: https://www.cognizant.com/us/en/world-economic-forum-annual-meeting-2025\n",
      "Crawling: https://www.cognizant.com/us/en/aem-i/new-minds-new-markets-ai-customer-experience\n",
      "Crawling: https://www.cognizant.com/us/en/impact-of-gen-ai-on-the-workforce\n",
      "Crawling: https://www.cognizant.com/us/en/generative-ai-adoption\n",
      "Crawling: https://www.cognizant.com/us/en/services/experience-services\n",
      "Crawling: https://www.cognizant.com/in/en#value-prop\n",
      "Crawling: https://www.cognizant.com/us/en/intuition-engineered/modernize-technology\n",
      "Crawling: https://www.cognizant.com/us/en/intuition-engineered/intelligent-processes\n",
      "Crawling: https://www.cognizant.com/us/en/intuition-engineered/experience-transformation\n",
      "Crawling: https://www.belcan.com/\n",
      "Crawling: https://www.linkedin.com/pulse/linkedin-top-companies-2024-25-workplaces-india-grow-tb1pc/\n",
      "Crawling: https://www.cognizant.com/us/en/about-cognizant/contact-us\n",
      "Crawling: https://www.cognizant.com/us/en/case-studies/tyl-by-natwest-scales-innovative-payment-solutions\n",
      "Crawling: https://www.cognizant.com/us/en/case-studies/etex-modernizes-its-it-foundation-for-a-new-era-of-sustainable-innovation\n",
      "Crawling: https://www.cognizant.com/us/en/services/cloud-solutions\n",
      "Crawling: https://www.cognizant.com/us/en/services/application-services-and-modernization\n",
      "Crawling: https://www.cognizant.com/us/en/services/ai\n",
      "Crawling: https://www.cognizant.com/in/en#hide-static\n",
      "Crawling: https://www.cognizant.com/us/en/privacy-notice\n",
      "Crawling: https://policies.google.com/privacy\n",
      "Crawling: https://policies.google.com/terms\n",
      "Crawling: https://careers.cognizant.com/india-en/\n",
      "Crawling: https://news.cognizant.com\n",
      "Crawling: https://www.linkedin.com/company/cognizant\n",
      "Crawling: https://twitter.com/cognizant\n",
      "Crawling: https://www.facebook.com/Cognizant\n",
      "Crawling: https://www.instagram.com/cognizant\n",
      "Crawling: https://www.youtube.com/cognizant\n",
      "Crawling: https://www.cognizant.com/in/en/sitemap\n",
      "Crawling: https://www.cognizant.com/in/en/terms-conditions\n",
      "Crawling: https://www.cognizant.com/in/en/privacy-notice\n",
      "Crawling: https://www.cognizant.com/in/en/cookie-notice\n",
      "Crawling: https://www.cognizant.com/in/en/services/core-application-modernization\n",
      "Crawling: https://www.cognizant.com/in/en/services/digital-strategy\n",
      "Crawling: https://www.cognizant.com/in/en/services/infrastructure-services\n",
      "Crawling: https://www.cognizant.com/deepgreen\n",
      "Crawling: https://www.cognizant.com/in/en/insights/perspectives/what-it-will-take-to-build-the-city-of-the-future-wf1505521\n",
      "Crawling: https://www.cognizant.com/us/en/gen-ai-economic-model-oxford-economics.html\n",
      "Crawling: https://www.cognizant.com/publications/future-of-us/the-future-of-us-navigating-the-net-zero-era/\n",
      "Error fetching https://www.cognizant.com/publications/future-of-us/the-future-of-us-navigating-the-net-zero-era/: 404 Client Error: Not Found for url: https://www.cognizant.com/publications/future-of-us/the-future-of-us-navigating-the-net-zero-era/\n",
      "Crawling: https://www.cognizant.com/publications/economist-future-ready/ecofuture-ready/\n",
      "Error fetching https://www.cognizant.com/publications/economist-future-ready/ecofuture-ready/: 404 Client Error: Not Found for url: https://www.cognizant.com/publications/economist-future-ready/ecofuture-ready/\n",
      "Crawling: https://www.cognizant.com/us/en/publications/metaverse-guide/\n",
      "Crawling: https://be.cognizant.com/\n",
      "Error fetching https://be.cognizant.com/: 403 Client Error: FORBIDDEN for url: https://cognizantonline.sharepoint.com/sites/Be.Cognizant/\n",
      "Crawling: https://www.cognizant.com/in/en/glossary\n",
      "Crawling: https://www.cognizant.com/in/en/information-for-suppliers\n",
      "Crawling: https://nimionlineadmission.in/adit2022/index.htm\n",
      "Crawling: https://nimionlineadmission.in/adit2022/course.htm\n",
      "Crawling: https://nimionlineadmission.in/adit2022/nstis.htm\n",
      "Crawling: https://nimionlineadmission.in/adit2022/downloads.htm\n",
      "Crawling: https://nimionlineadmission.in/adit2022/login_coun2.php\n",
      "Crawling: https://nimionlineadmission.in/adit2022/login_transfer.php\n",
      "Crawling: https://nimionlineadmission.in/adit2022/ADIT IBM-2022 4TH BATCH  Final Prospectus.pdf\n",
      "Crawling: http://www.skillsbuild.org/#content\n",
      "Crawling: http://www.skillsbuild.org/students\n",
      "Crawling: http://www.skillsbuild.org/students/course-catalog\n",
      "Crawling: http://www.skillsbuild.org/students/digital-credentials\n",
      "Crawling: http://www.skillsbuild.org/students/try-it-before-you-register\n",
      "Crawling: http://www.skillsbuild.org/college-students\n",
      "Crawling: http://www.skillsbuild.org/college-students/digital-credentials\n",
      "Crawling: http://www.skillsbuild.org/adult-learners\n",
      "Crawling: http://www.skillsbuild.org/adult-learners/explore-learning\n",
      "Crawling: http://www.skillsbuild.org/adult-learners/digital-credentials\n",
      "Crawling: http://www.skillsbuild.org/adult-learners/try-it-before-you-register\n",
      "Crawling: http://www.skillsbuild.org/secondary-educators\n",
      "Crawling: https://sso.yourlearning.ibm.com/?referer=students.yourlearning.ibm.com&strategy=guest&type=student&lang=en&source=login&redirect=https%3A%2F%2Fbundles.yourlearning.ibm.com%2Fstudents%2Fteachertoolkit%2F%23#\n",
      "Crawling: http://www.skillsbuild.org/college-educators\n",
      "Crawling: http://www.skillsbuild.org/college-educators/learning-pathways\n",
      "Crawling: http://www.skillsbuild.org/organizations-supporting-students\n",
      "Crawling: http://www.skillsbuild.org/organizations-supporting-students/request-form\n",
      "Crawling: http://www.skillsbuild.org/organizations-supporting-college-students\n",
      "Crawling: http://www.skillsbuild.org/organizations-supporting-college-students/interest-form\n",
      "Crawling: http://www.skillsbuild.org/organizations-supporting-adult-learners\n",
      "Crawling: http://www.skillsbuild.org/organizations-supporting-adult-learners/application-form\n",
      "Crawling: http://www.skillsbuild.org/events\n",
      "Crawling: http://www.ibm.com\n",
      "Crawling: http://www.skillsbuild.org/learners\n",
      "Crawling: http://www.skillsbuild.org/educators\n",
      "Crawling: http://www.skillsbuild.org/organizations\n",
      "Crawling: https://www.burningglassinstitute.org/research/skills-for-a-sustainable-future\n",
      "Crawling: https://newsroom.ibm.com/2023-09-18-IBM-Commits-to-Train-2-Million-in-Artificial-Intelligence-in-Three-Years,-with-a-Focus-on-Underrepresented-Communities?utm_date=ALWAYSON&utm_program=ibmskillsbuild&utm_medium=organic&utm_source=skillsbuildorg&utm_campaign=ai_announcement&utm_ids=NEWS&id=1199\n",
      "Crawling: https://newsroom.ibm.com/2021-10-13-IBM-Commits-to-Skill-30-Million-People-Globally-by-2030\n",
      "Crawling: http://www.skillsbuild.org/#sb-footer\n",
      "Crawling: http://www.skillsbuild.org/frequently-asked-questions\n",
      "Crawling: http://www.skillsbuild.org/contact\n",
      "Crawling: https://www.ibm.com/privacy\n",
      "Crawling: http://www.skillsbuild.org/terms-of-use-students-and-educators\n",
      "Crawling: https://www.ibm.com/legal\n",
      "Crawling: https://www.ibm.com/able\n",
      "Crawling: http://www.skillsbuild.org/security-and-standards-students-and-educators\n",
      "Crawling: http://techsaksham.org\n",
      "Crawling: http://techsaksham.org/program\n",
      "Crawling: http://techsaksham.org/student-development-program\n",
      "Crawling: http://techsaksham.org/faculty-development-program\n",
      "Crawling: http://techsaksham.org/curriculum\n",
      "Crawling: http://techsaksham.org/events\n",
      "Crawling: http://techsaksham.org/expert-session\n",
      "Crawling: http://techsaksham.org/student-journey\n",
      "Crawling: http://techsaksham.org/placement\n",
      "Crawling: http://techsaksham.org/login\n",
      "Crawling: mailto:tsp@edunetfoundation.org\n",
      "Error fetching mailto:tsp@edunetfoundation.org: No connection adapters were found for 'mailto:tsp@edunetfoundation.org'\n",
      "Crawling: http://techsaksham.org/#top\n",
      "Crawling: http://www.vigyanjyoti.com/#content\n",
      "Crawling: https://vigyanjyoti.com/\n",
      "Crawling: https://vigyanjyoti.com/yojana\n",
      "Crawling: https://vigyanjyoti.com/blog\n",
      "Crawling: https://vigyanjyoti.com/about-us\n",
      "Crawling: https://vigyanjyoti.com/privacy-policy\n",
      "Crawling: https://vigyanjyoti.com/contact-us\n",
      "Crawling: https://vigyanjyoti.com/disclaimer\n",
      "Crawling: https://vigyanjyoti.com/upma-alankar-ki-paribhasha\n",
      "Crawling: https://vigyanjyoti.com/alankar-ki-paribhasha\n",
      "Crawling: https://vigyanjyoti.com/sangya-ki-paribhasha\n",
      "Crawling: https://vigyanjyoti.com/rajniti-vigyan-ki-paribhasha\n",
      "Crawling: https://vigyanjyoti.com/ladli-behna-yojana-status\n",
      "Crawling: https://vigyanjyoti.com/vigyan-ki-paribhasha\n",
      "Crawling: https://vigyanjyoti.com/dnpa-code-of-ethics\n",
      "Crawling: https://guidestarindia.org/default.aspx\n",
      "Crawling: javascript:WebForm_DoPostBackWithOptions(new WebForm_PostBackOptions(\"ctl06\", \"\", true, \"\", \"\", false, true))\n",
      "Error fetching javascript:WebForm_DoPostBackWithOptions(new WebForm_PostBackOptions(\"ctl06\", \"\", true, \"\", \"\", false, true)): No connection adapters were found for 'javascript:WebForm_DoPostBackWithOptions(new WebForm_PostBackOptions(\"ctl06\", \"\", true, \"\", \"\", false, true))'\n",
      "Crawling: https://guidestarindia.org/advsearch.aspx\n",
      "Crawling: https://guidestarindia.org/Summary.aspx?mode=logout\n",
      "Crawling: https://guidestarindia.org/Default.aspx\n",
      "Crawling: https://guidestarindia.org/Search.aspx\n",
      "Crawling: https://guidestarindia.org/Summary.aspx?ccreg=12268\n",
      "Crawling: https://guidestarindia.org/DefaultOLD.aspx\n",
      "Crawling: https://guidestarindia.org/About.aspx\n",
      "Crawling: https://guidestarindia.org/AdvSearch.aspx\n",
      "Crawling: https://guidestarindia.org/Activites.aspx?ccreg=12268\n",
      "Crawling: https://guidestarindia.org/Organisation.aspx?ccreg=12268\n",
      "Crawling: https://guidestarindia.org/Finances.aspx?ccreg=12268\n",
      "Crawling: https://guidestarindia.org/Documents.aspx?ccreg=12268\n",
      "Crawling: https://guidestarindia.org/Legal__FCRA_Compliance.aspx\n",
      "Crawling: https://guidestarindia.org/Campaigns.aspx\n",
      "Crawling: https://guidestarindia.org/Corporate_Engagement.aspx\n",
      "Crawling: https://guidestarindia.org/Help.aspx\n",
      "Crawling: https://guidestarindia.org/Quick%20Search.aspx\n",
      "Crawling: https://guidestarindia.org/Register.aspx\n",
      "Crawling: https://guidestarindia.org/Login.aspx\n",
      "Crawling: https://guidestarindia.org/resourcesforngos.aspx\n",
      "Crawling: https://guidestarindia.org/List_of_NGOs.aspx\n",
      "Crawling: https://guidestarindia.org/Careers_Opportunities.aspx\n",
      "Crawling: https://guidestarindia.org/GivingTuesdayIndia.aspx\n",
      "Crawling: https://guidestarindia.org/India_CSO_Reports.aspx\n",
      "Crawling: https://guidestarindia.org/CertifiedNGOs.aspx\n",
      "Crawling: https://guidestarindia.org/Contact.aspx\n",
      "Crawling: https://guidestarindia.org/Organisation.aspx?CCReg=12268\n",
      "Crawling: https://guidestarindia.org/Activites.aspx?CCReg=12268\n",
      "Crawling: https://guidestarindia.org/Finances.aspx?CCReg=12268\n",
      "Crawling: https://guidestarindia.org/Documents.aspx?CCReg=12268\n",
      "Crawling: mailto:info@edunetfoundation.org\n",
      "Error fetching mailto:info@edunetfoundation.org: No connection adapters were found for 'mailto:info@edunetfoundation.org'\n",
      "Crawling: https://www.edunetfoundation.org/\n",
      "Crawling: https://guidestarindia.org/Uploads/e0606755-0601-4634-9a4c-0c8ea47d46d4/RPT_CPSPM_6553750_30993.PDF\n",
      "Crawling: https://guidestarindia.org/Summary.aspx?CCReg=12268#intro\n",
      "Crawling: https://guidestarindia.org/Summary.aspx?CCReg=12268#CollapseSection2\n",
      "Crawling: https://guidestarindia.org/Summary.aspx?CCReg=12268#CollapseSection4\n",
      "Crawling: https://guidestarindia.org/Summary.aspx?CCReg=12268#CollapseSection15\n",
      "Crawling: https://guidestarindia.org/Summary.aspx?CCReg=12268#howToHelp\n",
      "Crawling: https://guidestarindia.org/Summary.aspx?CCReg=12268#content\n",
      "Crawling: javascript:__doPostBack('SectionPlaceHolder1$ctl01$DynVariableList4$ctl09$Il8nLinkButton1','')\n",
      "Error fetching javascript:__doPostBack('SectionPlaceHolder1$ctl01$DynVariableList4$ctl09$Il8nLinkButton1',''): No connection adapters were found for \"javascript:__doPostBack('SectionPlaceHolder1$ctl01$DynVariableList4$ctl09$Il8nLinkButton1','')\"\n",
      "Crawling: javascript:__doPostBack('SectionPlaceHolder1$ctl01$DynVariableList4$ctl07$Il8nLinkButton2','')\n",
      "Error fetching javascript:__doPostBack('SectionPlaceHolder1$ctl01$DynVariableList4$ctl07$Il8nLinkButton2',''): No connection adapters were found for \"javascript:__doPostBack('SectionPlaceHolder1$ctl01$DynVariableList4$ctl07$Il8nLinkButton2','')\"\n",
      "Crawling: https://guidestarindia.org/Uploads/e0606755-0601-4634-9a4c-0c8ea47d46d4/2018-19%20EF%20ITRV.pdf\n",
      "Error fetching https://guidestarindia.org/Uploads/e0606755-0601-4634-9a4c-0c8ea47d46d4/2018-19%20EF%20ITRV.pdf: 404 Client Error: Not Found for url: https://guidestarindia.org/Uploads/e0606755-0601-4634-9a4c-0c8ea47d46d4/2018-19%20EF%20ITRV.pdf\n",
      "Crawling: https://guidestarindia.org/Privacy.aspx\n",
      "Crawling: https://guidestarindia.org/Terms.aspx\n",
      "Crawling: https://guidestarindia.org/Disclaimer.aspx\n",
      "Crawling: https://guidestarindia.org/Feedback.aspx\n",
      "Crawling: http://tellafriend.socialtwist.com:80\n",
      "Error fetching http://tellafriend.socialtwist.com:80: 403 Client Error: Forbidden for url: http://tellafriend.socialtwist.com:80/\n",
      "Crawling: https://wordpress.org/\n",
      "Crawling: https://edunetfoundation.org/wp-login.php?action=lostpassword\n",
      "Crawling: https://edunetfoundation.org/privacy-policy/\n",
      "Crawling: https://edunetfoundation.org/wp-login.php\n"
     ]
    }
   ],
   "source": [
    "import requests\n",
    "from bs4 import BeautifulSoup\n",
    "from urllib.parse import urljoin\n",
    "import time \n",
    "\n",
    "def fetch_page(url):\n",
    "    try: \n",
    "        response = requests.get(url) \n",
    "        response.raise_for_status()  \n",
    "        return response.text\n",
    "    except requests.exceptions.RequestException as e: \n",
    "        print(f\"Error fetching {url}: {e}\") \n",
    "        return None \n",
    "\n",
    "def extract_links(html, base_url):  \n",
    "    soup = BeautifulSoup(html, 'lxml')\n",
    "    links = [] \n",
    "    for link in soup.find_all('a', href=True): \n",
    "        full_url = urljoin(base_url, link['href']) \n",
    "        links.append(full_url) \n",
    "    return links \n",
    "\n",
    "def crawl(start_url, max_depth=2): \n",
    "    visited = set() \n",
    "    to_visit = [(start_url, 0)] \n",
    "    \n",
    "    while to_visit: \n",
    "        current_url, depth = to_visit.pop(0) \n",
    "        \n",
    "        if depth > max_depth: \n",
    "            continue \n",
    "            \n",
    "        if current_url in visited:\n",
    "            continue\n",
    "            \n",
    "        print(f\"Crawling: {current_url}\")\n",
    "        visited.add(current_url) \n",
    "        \n",
    "        html = fetch_page(current_url)\n",
    "        if html is None:\n",
    "            continue \n",
    "\n",
    "        links = extract_links(html, current_url)\n",
    "        for link in links:\n",
    "            if link not in visited:\n",
    "                to_visit.append((link, depth + 1)) \n",
    "        time.sleep(1) \n",
    "\n",
    "start_url = \"https://edunetfoundation.org/\"\n",
    "crawl(start_url, max_depth=2)\n"
   ]
  },
  {
   "cell_type": "code",
   "execution_count": null,
   "id": "01abeea8-3688-40b1-b6d9-5f152942cf9f",
   "metadata": {},
   "outputs": [],
   "source": [
    " "
   ]
  }
 ],
 "metadata": {
  "kernelspec": {
   "display_name": "Python 3 (ipykernel)",
   "language": "python",
   "name": "python3"
  },
  "language_info": {
   "codemirror_mode": {
    "name": "ipython",
    "version": 3
   },
   "file_extension": ".py",
   "mimetype": "text/x-python",
   "name": "python",
   "nbconvert_exporter": "python",
   "pygments_lexer": "ipython3",
   "version": "3.12.7"
  }
 },
 "nbformat": 4,
 "nbformat_minor": 5
}
